{
 "cells": [
  {
   "cell_type": "markdown",
   "metadata": {},
   "source": [
    "# Подготовка датасета"
   ]
  },
  {
   "cell_type": "markdown",
   "metadata": {},
   "source": [
    "## Загрузка данных"
   ]
  },
  {
   "cell_type": "markdown",
   "metadata": {},
   "source": [
    "### https://www.kaggle.com/mikhailklemin/kinopoisks-movies-reviews "
   ]
  },
  {
   "cell_type": "code",
   "execution_count": 1,
   "metadata": {},
   "outputs": [],
   "source": [
    "import json\n",
    "import pandas as pd\n",
    "import os"
   ]
  },
  {
   "cell_type": "code",
   "execution_count": 2,
   "metadata": {},
   "outputs": [],
   "source": [
    "def read_files(path):\n",
    "    result = []\n",
    "    files = os.listdir(path)\n",
    "    for f in files:\n",
    "        with open (f'{path}/{f}', \"r\", encoding=\"utf-8\") as file:\n",
    "            data = file.read().replace('\\n', '')\n",
    "            result.append(data)\n",
    "    \n",
    "    return result\n",
    "\n",
    "negative_reviews = read_files('kinopoisk/neg')\n",
    "neutral_reviews = read_files('kinopoisk/neu')\n",
    "positive_reviews = read_files('kinopoisk/pos')\n",
    "\n",
    "negative_reviews_df = pd.DataFrame(data={'text': negative_reviews, 'sentiment': -1})\n",
    "neutral_reviews_df = pd.DataFrame(data={'text': neutral_reviews, 'sentiment': 0})\n",
    "positive_reviews_df = pd.DataFrame(data={'text': positive_reviews, 'sentiment': 1})\n",
    "\n",
    "reviews_df = negative_reviews_df.append(neutral_reviews_df).append(positive_reviews_df)"
   ]
  },
  {
   "cell_type": "code",
   "execution_count": 3,
   "metadata": {},
   "outputs": [
    {
     "data": {
      "text/plain": [
       "array([-1,  0,  1], dtype=int64)"
      ]
     },
     "execution_count": 3,
     "metadata": {},
     "output_type": "execute_result"
    }
   ],
   "source": [
    "reviews_df['sentiment'].unique()"
   ]
  },
  {
   "cell_type": "code",
   "execution_count": 4,
   "metadata": {},
   "outputs": [
    {
     "data": {
      "text/html": [
       "<div>\n",
       "<style scoped>\n",
       "    .dataframe tbody tr th:only-of-type {\n",
       "        vertical-align: middle;\n",
       "    }\n",
       "\n",
       "    .dataframe tbody tr th {\n",
       "        vertical-align: top;\n",
       "    }\n",
       "\n",
       "    .dataframe thead th {\n",
       "        text-align: right;\n",
       "    }\n",
       "</style>\n",
       "<table border=\"1\" class=\"dataframe\">\n",
       "  <thead>\n",
       "    <tr style=\"text-align: right;\">\n",
       "      <th></th>\n",
       "      <th>text</th>\n",
       "      <th>sentiment</th>\n",
       "    </tr>\n",
       "  </thead>\n",
       "  <tbody>\n",
       "    <tr>\n",
       "      <th>0</th>\n",
       "      <td>В 2003-ем году под руководством малоизвестного...</td>\n",
       "      <td>-1</td>\n",
       "    </tr>\n",
       "    <tr>\n",
       "      <th>1</th>\n",
       "      <td>Грустно и печально. Грустно от того, что довол...</td>\n",
       "      <td>-1</td>\n",
       "    </tr>\n",
       "    <tr>\n",
       "      <th>2</th>\n",
       "      <td>Давным-давно Кира Найтли ворвалась на экран от...</td>\n",
       "      <td>-1</td>\n",
       "    </tr>\n",
       "    <tr>\n",
       "      <th>3</th>\n",
       "      <td>Я, в общем, ничего против уравновешенного феми...</td>\n",
       "      <td>-1</td>\n",
       "    </tr>\n",
       "    <tr>\n",
       "      <th>4</th>\n",
       "      <td>Измена — один из сюжетов, который всегда будет...</td>\n",
       "      <td>-1</td>\n",
       "    </tr>\n",
       "  </tbody>\n",
       "</table>\n",
       "</div>"
      ],
      "text/plain": [
       "                                                text  sentiment\n",
       "0  В 2003-ем году под руководством малоизвестного...         -1\n",
       "1  Грустно и печально. Грустно от того, что довол...         -1\n",
       "2  Давным-давно Кира Найтли ворвалась на экран от...         -1\n",
       "3  Я, в общем, ничего против уравновешенного феми...         -1\n",
       "4  Измена — один из сюжетов, который всегда будет...         -1"
      ]
     },
     "execution_count": 4,
     "metadata": {},
     "output_type": "execute_result"
    }
   ],
   "source": [
    "reviews_df.head()"
   ]
  },
  {
   "cell_type": "markdown",
   "metadata": {},
   "source": [
    "### https://www.kaggle.com/c/sentiment-analysis-in-russian/overview"
   ]
  },
  {
   "cell_type": "code",
   "execution_count": 5,
   "metadata": {},
   "outputs": [],
   "source": [
    "with open ('russian_news.json', \"r\", encoding=\"utf-8\") as file:\n",
    "    data = file.read().replace('\\n', '')\n",
    "\n",
    "json_data = json.loads(data)\n",
    "news_df = pd.DataFrame(json_data)\n",
    "\n",
    "def reformat_sentiment(sentiment):\n",
    "    if sentiment == 'negative':\n",
    "        return -1\n",
    "    if sentiment == 'positive':\n",
    "        return 1\n",
    "    if sentiment == 'neutral':\n",
    "        return 0\n",
    "    \n",
    "    return None\n",
    "\n",
    "news_df['sentiment'] = news_df['sentiment'].apply(reformat_sentiment)"
   ]
  },
  {
   "cell_type": "code",
   "execution_count": 6,
   "metadata": {},
   "outputs": [
    {
     "data": {
      "text/plain": [
       "array([-1,  1,  0], dtype=int64)"
      ]
     },
     "execution_count": 6,
     "metadata": {},
     "output_type": "execute_result"
    }
   ],
   "source": [
    "news_df['sentiment'].unique()"
   ]
  },
  {
   "cell_type": "code",
   "execution_count": 7,
   "metadata": {},
   "outputs": [
    {
     "data": {
      "text/html": [
       "<div>\n",
       "<style scoped>\n",
       "    .dataframe tbody tr th:only-of-type {\n",
       "        vertical-align: middle;\n",
       "    }\n",
       "\n",
       "    .dataframe tbody tr th {\n",
       "        vertical-align: top;\n",
       "    }\n",
       "\n",
       "    .dataframe thead th {\n",
       "        text-align: right;\n",
       "    }\n",
       "</style>\n",
       "<table border=\"1\" class=\"dataframe\">\n",
       "  <thead>\n",
       "    <tr style=\"text-align: right;\">\n",
       "      <th></th>\n",
       "      <th>text</th>\n",
       "      <th>sentiment</th>\n",
       "    </tr>\n",
       "  </thead>\n",
       "  <tbody>\n",
       "    <tr>\n",
       "      <th>0</th>\n",
       "      <td>Досудебное расследование по факту покупки ЕНПФ...</td>\n",
       "      <td>-1</td>\n",
       "    </tr>\n",
       "    <tr>\n",
       "      <th>1</th>\n",
       "      <td>Медики рассказали о состоянии пострадавшего му...</td>\n",
       "      <td>-1</td>\n",
       "    </tr>\n",
       "    <tr>\n",
       "      <th>2</th>\n",
       "      <td>Прошел почти год, как железнодорожным оператор...</td>\n",
       "      <td>-1</td>\n",
       "    </tr>\n",
       "    <tr>\n",
       "      <th>3</th>\n",
       "      <td>По итогам 12 месяцев 2016 года на территории р...</td>\n",
       "      <td>-1</td>\n",
       "    </tr>\n",
       "    <tr>\n",
       "      <th>4</th>\n",
       "      <td>Астана. 21 ноября. Kazakhstan Today - Агентств...</td>\n",
       "      <td>-1</td>\n",
       "    </tr>\n",
       "  </tbody>\n",
       "</table>\n",
       "</div>"
      ],
      "text/plain": [
       "                                                text  sentiment\n",
       "0  Досудебное расследование по факту покупки ЕНПФ...         -1\n",
       "1  Медики рассказали о состоянии пострадавшего му...         -1\n",
       "2  Прошел почти год, как железнодорожным оператор...         -1\n",
       "3  По итогам 12 месяцев 2016 года на территории р...         -1\n",
       "4  Астана. 21 ноября. Kazakhstan Today - Агентств...         -1"
      ]
     },
     "execution_count": 7,
     "metadata": {},
     "output_type": "execute_result"
    }
   ],
   "source": [
    "news_df = news_df[['text', 'sentiment']]\n",
    "news_df.head()"
   ]
  },
  {
   "cell_type": "markdown",
   "metadata": {},
   "source": [
    "### https://github.com/sismetanin/rureviews"
   ]
  },
  {
   "cell_type": "code",
   "execution_count": 8,
   "metadata": {},
   "outputs": [],
   "source": [
    "women_clothing_df = pd.read_csv('rureviews.csv', encoding='UTF-8', sep='\\t')\n",
    "\n",
    "def reformat_sentiment_with_typo(sentiment):\n",
    "    if sentiment == 'negative':\n",
    "        return -1\n",
    "    if sentiment == 'positive':\n",
    "        return 1\n",
    "    if sentiment == 'neautral':\n",
    "        return 0\n",
    "    \n",
    "    return None\n",
    "\n",
    "women_clothing_df['sentiment'] = women_clothing_df['sentiment'].apply(reformat_sentiment_with_typo)"
   ]
  },
  {
   "cell_type": "code",
   "execution_count": 9,
   "metadata": {},
   "outputs": [
    {
     "data": {
      "text/plain": [
       "array([-1,  0,  1], dtype=int64)"
      ]
     },
     "execution_count": 9,
     "metadata": {},
     "output_type": "execute_result"
    }
   ],
   "source": [
    "women_clothing_df['sentiment'].unique()"
   ]
  },
  {
   "cell_type": "code",
   "execution_count": 10,
   "metadata": {},
   "outputs": [
    {
     "data": {
      "text/html": [
       "<div>\n",
       "<style scoped>\n",
       "    .dataframe tbody tr th:only-of-type {\n",
       "        vertical-align: middle;\n",
       "    }\n",
       "\n",
       "    .dataframe tbody tr th {\n",
       "        vertical-align: top;\n",
       "    }\n",
       "\n",
       "    .dataframe thead th {\n",
       "        text-align: right;\n",
       "    }\n",
       "</style>\n",
       "<table border=\"1\" class=\"dataframe\">\n",
       "  <thead>\n",
       "    <tr style=\"text-align: right;\">\n",
       "      <th></th>\n",
       "      <th>text</th>\n",
       "      <th>sentiment</th>\n",
       "    </tr>\n",
       "  </thead>\n",
       "  <tbody>\n",
       "    <tr>\n",
       "      <th>0</th>\n",
       "      <td>качество плохое пошив ужасный (горловина напер...</td>\n",
       "      <td>-1</td>\n",
       "    </tr>\n",
       "    <tr>\n",
       "      <th>1</th>\n",
       "      <td>Товар отдали другому человеку, я не получила п...</td>\n",
       "      <td>-1</td>\n",
       "    </tr>\n",
       "    <tr>\n",
       "      <th>2</th>\n",
       "      <td>Ужасная синтетика! Тонкая, ничего общего с пре...</td>\n",
       "      <td>-1</td>\n",
       "    </tr>\n",
       "    <tr>\n",
       "      <th>3</th>\n",
       "      <td>товар не пришел, продавец продлил защиту без м...</td>\n",
       "      <td>-1</td>\n",
       "    </tr>\n",
       "    <tr>\n",
       "      <th>4</th>\n",
       "      <td>Кофточка голая синтетика, носить не возможно.</td>\n",
       "      <td>-1</td>\n",
       "    </tr>\n",
       "  </tbody>\n",
       "</table>\n",
       "</div>"
      ],
      "text/plain": [
       "                                                text  sentiment\n",
       "0  качество плохое пошив ужасный (горловина напер...         -1\n",
       "1  Товар отдали другому человеку, я не получила п...         -1\n",
       "2  Ужасная синтетика! Тонкая, ничего общего с пре...         -1\n",
       "3  товар не пришел, продавец продлил защиту без м...         -1\n",
       "4      Кофточка голая синтетика, носить не возможно.         -1"
      ]
     },
     "execution_count": 10,
     "metadata": {},
     "output_type": "execute_result"
    }
   ],
   "source": [
    "women_clothing_df.columns = ['text', 'sentiment']\n",
    "women_clothing_df.head()"
   ]
  },
  {
   "cell_type": "markdown",
   "metadata": {},
   "source": [
    "### rusentiment"
   ]
  },
  {
   "cell_type": "code",
   "execution_count": 11,
   "metadata": {},
   "outputs": [],
   "source": [
    "rusentiment_df1 = pd.read_csv('rusentiment/rusentiment_preselected_posts.csv')\n",
    "rusentiment_df2 = pd.read_csv('rusentiment/rusentiment_random_posts.csv')\n",
    "rusentiment_df3 = pd.read_csv('rusentiment/rusentiment_test.csv')\n",
    "\n",
    "rusentiment_df = rusentiment_df1.append(rusentiment_df2).append(rusentiment_df3)\n",
    "rusentiment_df['sentiment'] = rusentiment_df['label'].apply(reformat_sentiment)"
   ]
  },
  {
   "cell_type": "code",
   "execution_count": 12,
   "metadata": {},
   "outputs": [
    {
     "data": {
      "text/plain": [
       "array([ 0., -1., nan,  1.])"
      ]
     },
     "execution_count": 12,
     "metadata": {},
     "output_type": "execute_result"
    }
   ],
   "source": [
    "rusentiment_df['sentiment'].unique()"
   ]
  },
  {
   "cell_type": "code",
   "execution_count": 13,
   "metadata": {},
   "outputs": [
    {
     "data": {
      "text/html": [
       "<div>\n",
       "<style scoped>\n",
       "    .dataframe tbody tr th:only-of-type {\n",
       "        vertical-align: middle;\n",
       "    }\n",
       "\n",
       "    .dataframe tbody tr th {\n",
       "        vertical-align: top;\n",
       "    }\n",
       "\n",
       "    .dataframe thead th {\n",
       "        text-align: right;\n",
       "    }\n",
       "</style>\n",
       "<table border=\"1\" class=\"dataframe\">\n",
       "  <thead>\n",
       "    <tr style=\"text-align: right;\">\n",
       "      <th></th>\n",
       "      <th>text</th>\n",
       "      <th>sentiment</th>\n",
       "    </tr>\n",
       "  </thead>\n",
       "  <tbody>\n",
       "    <tr>\n",
       "      <th>0</th>\n",
       "      <td>Прорвём информационную блокаду изнутри.</td>\n",
       "      <td>0.0</td>\n",
       "    </tr>\n",
       "    <tr>\n",
       "      <th>1</th>\n",
       "      <td>Никогда у меня не будет \"одного приложения для...</td>\n",
       "      <td>-1.0</td>\n",
       "    </tr>\n",
       "    <tr>\n",
       "      <th>2</th>\n",
       "      <td>Кури-и тебя не укусит злая собака, потому что ...</td>\n",
       "      <td>NaN</td>\n",
       "    </tr>\n",
       "    <tr>\n",
       "      <th>3</th>\n",
       "      <td>Есть 3 типа людей:\\nУмные, которые делают все ...</td>\n",
       "      <td>0.0</td>\n",
       "    </tr>\n",
       "    <tr>\n",
       "      <th>4</th>\n",
       "      <td>мегафон чет накрыло</td>\n",
       "      <td>0.0</td>\n",
       "    </tr>\n",
       "  </tbody>\n",
       "</table>\n",
       "</div>"
      ],
      "text/plain": [
       "                                                text  sentiment\n",
       "0           Прорвём информационную блокаду изнутри.         0.0\n",
       "1  Никогда у меня не будет \"одного приложения для...       -1.0\n",
       "2  Кури-и тебя не укусит злая собака, потому что ...        NaN\n",
       "3  Есть 3 типа людей:\\nУмные, которые делают все ...        0.0\n",
       "4                                мегафон чет накрыло        0.0"
      ]
     },
     "execution_count": 13,
     "metadata": {},
     "output_type": "execute_result"
    }
   ],
   "source": [
    "rusentiment_df = rusentiment_df[['text', 'sentiment']]\n",
    "rusentiment_df.head()"
   ]
  },
  {
   "cell_type": "markdown",
   "metadata": {},
   "source": [
    "## Объединенный dataset"
   ]
  },
  {
   "cell_type": "code",
   "execution_count": 14,
   "metadata": {},
   "outputs": [],
   "source": [
    "from functools import reduce"
   ]
  },
  {
   "cell_type": "code",
   "execution_count": 15,
   "metadata": {},
   "outputs": [
    {
     "data": {
      "text/html": [
       "<div>\n",
       "<style scoped>\n",
       "    .dataframe tbody tr th:only-of-type {\n",
       "        vertical-align: middle;\n",
       "    }\n",
       "\n",
       "    .dataframe tbody tr th {\n",
       "        vertical-align: top;\n",
       "    }\n",
       "\n",
       "    .dataframe thead th {\n",
       "        text-align: right;\n",
       "    }\n",
       "</style>\n",
       "<table border=\"1\" class=\"dataframe\">\n",
       "  <thead>\n",
       "    <tr style=\"text-align: right;\">\n",
       "      <th></th>\n",
       "      <th>text</th>\n",
       "      <th>sentiment</th>\n",
       "    </tr>\n",
       "  </thead>\n",
       "  <tbody>\n",
       "    <tr>\n",
       "      <th>0</th>\n",
       "      <td>В 2003-ем году под руководством малоизвестного...</td>\n",
       "      <td>-1.0</td>\n",
       "    </tr>\n",
       "    <tr>\n",
       "      <th>1</th>\n",
       "      <td>Грустно и печально. Грустно от того, что довол...</td>\n",
       "      <td>-1.0</td>\n",
       "    </tr>\n",
       "    <tr>\n",
       "      <th>2</th>\n",
       "      <td>Давным-давно Кира Найтли ворвалась на экран от...</td>\n",
       "      <td>-1.0</td>\n",
       "    </tr>\n",
       "    <tr>\n",
       "      <th>3</th>\n",
       "      <td>Я, в общем, ничего против уравновешенного феми...</td>\n",
       "      <td>-1.0</td>\n",
       "    </tr>\n",
       "    <tr>\n",
       "      <th>4</th>\n",
       "      <td>Измена — один из сюжетов, который всегда будет...</td>\n",
       "      <td>-1.0</td>\n",
       "    </tr>\n",
       "  </tbody>\n",
       "</table>\n",
       "</div>"
      ],
      "text/plain": [
       "                                                text  sentiment\n",
       "0  В 2003-ем году под руководством малоизвестного...       -1.0\n",
       "1  Грустно и печально. Грустно от того, что довол...       -1.0\n",
       "2  Давным-давно Кира Найтли ворвалась на экран от...       -1.0\n",
       "3  Я, в общем, ничего против уравновешенного феми...       -1.0\n",
       "4  Измена — один из сюжетов, который всегда будет...       -1.0"
      ]
     },
     "execution_count": 15,
     "metadata": {},
     "output_type": "execute_result"
    }
   ],
   "source": [
    "total_dfs = [reviews_df, news_df, women_clothing_df, rusentiment_df]    \n",
    "total_df = reduce(lambda left, right: left.append(right), total_dfs)\n",
    "\n",
    "total_df = total_df[total_df['sentiment'].notnull()]\n",
    "total_df = total_df[total_df['text'].notnull()]\n",
    "\n",
    "total_df.head()"
   ]
  },
  {
   "cell_type": "code",
   "execution_count": 16,
   "metadata": {},
   "outputs": [],
   "source": [
    "total_df.to_csv('total.csv')"
   ]
  },
  {
   "cell_type": "markdown",
   "metadata": {},
   "source": [
    "# Подготовка данных"
   ]
  },
  {
   "cell_type": "code",
   "execution_count": 17,
   "metadata": {},
   "outputs": [],
   "source": [
    "total_df['word_count'] = total_df['text'].apply(lambda x: len([word for word in x.split(' ')]))"
   ]
  },
  {
   "cell_type": "markdown",
   "metadata": {},
   "source": [
    "## Упрощенная предобработка текста\n",
    "\n",
    "1. Заменить знаки препинания \\n на пробелы\n",
    "2. Убрать заведомо \"бракованные\" примеры - слова с длиной более чем 35 символов (максимальная длина слова в русском языке)\n",
    "3. Убрать все символы кроме русских букв\n",
    "4. Убрать стоп-слова\n",
    "\n",
    "### Дополнительная обработка (специфичная для текущего набора данных)\n",
    "\n",
    "* Разбить рускоязычные хэштеги на слова\n",
    "* Заменить смайлики на оцениваемые слова\n",
    "* * Предварительно убрать парные скобки\n",
    "* \"Схлопнуть\" дублирующиеся буквы: \"отлииииииично\" -> \"отлично\"\n",
    "* Заменить очевидные оценки на оцениваемые слова: \"10 из 10\" -> \"отличный\"\n",
    "\n",
    "### Обязательная обработка после балансировки набора данных\n",
    "* Стеммизация/лемматизация"
   ]
  },
  {
   "cell_type": "code",
   "execution_count": 18,
   "metadata": {},
   "outputs": [
    {
     "name": "stderr",
     "output_type": "stream",
     "text": [
      "D:\\SoftwareProjects\\anaconda3\\envs\\tf-gpu\\lib\\site-packages\\tqdm\\std.py:697: FutureWarning: The Panel class is removed from pandas. Accessing it from the top-level namespace will also be removed in the next version\n",
      "  from pandas import Panel\n"
     ]
    }
   ],
   "source": [
    "import numpy as np\n",
    "from tqdm import tqdm\n",
    "tqdm.pandas()\n",
    "\n",
    "import re\n",
    "import string"
   ]
  },
  {
   "cell_type": "code",
   "execution_count": 19,
   "metadata": {},
   "outputs": [
    {
     "name": "stdout",
     "output_type": "stream",
     "text": [
      "['а', 'без', 'более', 'больше', 'будет', 'будто', 'бы', 'был', 'была', 'были', 'было', 'быть', 'в', 'вам', 'вас', 'вдруг', 'ведь', 'во', 'вот', 'впрочем', 'все', 'всегда', 'всего', 'всех', 'всю', 'вы', 'где', 'да', 'даже', 'два', 'для', 'до', 'другой', 'его', 'ее', 'ей', 'ему', 'если', 'есть', 'еще', 'ж', 'же', 'за', 'зачем', 'здесь', 'и', 'из', 'или', 'им', 'иногда', 'их', 'к', 'как', 'какая', 'какой', 'когда', 'конечно', 'кто', 'куда', 'ли', 'лучше', 'между', 'меня', 'мне', 'много', 'может', 'можно', 'мой', 'моя', 'мы', 'на', 'над', 'надо', 'наконец', 'нас', 'него', 'нее', 'ней', 'нельзя', 'ни', 'нибудь', 'никогда', 'ним', 'них', 'ничего', 'но', 'ну', 'о', 'об', 'один', 'он', 'она', 'они', 'опять', 'от', 'перед', 'по', 'под', 'после', 'потом', 'потому', 'почти', 'при', 'про', 'раз', 'разве', 'с', 'сам', 'свою', 'себе', 'себя', 'сейчас', 'со', 'совсем', 'так', 'такой', 'там', 'тебя', 'тем', 'теперь', 'то', 'тогда', 'того', 'тоже', 'только', 'том', 'тот', 'три', 'тут', 'ты', 'у', 'уж', 'уже', 'хорошо', 'хоть', 'чего', 'чем', 'через', 'что', 'чтоб', 'чтобы', 'чуть', 'эти', 'этого', 'этой', 'этом', 'этот', 'эту', 'я']\n"
     ]
    },
    {
     "name": "stderr",
     "output_type": "stream",
     "text": [
      "[nltk_data] Downloading package stopwords to\n",
      "[nltk_data]     C:\\Users\\Dmitry\\AppData\\Roaming\\nltk_data...\n",
      "[nltk_data]   Package stopwords is already up-to-date!\n",
      "[nltk_data] Downloading package punkt to\n",
      "[nltk_data]     C:\\Users\\Dmitry\\AppData\\Roaming\\nltk_data...\n",
      "[nltk_data]   Package punkt is already up-to-date!\n"
     ]
    }
   ],
   "source": [
    "import nltk\n",
    "from nltk.corpus import stopwords\n",
    "\n",
    "nltk.download('stopwords')\n",
    "nltk.download('punkt')\n",
    "\n",
    "russian_stopwords = stopwords.words(\"russian\")\n",
    "\n",
    "russian_stopwords.remove('не')\n",
    "russian_stopwords.remove('нет')\n",
    "\n",
    "russian_stopwords.sort()\n",
    "print(russian_stopwords)\n",
    "russian_stopwords = set(russian_stopwords)"
   ]
  },
  {
   "cell_type": "code",
   "execution_count": 20,
   "metadata": {},
   "outputs": [],
   "source": [
    "import re\n",
    "import string\n",
    "\n",
    "positive = ' радость '\n",
    "negative = ' грусть '\n",
    "\n",
    "def split_hash_tag(row):\n",
    "    match = re.search(r\"#([А-Яа-я]+)\", row)\n",
    "    if match and match.group(1):\n",
    "        replacements = ' '.join(re.findall('[А-Я][^А-Я]*', match.group(1)))\n",
    "        return row.replace(match.group(0), replacements)\n",
    "    \n",
    "    return row\n",
    "\n",
    "def remove_parenthesis_pairs(row):\n",
    "    row = re.sub(r'((\\(|\\[|\\{)(.*)(\\)|\\]|\\}))', '\\g<2>', row)\n",
    "    return row\n",
    "\n",
    "def replace_smiles(row):    \n",
    "    row = re.sub(r'((:|;|=|8)?(-|%|5|c|с)?(\\)|\\]|\\}|3)+|😜|😄|😂|💋|♥)', positive, row)\n",
    "    row = re.sub(r'((:|;|=|8)(-|%|5|c|с)?(d|p|\\*)+)', positive, row)\n",
    "    \n",
    "    row = re.sub(r'((:|;|=|8)?\\'?(-|%|5|c|с)?(\\(|\\[|\\{)+)', negative, row)\n",
    "    row = re.sub(r'((:|;|=|8)\\'?(-|%|5|c|с)?(g|o)+)', negative, row)\n",
    "    \n",
    "    return row\n",
    "\n",
    "def replace_obvious_scores(row):\n",
    "    row = re.sub(r'([7-9]|1[0-9]) из 10', positive, row)\n",
    "    row = re.sub(r'[0-4] из 10', negative, row)\n",
    "    return row\n",
    "\n",
    "def collapse_same_letters(row):\n",
    "    row = re.sub(r'([а-яё])\\1{2,}', '\\g<1>', row)\n",
    "    return row\n",
    "\n",
    "def remove_stop_words(row):\n",
    "    words = row.split(' ')\n",
    "    row = ' '.join([word for word in words if word not in russian_stopwords])\n",
    "    return row\n",
    "\n",
    "def preprocessing(row):\n",
    "    row = split_hash_tag(row)\n",
    "    row = row.lower()\n",
    "    row = row.replace('\\n', ' ')\n",
    "    row = row.replace('ё', 'е')\n",
    "    \n",
    "    row = remove_parenthesis_pairs(row)\n",
    "    row = replace_smiles(row)\n",
    "    row = replace_obvious_scores(row)\n",
    "    row = collapse_same_letters(row)\n",
    "    \n",
    "    row = remove_stop_words(row)\n",
    "        \n",
    "    row = re.sub(r\"[^а-я ]\", \" \", row)\n",
    "    row = re.sub(r\"[а-я]{35,}\", \"\", row)\n",
    "    row = re.sub(r\" {2,}\", \" \", row)\n",
    "    row = row.strip()                   \n",
    "    return row"
   ]
  },
  {
   "cell_type": "code",
   "execution_count": 21,
   "metadata": {},
   "outputs": [
    {
     "name": "stderr",
     "output_type": "stream",
     "text": [
      "100%|██████████| 253210/253210 [02:22<00:00, 1775.09it/s] \n",
      "100%|██████████| 253210/253210 [00:03<00:00, 73713.89it/s] \n"
     ]
    },
    {
     "data": {
      "text/html": [
       "<div>\n",
       "<style scoped>\n",
       "    .dataframe tbody tr th:only-of-type {\n",
       "        vertical-align: middle;\n",
       "    }\n",
       "\n",
       "    .dataframe tbody tr th {\n",
       "        vertical-align: top;\n",
       "    }\n",
       "\n",
       "    .dataframe thead th {\n",
       "        text-align: right;\n",
       "    }\n",
       "</style>\n",
       "<table border=\"1\" class=\"dataframe\">\n",
       "  <thead>\n",
       "    <tr style=\"text-align: right;\">\n",
       "      <th></th>\n",
       "      <th>text</th>\n",
       "      <th>sentiment</th>\n",
       "      <th>word_count</th>\n",
       "      <th>preprocessed</th>\n",
       "    </tr>\n",
       "  </thead>\n",
       "  <tbody>\n",
       "    <tr>\n",
       "      <th>0</th>\n",
       "      <td>В 2003-ем году под руководством малоизвестного...</td>\n",
       "      <td>-1.0</td>\n",
       "      <td>26</td>\n",
       "      <td>отличный ем году руководством малоизвестного р...</td>\n",
       "    </tr>\n",
       "    <tr>\n",
       "      <th>1</th>\n",
       "      <td>Грустно и печально. Грустно от того, что довол...</td>\n",
       "      <td>-1.0</td>\n",
       "      <td>249</td>\n",
       "      <td>грустно печально грустно того довольно неплохо...</td>\n",
       "    </tr>\n",
       "    <tr>\n",
       "      <th>2</th>\n",
       "      <td>Давным-давно Кира Найтли ворвалась на экран от...</td>\n",
       "      <td>-1.0</td>\n",
       "      <td>241</td>\n",
       "      <td>давным давно кира найтли ворвалась экран отваж...</td>\n",
       "    </tr>\n",
       "    <tr>\n",
       "      <th>3</th>\n",
       "      <td>Я, в общем, ничего против уравновешенного феми...</td>\n",
       "      <td>-1.0</td>\n",
       "      <td>195</td>\n",
       "      <td>я общем против уравновешенного феминизма не им...</td>\n",
       "    </tr>\n",
       "    <tr>\n",
       "      <th>4</th>\n",
       "      <td>Измена — один из сюжетов, который всегда будет...</td>\n",
       "      <td>-1.0</td>\n",
       "      <td>201</td>\n",
       "      <td>измена сюжетов который вызывать интерес зрител...</td>\n",
       "    </tr>\n",
       "  </tbody>\n",
       "</table>\n",
       "</div>"
      ],
      "text/plain": [
       "                                                text  sentiment  word_count  \\\n",
       "0  В 2003-ем году под руководством малоизвестного...       -1.0          26   \n",
       "1  Грустно и печально. Грустно от того, что довол...       -1.0         249   \n",
       "2  Давным-давно Кира Найтли ворвалась на экран от...       -1.0         241   \n",
       "3  Я, в общем, ничего против уравновешенного феми...       -1.0         195   \n",
       "4  Измена — один из сюжетов, который всегда будет...       -1.0         201   \n",
       "\n",
       "                                        preprocessed  \n",
       "0  отличный ем году руководством малоизвестного р...  \n",
       "1  грустно печально грустно того довольно неплохо...  \n",
       "2  давным давно кира найтли ворвалась экран отваж...  \n",
       "3  я общем против уравновешенного феминизма не им...  \n",
       "4  измена сюжетов который вызывать интерес зрител...  "
      ]
     },
     "execution_count": 21,
     "metadata": {},
     "output_type": "execute_result"
    }
   ],
   "source": [
    "total_df['preprocessed'] = total_df['text'].progress_apply(preprocessing)\n",
    "total_df['word_count'] = total_df['preprocessed'].progress_apply(lambda x: len([word for word in x.split(' ') if word is not '']))\n",
    "\n",
    "total_df = total_df[(total_df['word_count'] > 0)]\n",
    "total_df.head()"
   ]
  },
  {
   "cell_type": "markdown",
   "metadata": {},
   "source": [
    "## Анализ качества данных"
   ]
  },
  {
   "cell_type": "code",
   "execution_count": 22,
   "metadata": {},
   "outputs": [
    {
     "data": {
      "text/html": [
       "<div>\n",
       "<style scoped>\n",
       "    .dataframe tbody tr th:only-of-type {\n",
       "        vertical-align: middle;\n",
       "    }\n",
       "\n",
       "    .dataframe tbody tr th {\n",
       "        vertical-align: top;\n",
       "    }\n",
       "\n",
       "    .dataframe thead th {\n",
       "        text-align: right;\n",
       "    }\n",
       "</style>\n",
       "<table border=\"1\" class=\"dataframe\">\n",
       "  <thead>\n",
       "    <tr style=\"text-align: right;\">\n",
       "      <th></th>\n",
       "      <th>sentiment</th>\n",
       "      <th>word_count</th>\n",
       "    </tr>\n",
       "  </thead>\n",
       "  <tbody>\n",
       "    <tr>\n",
       "      <th>count</th>\n",
       "      <td>251950.000000</td>\n",
       "      <td>251950.000000</td>\n",
       "    </tr>\n",
       "    <tr>\n",
       "      <th>mean</th>\n",
       "      <td>0.283024</td>\n",
       "      <td>109.404108</td>\n",
       "    </tr>\n",
       "    <tr>\n",
       "      <th>std</th>\n",
       "      <td>0.798686</td>\n",
       "      <td>132.979737</td>\n",
       "    </tr>\n",
       "    <tr>\n",
       "      <th>min</th>\n",
       "      <td>-1.000000</td>\n",
       "      <td>1.000000</td>\n",
       "    </tr>\n",
       "    <tr>\n",
       "      <th>25%</th>\n",
       "      <td>0.000000</td>\n",
       "      <td>11.000000</td>\n",
       "    </tr>\n",
       "    <tr>\n",
       "      <th>50%</th>\n",
       "      <td>1.000000</td>\n",
       "      <td>63.000000</td>\n",
       "    </tr>\n",
       "    <tr>\n",
       "      <th>75%</th>\n",
       "      <td>1.000000</td>\n",
       "      <td>169.000000</td>\n",
       "    </tr>\n",
       "    <tr>\n",
       "      <th>max</th>\n",
       "      <td>1.000000</td>\n",
       "      <td>4971.000000</td>\n",
       "    </tr>\n",
       "  </tbody>\n",
       "</table>\n",
       "</div>"
      ],
      "text/plain": [
       "           sentiment     word_count\n",
       "count  251950.000000  251950.000000\n",
       "mean        0.283024     109.404108\n",
       "std         0.798686     132.979737\n",
       "min        -1.000000       1.000000\n",
       "25%         0.000000      11.000000\n",
       "50%         1.000000      63.000000\n",
       "75%         1.000000     169.000000\n",
       "max         1.000000    4971.000000"
      ]
     },
     "execution_count": 22,
     "metadata": {},
     "output_type": "execute_result"
    }
   ],
   "source": [
    "total_df.describe()"
   ]
  },
  {
   "cell_type": "code",
   "execution_count": 23,
   "metadata": {},
   "outputs": [
    {
     "data": {
      "text/html": [
       "<div>\n",
       "<style scoped>\n",
       "    .dataframe tbody tr th:only-of-type {\n",
       "        vertical-align: middle;\n",
       "    }\n",
       "\n",
       "    .dataframe tbody tr th {\n",
       "        vertical-align: top;\n",
       "    }\n",
       "\n",
       "    .dataframe thead th {\n",
       "        text-align: right;\n",
       "    }\n",
       "</style>\n",
       "<table border=\"1\" class=\"dataframe\">\n",
       "  <thead>\n",
       "    <tr style=\"text-align: right;\">\n",
       "      <th></th>\n",
       "      <th>sentiment</th>\n",
       "      <th>word_count</th>\n",
       "    </tr>\n",
       "  </thead>\n",
       "  <tbody>\n",
       "    <tr>\n",
       "      <th>sentiment</th>\n",
       "      <td>1.000000</td>\n",
       "      <td>0.186806</td>\n",
       "    </tr>\n",
       "    <tr>\n",
       "      <th>word_count</th>\n",
       "      <td>0.186806</td>\n",
       "      <td>1.000000</td>\n",
       "    </tr>\n",
       "  </tbody>\n",
       "</table>\n",
       "</div>"
      ],
      "text/plain": [
       "            sentiment  word_count\n",
       "sentiment    1.000000    0.186806\n",
       "word_count   0.186806    1.000000"
      ]
     },
     "execution_count": 23,
     "metadata": {},
     "output_type": "execute_result"
    }
   ],
   "source": [
    "total_df.corr()"
   ]
  },
  {
   "cell_type": "markdown",
   "metadata": {},
   "source": [
    "Избавимся от сверх-длинных записей"
   ]
  },
  {
   "cell_type": "code",
   "execution_count": 24,
   "metadata": {},
   "outputs": [
    {
     "data": {
      "text/html": [
       "<div>\n",
       "<style scoped>\n",
       "    .dataframe tbody tr th:only-of-type {\n",
       "        vertical-align: middle;\n",
       "    }\n",
       "\n",
       "    .dataframe tbody tr th {\n",
       "        vertical-align: top;\n",
       "    }\n",
       "\n",
       "    .dataframe thead th {\n",
       "        text-align: right;\n",
       "    }\n",
       "</style>\n",
       "<table border=\"1\" class=\"dataframe\">\n",
       "  <thead>\n",
       "    <tr style=\"text-align: right;\">\n",
       "      <th></th>\n",
       "      <th>sentiment</th>\n",
       "      <th>word_count</th>\n",
       "    </tr>\n",
       "  </thead>\n",
       "  <tbody>\n",
       "    <tr>\n",
       "      <th>count</th>\n",
       "      <td>231571.000000</td>\n",
       "      <td>231571.000000</td>\n",
       "    </tr>\n",
       "    <tr>\n",
       "      <th>mean</th>\n",
       "      <td>0.264036</td>\n",
       "      <td>81.348709</td>\n",
       "    </tr>\n",
       "    <tr>\n",
       "      <th>std</th>\n",
       "      <td>0.800783</td>\n",
       "      <td>83.132365</td>\n",
       "    </tr>\n",
       "    <tr>\n",
       "      <th>min</th>\n",
       "      <td>-1.000000</td>\n",
       "      <td>1.000000</td>\n",
       "    </tr>\n",
       "    <tr>\n",
       "      <th>25%</th>\n",
       "      <td>0.000000</td>\n",
       "      <td>10.000000</td>\n",
       "    </tr>\n",
       "    <tr>\n",
       "      <th>50%</th>\n",
       "      <td>0.000000</td>\n",
       "      <td>44.000000</td>\n",
       "    </tr>\n",
       "    <tr>\n",
       "      <th>75%</th>\n",
       "      <td>1.000000</td>\n",
       "      <td>142.000000</td>\n",
       "    </tr>\n",
       "    <tr>\n",
       "      <th>max</th>\n",
       "      <td>1.000000</td>\n",
       "      <td>299.000000</td>\n",
       "    </tr>\n",
       "  </tbody>\n",
       "</table>\n",
       "</div>"
      ],
      "text/plain": [
       "           sentiment     word_count\n",
       "count  231571.000000  231571.000000\n",
       "mean        0.264036      81.348709\n",
       "std         0.800783      83.132365\n",
       "min        -1.000000       1.000000\n",
       "25%         0.000000      10.000000\n",
       "50%         0.000000      44.000000\n",
       "75%         1.000000     142.000000\n",
       "max         1.000000     299.000000"
      ]
     },
     "execution_count": 24,
     "metadata": {},
     "output_type": "execute_result"
    }
   ],
   "source": [
    "total_df = total_df[total_df['word_count'] < 300]\n",
    "total_df.describe()"
   ]
  },
  {
   "cell_type": "code",
   "execution_count": 25,
   "metadata": {},
   "outputs": [
    {
     "data": {
      "text/plain": [
       " 1.0    112891\n",
       " 0.0     66932\n",
       "-1.0     51748\n",
       "Name: sentiment, dtype: int64"
      ]
     },
     "execution_count": 25,
     "metadata": {},
     "output_type": "execute_result"
    }
   ],
   "source": [
    "total_df['sentiment'].value_counts()"
   ]
  },
  {
   "cell_type": "markdown",
   "metadata": {},
   "source": [
    "Так как нейтральные высказывания в абсолютном меньшинстве, будем отталкиваться от их числа при формировании финального датасета"
   ]
  },
  {
   "cell_type": "code",
   "execution_count": 26,
   "metadata": {},
   "outputs": [
    {
     "data": {
      "text/html": [
       "<div>\n",
       "<style scoped>\n",
       "    .dataframe tbody tr th:only-of-type {\n",
       "        vertical-align: middle;\n",
       "    }\n",
       "\n",
       "    .dataframe tbody tr th {\n",
       "        vertical-align: top;\n",
       "    }\n",
       "\n",
       "    .dataframe thead th {\n",
       "        text-align: right;\n",
       "    }\n",
       "</style>\n",
       "<table border=\"1\" class=\"dataframe\">\n",
       "  <thead>\n",
       "    <tr style=\"text-align: right;\">\n",
       "      <th></th>\n",
       "      <th>sentiment</th>\n",
       "      <th>word_count</th>\n",
       "    </tr>\n",
       "  </thead>\n",
       "  <tbody>\n",
       "    <tr>\n",
       "      <th>count</th>\n",
       "      <td>66932.0</td>\n",
       "      <td>66932.000000</td>\n",
       "    </tr>\n",
       "    <tr>\n",
       "      <th>mean</th>\n",
       "      <td>0.0</td>\n",
       "      <td>59.782376</td>\n",
       "    </tr>\n",
       "    <tr>\n",
       "      <th>std</th>\n",
       "      <td>0.0</td>\n",
       "      <td>76.368872</td>\n",
       "    </tr>\n",
       "    <tr>\n",
       "      <th>min</th>\n",
       "      <td>0.0</td>\n",
       "      <td>1.000000</td>\n",
       "    </tr>\n",
       "    <tr>\n",
       "      <th>25%</th>\n",
       "      <td>0.0</td>\n",
       "      <td>6.000000</td>\n",
       "    </tr>\n",
       "    <tr>\n",
       "      <th>50%</th>\n",
       "      <td>0.0</td>\n",
       "      <td>17.000000</td>\n",
       "    </tr>\n",
       "    <tr>\n",
       "      <th>75%</th>\n",
       "      <td>0.0</td>\n",
       "      <td>101.000000</td>\n",
       "    </tr>\n",
       "    <tr>\n",
       "      <th>max</th>\n",
       "      <td>0.0</td>\n",
       "      <td>299.000000</td>\n",
       "    </tr>\n",
       "  </tbody>\n",
       "</table>\n",
       "</div>"
      ],
      "text/plain": [
       "       sentiment    word_count\n",
       "count    66932.0  66932.000000\n",
       "mean         0.0     59.782376\n",
       "std          0.0     76.368872\n",
       "min          0.0      1.000000\n",
       "25%          0.0      6.000000\n",
       "50%          0.0     17.000000\n",
       "75%          0.0    101.000000\n",
       "max          0.0    299.000000"
      ]
     },
     "execution_count": 26,
     "metadata": {},
     "output_type": "execute_result"
    }
   ],
   "source": [
    "neutral_sentiment_df = total_df[total_df['sentiment'] == 0]\n",
    "neutral_sentiment_df.describe()"
   ]
  },
  {
   "cell_type": "code",
   "execution_count": 27,
   "metadata": {},
   "outputs": [
    {
     "data": {
      "text/plain": [
       "<AxesSubplot:>"
      ]
     },
     "execution_count": 27,
     "metadata": {},
     "output_type": "execute_result"
    },
    {
     "data": {
      "image/png": "[encoded data removed]",
      "text/plain": [
       "<Figure size 432x288 with 1 Axes>"
      ]
     },
     "metadata": {
      "needs_background": "light"
     },
     "output_type": "display_data"
    }
   ],
   "source": [
    "neutral_sentiment_df['word_count'].hist(bins=40)"
   ]
  },
  {
   "cell_type": "markdown",
   "metadata": {},
   "source": [
    "Для балансировки можно сгруппировать по количеству слов диапазонами по 5 и взять из каждой группы по одинаковому количеству записей для каждого класса\n",
    "\n",
    "### Для ускорения процесса искусственно ограничимся примерами до 100 слов"
   ]
  },
  {
   "cell_type": "code",
   "execution_count": 28,
   "metadata": {},
   "outputs": [],
   "source": [
    "max_word_count = 100\n",
    "step = 5\n",
    "max_word_count_rounded = max_word_count - max_word_count % step"
   ]
  },
  {
   "cell_type": "code",
   "execution_count": 29,
   "metadata": {},
   "outputs": [
    {
     "data": {
      "text/html": [
       "<div>\n",
       "<style scoped>\n",
       "    .dataframe tbody tr th:only-of-type {\n",
       "        vertical-align: middle;\n",
       "    }\n",
       "\n",
       "    .dataframe tbody tr th {\n",
       "        vertical-align: top;\n",
       "    }\n",
       "\n",
       "    .dataframe thead th {\n",
       "        text-align: right;\n",
       "    }\n",
       "</style>\n",
       "<table border=\"1\" class=\"dataframe\">\n",
       "  <thead>\n",
       "    <tr style=\"text-align: right;\">\n",
       "      <th></th>\n",
       "      <th>sentiment</th>\n",
       "      <th>word_count</th>\n",
       "      <th>wc_group</th>\n",
       "    </tr>\n",
       "  </thead>\n",
       "  <tbody>\n",
       "    <tr>\n",
       "      <th>count</th>\n",
       "      <td>146573.000000</td>\n",
       "      <td>146573.000000</td>\n",
       "      <td>146573.000000</td>\n",
       "    </tr>\n",
       "    <tr>\n",
       "      <th>mean</th>\n",
       "      <td>0.129731</td>\n",
       "      <td>25.381660</td>\n",
       "      <td>4.670615</td>\n",
       "    </tr>\n",
       "    <tr>\n",
       "      <th>std</th>\n",
       "      <td>0.801006</td>\n",
       "      <td>26.958083</td>\n",
       "      <td>5.397209</td>\n",
       "    </tr>\n",
       "    <tr>\n",
       "      <th>min</th>\n",
       "      <td>-1.000000</td>\n",
       "      <td>1.000000</td>\n",
       "      <td>0.000000</td>\n",
       "    </tr>\n",
       "    <tr>\n",
       "      <th>25%</th>\n",
       "      <td>-1.000000</td>\n",
       "      <td>6.000000</td>\n",
       "      <td>1.000000</td>\n",
       "    </tr>\n",
       "    <tr>\n",
       "      <th>50%</th>\n",
       "      <td>0.000000</td>\n",
       "      <td>13.000000</td>\n",
       "      <td>2.000000</td>\n",
       "    </tr>\n",
       "    <tr>\n",
       "      <th>75%</th>\n",
       "      <td>1.000000</td>\n",
       "      <td>35.000000</td>\n",
       "      <td>7.000000</td>\n",
       "    </tr>\n",
       "    <tr>\n",
       "      <th>max</th>\n",
       "      <td>1.000000</td>\n",
       "      <td>99.000000</td>\n",
       "      <td>19.000000</td>\n",
       "    </tr>\n",
       "  </tbody>\n",
       "</table>\n",
       "</div>"
      ],
      "text/plain": [
       "           sentiment     word_count       wc_group\n",
       "count  146573.000000  146573.000000  146573.000000\n",
       "mean        0.129731      25.381660       4.670615\n",
       "std         0.801006      26.958083       5.397209\n",
       "min        -1.000000       1.000000       0.000000\n",
       "25%        -1.000000       6.000000       1.000000\n",
       "50%         0.000000      13.000000       2.000000\n",
       "75%         1.000000      35.000000       7.000000\n",
       "max         1.000000      99.000000      19.000000"
      ]
     },
     "execution_count": 29,
     "metadata": {},
     "output_type": "execute_result"
    }
   ],
   "source": [
    "total_df = total_df[total_df['word_count'] < max_word_count_rounded]\n",
    "total_df['wc_group'] = total_df['word_count'].apply(lambda x: int(x / step))\n",
    "total_df.describe()"
   ]
  },
  {
   "cell_type": "code",
   "execution_count": 30,
   "metadata": {},
   "outputs": [
    {
     "data": {
      "text/html": [
       "<div>\n",
       "<style scoped>\n",
       "    .dataframe tbody tr th:only-of-type {\n",
       "        vertical-align: middle;\n",
       "    }\n",
       "\n",
       "    .dataframe tbody tr th {\n",
       "        vertical-align: top;\n",
       "    }\n",
       "\n",
       "    .dataframe thead th {\n",
       "        text-align: right;\n",
       "    }\n",
       "</style>\n",
       "<table border=\"1\" class=\"dataframe\">\n",
       "  <thead>\n",
       "    <tr style=\"text-align: right;\">\n",
       "      <th></th>\n",
       "      <th>sentiment</th>\n",
       "      <th>word_count</th>\n",
       "      <th>wc_group</th>\n",
       "    </tr>\n",
       "  </thead>\n",
       "  <tbody>\n",
       "    <tr>\n",
       "      <th>sentiment</th>\n",
       "      <td>1.000000</td>\n",
       "      <td>0.158670</td>\n",
       "      <td>0.157981</td>\n",
       "    </tr>\n",
       "    <tr>\n",
       "      <th>word_count</th>\n",
       "      <td>0.158670</td>\n",
       "      <td>1.000000</td>\n",
       "      <td>0.998664</td>\n",
       "    </tr>\n",
       "    <tr>\n",
       "      <th>wc_group</th>\n",
       "      <td>0.157981</td>\n",
       "      <td>0.998664</td>\n",
       "      <td>1.000000</td>\n",
       "    </tr>\n",
       "  </tbody>\n",
       "</table>\n",
       "</div>"
      ],
      "text/plain": [
       "            sentiment  word_count  wc_group\n",
       "sentiment    1.000000    0.158670  0.157981\n",
       "word_count   0.158670    1.000000  0.998664\n",
       "wc_group     0.157981    0.998664  1.000000"
      ]
     },
     "execution_count": 30,
     "metadata": {},
     "output_type": "execute_result"
    }
   ],
   "source": [
    "total_df.corr()"
   ]
  },
  {
   "cell_type": "code",
   "execution_count": 31,
   "metadata": {},
   "outputs": [],
   "source": [
    "positive_sentiment_df = total_df[total_df['sentiment'] ==  1]\n",
    "neutral_sentiment_df =  total_df[total_df['sentiment'] ==  0]\n",
    "negative_sentiment_df = total_df[total_df['sentiment'] == -1]"
   ]
  },
  {
   "cell_type": "code",
   "execution_count": 32,
   "metadata": {},
   "outputs": [
    {
     "data": {
      "text/html": [
       "<div>\n",
       "<style scoped>\n",
       "    .dataframe tbody tr th:only-of-type {\n",
       "        vertical-align: middle;\n",
       "    }\n",
       "\n",
       "    .dataframe tbody tr th {\n",
       "        vertical-align: top;\n",
       "    }\n",
       "\n",
       "    .dataframe thead th {\n",
       "        text-align: right;\n",
       "    }\n",
       "</style>\n",
       "<table border=\"1\" class=\"dataframe\">\n",
       "  <thead>\n",
       "    <tr style=\"text-align: right;\">\n",
       "      <th></th>\n",
       "      <th>positive</th>\n",
       "      <th>neutral</th>\n",
       "      <th>negative</th>\n",
       "    </tr>\n",
       "  </thead>\n",
       "  <tbody>\n",
       "    <tr>\n",
       "      <th>0</th>\n",
       "      <td>8137</td>\n",
       "      <td>10942</td>\n",
       "      <td>3801</td>\n",
       "    </tr>\n",
       "    <tr>\n",
       "      <th>1</th>\n",
       "      <td>11064</td>\n",
       "      <td>12873</td>\n",
       "      <td>10023</td>\n",
       "    </tr>\n",
       "    <tr>\n",
       "      <th>2</th>\n",
       "      <td>7118</td>\n",
       "      <td>7145</td>\n",
       "      <td>7086</td>\n",
       "    </tr>\n",
       "    <tr>\n",
       "      <th>3</th>\n",
       "      <td>4438</td>\n",
       "      <td>4173</td>\n",
       "      <td>4281</td>\n",
       "    </tr>\n",
       "    <tr>\n",
       "      <th>4</th>\n",
       "      <td>2880</td>\n",
       "      <td>2634</td>\n",
       "      <td>2731</td>\n",
       "    </tr>\n",
       "    <tr>\n",
       "      <th>5</th>\n",
       "      <td>2044</td>\n",
       "      <td>1846</td>\n",
       "      <td>1892</td>\n",
       "    </tr>\n",
       "    <tr>\n",
       "      <th>6</th>\n",
       "      <td>1605</td>\n",
       "      <td>1440</td>\n",
       "      <td>1373</td>\n",
       "    </tr>\n",
       "    <tr>\n",
       "      <th>7</th>\n",
       "      <td>1425</td>\n",
       "      <td>1078</td>\n",
       "      <td>1040</td>\n",
       "    </tr>\n",
       "    <tr>\n",
       "      <th>8</th>\n",
       "      <td>1346</td>\n",
       "      <td>880</td>\n",
       "      <td>797</td>\n",
       "    </tr>\n",
       "    <tr>\n",
       "      <th>9</th>\n",
       "      <td>1233</td>\n",
       "      <td>795</td>\n",
       "      <td>694</td>\n",
       "    </tr>\n",
       "    <tr>\n",
       "      <th>10</th>\n",
       "      <td>1302</td>\n",
       "      <td>736</td>\n",
       "      <td>589</td>\n",
       "    </tr>\n",
       "    <tr>\n",
       "      <th>11</th>\n",
       "      <td>1386</td>\n",
       "      <td>641</td>\n",
       "      <td>571</td>\n",
       "    </tr>\n",
       "    <tr>\n",
       "      <th>12</th>\n",
       "      <td>1421</td>\n",
       "      <td>623</td>\n",
       "      <td>460</td>\n",
       "    </tr>\n",
       "    <tr>\n",
       "      <th>13</th>\n",
       "      <td>1501</td>\n",
       "      <td>580</td>\n",
       "      <td>511</td>\n",
       "    </tr>\n",
       "    <tr>\n",
       "      <th>14</th>\n",
       "      <td>1645</td>\n",
       "      <td>621</td>\n",
       "      <td>459</td>\n",
       "    </tr>\n",
       "    <tr>\n",
       "      <th>15</th>\n",
       "      <td>1772</td>\n",
       "      <td>612</td>\n",
       "      <td>483</td>\n",
       "    </tr>\n",
       "    <tr>\n",
       "      <th>16</th>\n",
       "      <td>1767</td>\n",
       "      <td>603</td>\n",
       "      <td>472</td>\n",
       "    </tr>\n",
       "    <tr>\n",
       "      <th>17</th>\n",
       "      <td>1870</td>\n",
       "      <td>623</td>\n",
       "      <td>473</td>\n",
       "    </tr>\n",
       "    <tr>\n",
       "      <th>18</th>\n",
       "      <td>1888</td>\n",
       "      <td>608</td>\n",
       "      <td>496</td>\n",
       "    </tr>\n",
       "    <tr>\n",
       "      <th>19</th>\n",
       "      <td>1920</td>\n",
       "      <td>611</td>\n",
       "      <td>515</td>\n",
       "    </tr>\n",
       "  </tbody>\n",
       "</table>\n",
       "</div>"
      ],
      "text/plain": [
       "    positive  neutral  negative\n",
       "0       8137    10942      3801\n",
       "1      11064    12873     10023\n",
       "2       7118     7145      7086\n",
       "3       4438     4173      4281\n",
       "4       2880     2634      2731\n",
       "5       2044     1846      1892\n",
       "6       1605     1440      1373\n",
       "7       1425     1078      1040\n",
       "8       1346      880       797\n",
       "9       1233      795       694\n",
       "10      1302      736       589\n",
       "11      1386      641       571\n",
       "12      1421      623       460\n",
       "13      1501      580       511\n",
       "14      1645      621       459\n",
       "15      1772      612       483\n",
       "16      1767      603       472\n",
       "17      1870      623       473\n",
       "18      1888      608       496\n",
       "19      1920      611       515"
      ]
     },
     "execution_count": 32,
     "metadata": {},
     "output_type": "execute_result"
    }
   ],
   "source": [
    "positive_stats = positive_sentiment_df['wc_group'].value_counts(sort=False).to_frame()\n",
    "neutral_stats = neutral_sentiment_df['wc_group'].value_counts(sort=False).to_frame()\n",
    "negative_stats = negative_sentiment_df['wc_group'].value_counts(sort=False).to_frame()\n",
    "\n",
    "stats = [positive_stats, neutral_stats, negative_stats]\n",
    "stats_df = reduce(lambda left, right: pd.merge(left, right, left_index=True, right_index=True), stats)\n",
    "stats_df.columns = ['positive', 'neutral', 'negative']\n",
    "\n",
    "stats_df"
   ]
  },
  {
   "cell_type": "markdown",
   "metadata": {},
   "source": [
    "## Выводы и ограничения\n",
    "Для равномерности распределения по классам и длительности текста необходимо из каждой группы от 0 (1-5 слов) по 19 (95-100 слов) брать по одинаковому количеству примеров"
   ]
  },
  {
   "cell_type": "code",
   "execution_count": 33,
   "metadata": {},
   "outputs": [
    {
     "data": {
      "text/html": [
       "<div>\n",
       "<style scoped>\n",
       "    .dataframe tbody tr th:only-of-type {\n",
       "        vertical-align: middle;\n",
       "    }\n",
       "\n",
       "    .dataframe tbody tr th {\n",
       "        vertical-align: top;\n",
       "    }\n",
       "\n",
       "    .dataframe thead th {\n",
       "        text-align: right;\n",
       "    }\n",
       "</style>\n",
       "<table border=\"1\" class=\"dataframe\">\n",
       "  <thead>\n",
       "    <tr style=\"text-align: right;\">\n",
       "      <th></th>\n",
       "      <th>text</th>\n",
       "      <th>sentiment</th>\n",
       "      <th>word_count</th>\n",
       "      <th>preprocessed</th>\n",
       "      <th>wc_group</th>\n",
       "    </tr>\n",
       "  </thead>\n",
       "  <tbody>\n",
       "    <tr>\n",
       "      <th>19810</th>\n",
       "      <td>Герои детства!</td>\n",
       "      <td>1.0</td>\n",
       "      <td>2</td>\n",
       "      <td>герои детства</td>\n",
       "      <td>0</td>\n",
       "    </tr>\n",
       "    <tr>\n",
       "      <th>15238</th>\n",
       "      <td>ШиКаРна БаБа=»»</td>\n",
       "      <td>1.0</td>\n",
       "      <td>2</td>\n",
       "      <td>шикарна баба</td>\n",
       "      <td>0</td>\n",
       "    </tr>\n",
       "    <tr>\n",
       "      <th>68559</th>\n",
       "      <td>Всё отлично.супер платье.советую</td>\n",
       "      <td>1.0</td>\n",
       "      <td>4</td>\n",
       "      <td>отлично супер платье советую</td>\n",
       "      <td>0</td>\n",
       "    </tr>\n",
       "    <tr>\n",
       "      <th>1980</th>\n",
       "      <td>хочу дождь!!!</td>\n",
       "      <td>1.0</td>\n",
       "      <td>2</td>\n",
       "      <td>хочу дождь</td>\n",
       "      <td>0</td>\n",
       "    </tr>\n",
       "    <tr>\n",
       "      <th>78819</th>\n",
       "      <td>пришло быстро, норм</td>\n",
       "      <td>1.0</td>\n",
       "      <td>3</td>\n",
       "      <td>пришло быстро норм</td>\n",
       "      <td>0</td>\n",
       "    </tr>\n",
       "  </tbody>\n",
       "</table>\n",
       "</div>"
      ],
      "text/plain": [
       "                                    text  sentiment  word_count  \\\n",
       "19810                     Герои детства!        1.0           2   \n",
       "15238                    ШиКаРна БаБа=»»        1.0           2   \n",
       "68559  Всё отлично.супер платье.советую         1.0           4   \n",
       "1980                       хочу дождь!!!        1.0           2   \n",
       "78819                пришло быстро, норм        1.0           3   \n",
       "\n",
       "                       preprocessed  wc_group  \n",
       "19810                 герои детства         0  \n",
       "15238                  шикарна баба         0  \n",
       "68559  отлично супер платье советую         0  \n",
       "1980                     хочу дождь         0  \n",
       "78819            пришло быстро норм         0  "
      ]
     },
     "execution_count": 33,
     "metadata": {},
     "output_type": "execute_result"
    }
   ],
   "source": [
    "dfs = [positive_sentiment_df, neutral_sentiment_df, negative_sentiment_df]\n",
    "\n",
    "result_dfs = []\n",
    "for df in dfs:\n",
    "    restricted_df = df[df['word_count'] < max_word_count]\n",
    "    for name, group in restricted_df.groupby('wc_group'):\n",
    "        n_samples = stats_df.loc[int(name)].min()        \n",
    "        sampled_df = group.sample(n=n_samples)\n",
    "        \n",
    "        result_dfs.append(sampled_df)\n",
    "        \n",
    "balanced_df = reduce(lambda left, right: left.append(right), result_dfs)\n",
    "balanced_df.head()"
   ]
  },
  {
   "cell_type": "code",
   "execution_count": 34,
   "metadata": {},
   "outputs": [
    {
     "data": {
      "text/html": [
       "<div>\n",
       "<style scoped>\n",
       "    .dataframe tbody tr th:only-of-type {\n",
       "        vertical-align: middle;\n",
       "    }\n",
       "\n",
       "    .dataframe tbody tr th {\n",
       "        vertical-align: top;\n",
       "    }\n",
       "\n",
       "    .dataframe thead th {\n",
       "        text-align: right;\n",
       "    }\n",
       "</style>\n",
       "<table border=\"1\" class=\"dataframe\">\n",
       "  <thead>\n",
       "    <tr style=\"text-align: right;\">\n",
       "      <th></th>\n",
       "      <th>sentiment</th>\n",
       "      <th>word_count</th>\n",
       "      <th>wc_group</th>\n",
       "    </tr>\n",
       "  </thead>\n",
       "  <tbody>\n",
       "    <tr>\n",
       "      <th>count</th>\n",
       "      <td>115488.0000</td>\n",
       "      <td>115488.000000</td>\n",
       "      <td>115488.000000</td>\n",
       "    </tr>\n",
       "    <tr>\n",
       "      <th>mean</th>\n",
       "      <td>0.0000</td>\n",
       "      <td>22.343992</td>\n",
       "      <td>4.076553</td>\n",
       "    </tr>\n",
       "    <tr>\n",
       "      <th>std</th>\n",
       "      <td>0.8165</td>\n",
       "      <td>23.024631</td>\n",
       "      <td>4.602538</td>\n",
       "    </tr>\n",
       "    <tr>\n",
       "      <th>min</th>\n",
       "      <td>-1.0000</td>\n",
       "      <td>1.000000</td>\n",
       "      <td>0.000000</td>\n",
       "    </tr>\n",
       "    <tr>\n",
       "      <th>25%</th>\n",
       "      <td>-1.0000</td>\n",
       "      <td>7.000000</td>\n",
       "      <td>1.000000</td>\n",
       "    </tr>\n",
       "    <tr>\n",
       "      <th>50%</th>\n",
       "      <td>0.0000</td>\n",
       "      <td>13.000000</td>\n",
       "      <td>2.000000</td>\n",
       "    </tr>\n",
       "    <tr>\n",
       "      <th>75%</th>\n",
       "      <td>1.0000</td>\n",
       "      <td>27.000000</td>\n",
       "      <td>5.000000</td>\n",
       "    </tr>\n",
       "    <tr>\n",
       "      <th>max</th>\n",
       "      <td>1.0000</td>\n",
       "      <td>99.000000</td>\n",
       "      <td>19.000000</td>\n",
       "    </tr>\n",
       "  </tbody>\n",
       "</table>\n",
       "</div>"
      ],
      "text/plain": [
       "         sentiment     word_count       wc_group\n",
       "count  115488.0000  115488.000000  115488.000000\n",
       "mean        0.0000      22.343992       4.076553\n",
       "std         0.8165      23.024631       4.602538\n",
       "min        -1.0000       1.000000       0.000000\n",
       "25%        -1.0000       7.000000       1.000000\n",
       "50%         0.0000      13.000000       2.000000\n",
       "75%         1.0000      27.000000       5.000000\n",
       "max         1.0000      99.000000      19.000000"
      ]
     },
     "execution_count": 34,
     "metadata": {},
     "output_type": "execute_result"
    }
   ],
   "source": [
    "balanced_df.describe()"
   ]
  },
  {
   "cell_type": "code",
   "execution_count": 35,
   "metadata": {},
   "outputs": [
    {
     "data": {
      "text/html": [
       "<div>\n",
       "<style scoped>\n",
       "    .dataframe tbody tr th:only-of-type {\n",
       "        vertical-align: middle;\n",
       "    }\n",
       "\n",
       "    .dataframe tbody tr th {\n",
       "        vertical-align: top;\n",
       "    }\n",
       "\n",
       "    .dataframe thead th {\n",
       "        text-align: right;\n",
       "    }\n",
       "</style>\n",
       "<table border=\"1\" class=\"dataframe\">\n",
       "  <thead>\n",
       "    <tr style=\"text-align: right;\">\n",
       "      <th></th>\n",
       "      <th>sentiment</th>\n",
       "      <th>word_count</th>\n",
       "      <th>wc_group</th>\n",
       "    </tr>\n",
       "  </thead>\n",
       "  <tbody>\n",
       "    <tr>\n",
       "      <th>sentiment</th>\n",
       "      <td>1.000000e+00</td>\n",
       "      <td>-0.000613</td>\n",
       "      <td>1.025710e-17</td>\n",
       "    </tr>\n",
       "    <tr>\n",
       "      <th>word_count</th>\n",
       "      <td>-6.125896e-04</td>\n",
       "      <td>1.000000</td>\n",
       "      <td>9.981473e-01</td>\n",
       "    </tr>\n",
       "    <tr>\n",
       "      <th>wc_group</th>\n",
       "      <td>1.025710e-17</td>\n",
       "      <td>0.998147</td>\n",
       "      <td>1.000000e+00</td>\n",
       "    </tr>\n",
       "  </tbody>\n",
       "</table>\n",
       "</div>"
      ],
      "text/plain": [
       "               sentiment  word_count      wc_group\n",
       "sentiment   1.000000e+00   -0.000613  1.025710e-17\n",
       "word_count -6.125896e-04    1.000000  9.981473e-01\n",
       "wc_group    1.025710e-17    0.998147  1.000000e+00"
      ]
     },
     "execution_count": 35,
     "metadata": {},
     "output_type": "execute_result"
    }
   ],
   "source": [
    "balanced_df.corr()"
   ]
  },
  {
   "cell_type": "markdown",
   "metadata": {},
   "source": [
    "### Выводы\n",
    "В полученном датасете равное распределение примеров для каждого класса, для разных длин входных данных; явных ошибочных корреляций не наблюдается."
   ]
  },
  {
   "cell_type": "markdown",
   "metadata": {},
   "source": [
    "## Лемматизация финального набора данных"
   ]
  },
  {
   "cell_type": "code",
   "execution_count": 36,
   "metadata": {},
   "outputs": [],
   "source": [
    "import spacy\n",
    "nlp = spacy.load('ru_core_news_sm')"
   ]
  },
  {
   "cell_type": "code",
   "execution_count": 37,
   "metadata": {},
   "outputs": [
    {
     "name": "stderr",
     "output_type": "stream",
     "text": [
      "100%|██████████| 115488/115488 [25:37<00:00, 75.11it/s] \n"
     ]
    }
   ],
   "source": [
    "balanced_df['preprocessed'] = balanced_df['preprocessed'].progress_apply(lambda row: ' '.join([w.lemma_ for w in nlp(row)]))"
   ]
  },
  {
   "cell_type": "code",
   "execution_count": 38,
   "metadata": {},
   "outputs": [
    {
     "data": {
      "text/html": [
       "<div>\n",
       "<style scoped>\n",
       "    .dataframe tbody tr th:only-of-type {\n",
       "        vertical-align: middle;\n",
       "    }\n",
       "\n",
       "    .dataframe tbody tr th {\n",
       "        vertical-align: top;\n",
       "    }\n",
       "\n",
       "    .dataframe thead th {\n",
       "        text-align: right;\n",
       "    }\n",
       "</style>\n",
       "<table border=\"1\" class=\"dataframe\">\n",
       "  <thead>\n",
       "    <tr style=\"text-align: right;\">\n",
       "      <th></th>\n",
       "      <th>text</th>\n",
       "      <th>sentiment</th>\n",
       "      <th>word_count</th>\n",
       "      <th>preprocessed</th>\n",
       "      <th>wc_group</th>\n",
       "    </tr>\n",
       "  </thead>\n",
       "  <tbody>\n",
       "    <tr>\n",
       "      <th>19810</th>\n",
       "      <td>Герои детства!</td>\n",
       "      <td>1.0</td>\n",
       "      <td>2</td>\n",
       "      <td>герой детство</td>\n",
       "      <td>0</td>\n",
       "    </tr>\n",
       "    <tr>\n",
       "      <th>15238</th>\n",
       "      <td>ШиКаРна БаБа=»»</td>\n",
       "      <td>1.0</td>\n",
       "      <td>2</td>\n",
       "      <td>шикарный баба</td>\n",
       "      <td>0</td>\n",
       "    </tr>\n",
       "    <tr>\n",
       "      <th>68559</th>\n",
       "      <td>Всё отлично.супер платье.советую</td>\n",
       "      <td>1.0</td>\n",
       "      <td>4</td>\n",
       "      <td>отлично супер платье советую</td>\n",
       "      <td>0</td>\n",
       "    </tr>\n",
       "    <tr>\n",
       "      <th>1980</th>\n",
       "      <td>хочу дождь!!!</td>\n",
       "      <td>1.0</td>\n",
       "      <td>2</td>\n",
       "      <td>хотеть дождь</td>\n",
       "      <td>0</td>\n",
       "    </tr>\n",
       "    <tr>\n",
       "      <th>78819</th>\n",
       "      <td>пришло быстро, норм</td>\n",
       "      <td>1.0</td>\n",
       "      <td>3</td>\n",
       "      <td>прийти быстро норма</td>\n",
       "      <td>0</td>\n",
       "    </tr>\n",
       "  </tbody>\n",
       "</table>\n",
       "</div>"
      ],
      "text/plain": [
       "                                    text  sentiment  word_count  \\\n",
       "19810                     Герои детства!        1.0           2   \n",
       "15238                    ШиКаРна БаБа=»»        1.0           2   \n",
       "68559  Всё отлично.супер платье.советую         1.0           4   \n",
       "1980                       хочу дождь!!!        1.0           2   \n",
       "78819                пришло быстро, норм        1.0           3   \n",
       "\n",
       "                       preprocessed  wc_group  \n",
       "19810                 герой детство         0  \n",
       "15238                 шикарный баба         0  \n",
       "68559  отлично супер платье советую         0  \n",
       "1980                   хотеть дождь         0  \n",
       "78819           прийти быстро норма         0  "
      ]
     },
     "execution_count": 38,
     "metadata": {},
     "output_type": "execute_result"
    }
   ],
   "source": [
    "balanced_df.head()"
   ]
  },
  {
   "cell_type": "code",
   "execution_count": 40,
   "metadata": {},
   "outputs": [
    {
     "name": "stderr",
     "output_type": "stream",
     "text": [
      "100%|██████████| 115488/115488 [00:00<00:00, 285149.36it/s]\n"
     ]
    }
   ],
   "source": [
    "balanced_df['word_count'] = balanced_df['preprocessed'].progress_apply(lambda x: len([word for word in x.split(' ')]))\n",
    "balanced_df = balanced_df[balanced_df['word_count'] <= max_word_count]\n",
    "balanced_df.to_csv('preprocessed.csv')"
   ]
  },
  {
   "cell_type": "code",
   "execution_count": 41,
   "metadata": {},
   "outputs": [],
   "source": [
    "balanced_df = pd.read_csv('preprocessed.csv')"
   ]
  },
  {
   "cell_type": "markdown",
   "metadata": {},
   "source": [
    "# Подготовка данных для нейронной сети"
   ]
  },
  {
   "cell_type": "code",
   "execution_count": 42,
   "metadata": {},
   "outputs": [],
   "source": [
    "from tqdm import tnrange, tqdm_notebook"
   ]
  },
  {
   "cell_type": "markdown",
   "metadata": {},
   "source": [
    "Для анализа эмоционального окраса (sentiment analysis) для ускорения процесса обучения сети можно применить претренированный слой эмбеддингов (embeddings layer).\n",
    "В данном случае принимаю решение использовать эмбеддинги \"подслов\" (subwords) от BPEmb (ru.wiki.bpe.vs100000.d100.w2v).\n",
    "\n",
    "Использование \"подслов\" серьезно сокращает вероятность встретить незнакомые (out-of-vocabulary) слова, плюс ограниченный набор упрощает дотренировку слоя эмбеддингов (fine-tuning)."
   ]
  },
  {
   "cell_type": "code",
   "execution_count": 43,
   "metadata": {},
   "outputs": [],
   "source": [
    "from bpemb import BPEmb\n",
    "from pathlib import Path\n",
    "bpemb = BPEmb(lang='ru', cache_dir=Path('./'), dim=100, vs=100000)"
   ]
  },
  {
   "cell_type": "code",
   "execution_count": 45,
   "metadata": {},
   "outputs": [
    {
     "name": "stderr",
     "output_type": "stream",
     "text": [
      "D:\\SoftwareProjects\\anaconda3\\envs\\tf-gpu\\lib\\site-packages\\ipykernel_launcher.py:16: TqdmDeprecationWarning: This function will be removed in tqdm==5.0.0\n",
      "Please use `tqdm.notebook.tqdm` instead of `tqdm.tqdm_notebook`\n",
      "  app.launch_new_instance()\n"
     ]
    },
    {
     "data": {
      "application/vnd.jupyter.widget-view+json": {
       "model_id": "0617559979cc40bd92b228b1ac20e0bb",
       "version_major": 2,
       "version_minor": 0
      },
      "text/plain": [
       "HBox(children=(HTML(value=''), FloatProgress(value=0.0, max=100001.0), HTML(value='')))"
      ]
     },
     "metadata": {},
     "output_type": "display_data"
    },
    {
     "name": "stdout",
     "output_type": "stream",
     "text": [
      "\n"
     ]
    }
   ],
   "source": [
    "import mmap\n",
    "import re\n",
    "\n",
    "embeddings_path = 'ru/ru.wiki.bpe.vs100000.d100.w2v.txt'\n",
    "\n",
    "def get_num_lines(file_path):\n",
    "    fp = open(file_path, \"r+\")\n",
    "    buf = mmap.mmap(fp.fileno(), 0)\n",
    "    lines = 0\n",
    "    while buf.readline():\n",
    "        lines += 1\n",
    "    return lines\n",
    "\n",
    "embeddings_dict = {}\n",
    "with open(embeddings_path, 'r', encoding='utf-8') as file:\n",
    "    for line in tqdm_notebook(file, total=get_num_lines(embeddings_path)):\n",
    "        values = line.split()\n",
    "        word = values[0].lower()\n",
    "        if word in embeddings_dict:\n",
    "            continue\n",
    "        \n",
    "        vector = np.asarray(values[1:], dtype='float32')\n",
    "        embeddings_dict[word] = vector"
   ]
  },
  {
   "cell_type": "markdown",
   "metadata": {},
   "source": [
    "Наведение порядка:"
   ]
  },
  {
   "cell_type": "code",
   "execution_count": 46,
   "metadata": {},
   "outputs": [
    {
     "data": {
      "text/html": [
       "<div>\n",
       "<style scoped>\n",
       "    .dataframe tbody tr th:only-of-type {\n",
       "        vertical-align: middle;\n",
       "    }\n",
       "\n",
       "    .dataframe tbody tr th {\n",
       "        vertical-align: top;\n",
       "    }\n",
       "\n",
       "    .dataframe thead th {\n",
       "        text-align: right;\n",
       "    }\n",
       "</style>\n",
       "<table border=\"1\" class=\"dataframe\">\n",
       "  <thead>\n",
       "    <tr style=\"text-align: right;\">\n",
       "      <th></th>\n",
       "      <th>Unnamed: 0</th>\n",
       "      <th>text</th>\n",
       "      <th>sentiment</th>\n",
       "      <th>word_count</th>\n",
       "      <th>preprocessed</th>\n",
       "      <th>wc_group</th>\n",
       "    </tr>\n",
       "  </thead>\n",
       "  <tbody>\n",
       "    <tr>\n",
       "      <th>0</th>\n",
       "      <td>19810</td>\n",
       "      <td>Герои детства!</td>\n",
       "      <td>1</td>\n",
       "      <td>2</td>\n",
       "      <td>герой детство</td>\n",
       "      <td>0</td>\n",
       "    </tr>\n",
       "    <tr>\n",
       "      <th>1</th>\n",
       "      <td>15238</td>\n",
       "      <td>ШиКаРна БаБа=»»</td>\n",
       "      <td>1</td>\n",
       "      <td>2</td>\n",
       "      <td>шикарный баба</td>\n",
       "      <td>0</td>\n",
       "    </tr>\n",
       "    <tr>\n",
       "      <th>2</th>\n",
       "      <td>68559</td>\n",
       "      <td>Всё отлично.супер платье.советую</td>\n",
       "      <td>1</td>\n",
       "      <td>4</td>\n",
       "      <td>отлично супер платье советую</td>\n",
       "      <td>0</td>\n",
       "    </tr>\n",
       "    <tr>\n",
       "      <th>3</th>\n",
       "      <td>1980</td>\n",
       "      <td>хочу дождь!!!</td>\n",
       "      <td>1</td>\n",
       "      <td>2</td>\n",
       "      <td>хотеть дождь</td>\n",
       "      <td>0</td>\n",
       "    </tr>\n",
       "    <tr>\n",
       "      <th>4</th>\n",
       "      <td>78819</td>\n",
       "      <td>пришло быстро, норм</td>\n",
       "      <td>1</td>\n",
       "      <td>3</td>\n",
       "      <td>прийти быстро норма</td>\n",
       "      <td>0</td>\n",
       "    </tr>\n",
       "  </tbody>\n",
       "</table>\n",
       "</div>"
      ],
      "text/plain": [
       "   Unnamed: 0                               text  sentiment  word_count  \\\n",
       "0       19810                     Герои детства!          1           2   \n",
       "1       15238                    ШиКаРна БаБа=»»          1           2   \n",
       "2       68559  Всё отлично.супер платье.советую           1           4   \n",
       "3        1980                      хочу дождь!!!          1           2   \n",
       "4       78819                пришло быстро, норм          1           3   \n",
       "\n",
       "                   preprocessed  wc_group  \n",
       "0                 герой детство         0  \n",
       "1                 шикарный баба         0  \n",
       "2  отлично супер платье советую         0  \n",
       "3                  хотеть дождь         0  \n",
       "4           прийти быстро норма         0  "
      ]
     },
     "execution_count": 46,
     "metadata": {},
     "output_type": "execute_result"
    }
   ],
   "source": [
    "df = balanced_df[balanced_df['preprocessed'].notnull()]\n",
    "df['sentiment']=df['sentiment'].astype('int32')\n",
    "df.head()"
   ]
  },
  {
   "cell_type": "markdown",
   "metadata": {},
   "source": [
    "## Обработка последовательностей"
   ]
  },
  {
   "cell_type": "code",
   "execution_count": 47,
   "metadata": {},
   "outputs": [
    {
     "name": "stderr",
     "output_type": "stream",
     "text": [
      "D:\\SoftwareProjects\\anaconda3\\envs\\tf-gpu\\lib\\site-packages\\ipykernel_launcher.py:6: TqdmDeprecationWarning: This function will be removed in tqdm==5.0.0\n",
      "Please use `tqdm.notebook.tqdm` instead of `tqdm.tqdm_notebook`\n",
      "  \n"
     ]
    },
    {
     "data": {
      "application/vnd.jupyter.widget-view+json": {
       "model_id": "54e8e81600bc47fb8f356d5a3b406bf6",
       "version_major": 2,
       "version_minor": 0
      },
      "text/plain": [
       "HBox(children=(HTML(value=''), FloatProgress(value=0.0, max=99998.0), HTML(value='')))"
      ]
     },
     "metadata": {},
     "output_type": "display_data"
    },
    {
     "name": "stderr",
     "output_type": "stream",
     "text": [
      "  3%|▎         | 3997/115488 [00:00<00:02, 39573.95it/s]"
     ]
    },
    {
     "name": "stdout",
     "output_type": "stream",
     "text": [
      "\n"
     ]
    },
    {
     "name": "stderr",
     "output_type": "stream",
     "text": [
      "100%|██████████| 115488/115488 [00:13<00:00, 8296.40it/s] \n",
      "100%|██████████| 115488/115488 [00:00<00:00, 807600.95it/s]\n",
      "100%|██████████| 115488/115488 [00:02<00:00, 47467.15it/s]\n"
     ]
    }
   ],
   "source": [
    "import tensorflow as tf\n",
    "from tensorflow.keras.preprocessing.text import Tokenizer\n",
    "from tensorflow.keras.preprocessing.sequence import pad_sequences\n",
    "\n",
    "tokenizer = Tokenizer(len(embeddings_dict.keys()))\n",
    "tokenizer.fit_on_texts(tqdm_notebook(embeddings_dict.keys()))\n",
    "\n",
    "df['sequences'] = df['preprocessed'].progress_apply(lambda x: tokenizer.texts_to_sequences([bpemb.encode(x)])[0])\n",
    "df['seq_length'] = df['sequences'].progress_apply(lambda x: len(x))\n",
    "\n",
    "max_sequence_length = df['seq_length'].max()\n",
    "df['padded_sequences'] = df['sequences'].progress_apply(lambda x: pad_sequences([x], max_sequence_length)[0])"
   ]
  },
  {
   "cell_type": "markdown",
   "metadata": {},
   "source": [
    "Если в слое эмбеддингов нет слов, использованных в тексте, колонка 'sequences' будет пустой. Исключим такие примеры из набора данных."
   ]
  },
  {
   "cell_type": "code",
   "execution_count": 49,
   "metadata": {},
   "outputs": [],
   "source": [
    "df = df[df['seq_length'] > 0]"
   ]
  },
  {
   "cell_type": "markdown",
   "metadata": {},
   "source": [
    "Для слоя эмбеддингов не потребуется категоризация, но для лейблов она необходима (note: если не использовать sparse_categorical_loss)."
   ]
  },
  {
   "cell_type": "code",
   "execution_count": 52,
   "metadata": {},
   "outputs": [
    {
     "name": "stdout",
     "output_type": "stream",
     "text": [
      "{1: 0, 0: 1, -1: 2}\n"
     ]
    }
   ],
   "source": [
    "allowed_outputs = list(df['sentiment'].unique())\n",
    "outputs_index = {x:i for i, x in enumerate(allowed_outputs)}\n",
    "print(outputs_index)\n",
    "\n",
    "from tensorflow.keras.utils import to_categorical\n",
    "\n",
    "df[f'output'] = df[f'sentiment'].apply(lambda x: outputs_index[x]) \n",
    "df[f'output'] = df[f'output'].apply(lambda x: to_categorical(x, num_classes=len(outputs_index)))   "
   ]
  },
  {
   "cell_type": "code",
   "execution_count": 54,
   "metadata": {},
   "outputs": [],
   "source": [
    "clean_df = df[['text', 'sentiment', 'preprocessed', 'sequences', 'seq_length', 'padded_sequences', 'output']]"
   ]
  },
  {
   "cell_type": "code",
   "execution_count": 56,
   "metadata": {},
   "outputs": [
    {
     "data": {
      "text/html": [
       "<div>\n",
       "<style scoped>\n",
       "    .dataframe tbody tr th:only-of-type {\n",
       "        vertical-align: middle;\n",
       "    }\n",
       "\n",
       "    .dataframe tbody tr th {\n",
       "        vertical-align: top;\n",
       "    }\n",
       "\n",
       "    .dataframe thead th {\n",
       "        text-align: right;\n",
       "    }\n",
       "</style>\n",
       "<table border=\"1\" class=\"dataframe\">\n",
       "  <thead>\n",
       "    <tr style=\"text-align: right;\">\n",
       "      <th></th>\n",
       "      <th>text</th>\n",
       "      <th>sentiment</th>\n",
       "      <th>preprocessed</th>\n",
       "      <th>sequences</th>\n",
       "      <th>seq_length</th>\n",
       "      <th>padded_sequences</th>\n",
       "      <th>output</th>\n",
       "    </tr>\n",
       "  </thead>\n",
       "  <tbody>\n",
       "    <tr>\n",
       "      <th>0</th>\n",
       "      <td>Герои детства!</td>\n",
       "      <td>1</td>\n",
       "      <td>герой детство</td>\n",
       "      <td>[2498, 18198]</td>\n",
       "      <td>2</td>\n",
       "      <td>[0, 0, 0, 0, 0, 0, 0, 0, 0, 0, 0, 0, 0, 0, 0, ...</td>\n",
       "      <td>[1.0, 0.0, 0.0]</td>\n",
       "    </tr>\n",
       "    <tr>\n",
       "      <th>1</th>\n",
       "      <td>ШиКаРна БаБа=»»</td>\n",
       "      <td>1</td>\n",
       "      <td>шикарный баба</td>\n",
       "      <td>[87598, 252, 18093]</td>\n",
       "      <td>3</td>\n",
       "      <td>[0, 0, 0, 0, 0, 0, 0, 0, 0, 0, 0, 0, 0, 0, 0, ...</td>\n",
       "      <td>[1.0, 0.0, 0.0]</td>\n",
       "    </tr>\n",
       "    <tr>\n",
       "      <th>2</th>\n",
       "      <td>Всё отлично.супер платье.советую</td>\n",
       "      <td>1</td>\n",
       "      <td>отлично супер платье советую</td>\n",
       "      <td>[26931, 4248, 28121, 3130, 5051]</td>\n",
       "      <td>5</td>\n",
       "      <td>[0, 0, 0, 0, 0, 0, 0, 0, 0, 0, 0, 0, 0, 0, 0, ...</td>\n",
       "      <td>[1.0, 0.0, 0.0]</td>\n",
       "    </tr>\n",
       "    <tr>\n",
       "      <th>3</th>\n",
       "      <td>хочу дождь!!!</td>\n",
       "      <td>1</td>\n",
       "      <td>хотеть дождь</td>\n",
       "      <td>[17312, 190, 26222]</td>\n",
       "      <td>3</td>\n",
       "      <td>[0, 0, 0, 0, 0, 0, 0, 0, 0, 0, 0, 0, 0, 0, 0, ...</td>\n",
       "      <td>[1.0, 0.0, 0.0]</td>\n",
       "    </tr>\n",
       "    <tr>\n",
       "      <th>4</th>\n",
       "      <td>пришло быстро, норм</td>\n",
       "      <td>1</td>\n",
       "      <td>прийти быстро норма</td>\n",
       "      <td>[29505, 3837, 4998]</td>\n",
       "      <td>3</td>\n",
       "      <td>[0, 0, 0, 0, 0, 0, 0, 0, 0, 0, 0, 0, 0, 0, 0, ...</td>\n",
       "      <td>[1.0, 0.0, 0.0]</td>\n",
       "    </tr>\n",
       "  </tbody>\n",
       "</table>\n",
       "</div>"
      ],
      "text/plain": [
       "                                text  sentiment                  preprocessed  \\\n",
       "0                     Герои детства!          1                 герой детство   \n",
       "1                    ШиКаРна БаБа=»»          1                 шикарный баба   \n",
       "2  Всё отлично.супер платье.советую           1  отлично супер платье советую   \n",
       "3                      хочу дождь!!!          1                  хотеть дождь   \n",
       "4                пришло быстро, норм          1           прийти быстро норма   \n",
       "\n",
       "                          sequences  seq_length  \\\n",
       "0                     [2498, 18198]           2   \n",
       "1               [87598, 252, 18093]           3   \n",
       "2  [26931, 4248, 28121, 3130, 5051]           5   \n",
       "3               [17312, 190, 26222]           3   \n",
       "4               [29505, 3837, 4998]           3   \n",
       "\n",
       "                                    padded_sequences           output  \n",
       "0  [0, 0, 0, 0, 0, 0, 0, 0, 0, 0, 0, 0, 0, 0, 0, ...  [1.0, 0.0, 0.0]  \n",
       "1  [0, 0, 0, 0, 0, 0, 0, 0, 0, 0, 0, 0, 0, 0, 0, ...  [1.0, 0.0, 0.0]  \n",
       "2  [0, 0, 0, 0, 0, 0, 0, 0, 0, 0, 0, 0, 0, 0, 0, ...  [1.0, 0.0, 0.0]  \n",
       "3  [0, 0, 0, 0, 0, 0, 0, 0, 0, 0, 0, 0, 0, 0, 0, ...  [1.0, 0.0, 0.0]  \n",
       "4  [0, 0, 0, 0, 0, 0, 0, 0, 0, 0, 0, 0, 0, 0, 0, ...  [1.0, 0.0, 0.0]  "
      ]
     },
     "execution_count": 56,
     "metadata": {},
     "output_type": "execute_result"
    }
   ],
   "source": [
    "clean_df.head()"
   ]
  },
  {
   "cell_type": "code",
   "execution_count": 55,
   "metadata": {},
   "outputs": [],
   "source": [
    "clean_df.to_csv('postprocessed.csv')"
   ]
  },
  {
   "cell_type": "code",
   "execution_count": 57,
   "metadata": {},
   "outputs": [],
   "source": [
    "df = clean_df"
   ]
  },
  {
   "cell_type": "markdown",
   "metadata": {},
   "source": [
    "## Подготовка тренировочного, валидационного и тестового наборов данных\n",
    "Для упрощения анализа возможных ошибок также сбалансирую классы для этих подсетов."
   ]
  },
  {
   "cell_type": "code",
   "execution_count": 60,
   "metadata": {},
   "outputs": [],
   "source": [
    "from functools import reduce\n",
    "\n",
    "positive_sentiment_df = df[df['sentiment'] == 1]\n",
    "neutral_sentiment_df = df[df['sentiment'] == 0]\n",
    "negative_sentiment_df = df[df['sentiment'] == -1]\n",
    "\n",
    "def split_dataframe(dataframe):\n",
    "    test = dataframe.sample(n=1000)\n",
    "    validation = dataframe.loc[~dataframe.index.isin(test.index)].sample(n=3000)\n",
    "    train = dataframe.loc[(~dataframe.index.isin(validation.index)) & (~dataframe.index.isin(test.index))].sample(frac=1)\n",
    "    \n",
    "    return (train, validation, test)\n",
    "\n",
    "positive_split = split_dataframe(positive_sentiment_df)\n",
    "neutral_split = split_dataframe(neutral_sentiment_df)\n",
    "negative_split = split_dataframe(negative_sentiment_df)\n",
    "\n",
    "train = positive_split[0].append(neutral_split[0]).append(negative_split[0])\n",
    "validation = positive_split[1].append(neutral_split[1]).append(negative_split[1])\n",
    "test = positive_split[2].append(neutral_split[2]).append(negative_split[2])"
   ]
  },
  {
   "cell_type": "code",
   "execution_count": 61,
   "metadata": {},
   "outputs": [
    {
     "name": "stdout",
     "output_type": "stream",
     "text": [
      "(103488, 188) (103488, 3)\n",
      "(9000, 188) (9000, 3)\n",
      "(3000, 188) (3000, 3)\n"
     ]
    }
   ],
   "source": [
    "def get_arrayed_data(df_set):\n",
    "    setX = np.stack(df_set['padded_sequences'].values, axis=0)\n",
    "    setY = np.stack(df_set['output'].values, axis=0)\n",
    "        \n",
    "    return (setX, setY)\n",
    "\n",
    "trainX, trainY = get_arrayed_data(train)\n",
    "validationX, validationY = get_arrayed_data(validation)\n",
    "testX, testY = get_arrayed_data(test)\n",
    "\n",
    "\n",
    "print(trainX.shape, trainY.shape)\n",
    "print(validationX.shape, validationY.shape)\n",
    "print(testX.shape, testY.shape)"
   ]
  },
  {
   "cell_type": "markdown",
   "metadata": {},
   "source": [
    "Сохраняю некоторые данные, необходимые для дальнейшего standalone функционирования нейросети."
   ]
  },
  {
   "cell_type": "code",
   "execution_count": 62,
   "metadata": {},
   "outputs": [],
   "source": [
    "import json\n",
    "\n",
    "with open('model/input-map.json', 'w', encoding='utf-8') as f:\n",
    "    f.write(json.dumps(tokenizer.word_index, ensure_ascii=False))\n",
    "    \n",
    "with open('model/input-sequence-length.txt', 'w', encoding='utf-8') as f:\n",
    "    f.write(json.dumps(int(max_sequence_length), ensure_ascii=False))\n",
    "    \n",
    "one_hot_map = {int(v): int(k) for k, v in outputs_index.items()}\n",
    "with open('model/output-map.json', 'w', encoding='utf-8') as f:\n",
    "    f.write(json.dumps(one_hot_map, ensure_ascii=False))"
   ]
  },
  {
   "cell_type": "markdown",
   "metadata": {},
   "source": [
    "# Построение нейронной сети"
   ]
  },
  {
   "cell_type": "code",
   "execution_count": 63,
   "metadata": {},
   "outputs": [],
   "source": [
    "import matplotlib.pyplot as plt\n",
    "plt.style.use('ggplot')\n",
    "\n",
    "def plot_history(history, title=''):\n",
    "    colors = ['r', 'g', 'b', 'k']\n",
    "    metrics= ['f1', 'precision', 'recall', 'acc']\n",
    "    \n",
    "    x = range(1, len(history['acc']) + 1)\n",
    "\n",
    "    plt.figure(figsize=(16, 8))\n",
    "    plt.subplot(1, 2, 1)\n",
    "    plt.ylim(0, 1.1)\n",
    "    for i, name in enumerate(metrics):\n",
    "        plt.plot(x, history[name], colors[i], label=name) \n",
    "    plt.title(f'Training {title}')\n",
    "    plt.legend()\n",
    "        \n",
    "    plt.subplot(1, 2, 2)\n",
    "    plt.ylim(0, 1.1)\n",
    "    for i, name in enumerate(metrics):\n",
    "        name = f'val_{name}'\n",
    "        plt.plot(x, history[name], colors[i], label=name)\n",
    "    plt.title(f'Validation {title}')\n",
    "    plt.legend()"
   ]
  },
  {
   "cell_type": "code",
   "execution_count": 64,
   "metadata": {},
   "outputs": [],
   "source": [
    "from tensorflow.keras.layers import Embedding\n",
    "from tensorflow.keras.callbacks import ModelCheckpoint, ReduceLROnPlateau\n",
    "from tensorflow.keras.models import Sequential, Model\n",
    "from tensorflow.keras.layers import *\n",
    "from tensorflow.keras import regularizers"
   ]
  },
  {
   "cell_type": "code",
   "execution_count": 65,
   "metadata": {},
   "outputs": [
    {
     "data": {
      "text/plain": [
       "98740"
      ]
     },
     "execution_count": 65,
     "metadata": {},
     "output_type": "execute_result"
    }
   ],
   "source": [
    "token_count = len(tokenizer.word_index) + 1\n",
    "token_count"
   ]
  },
  {
   "cell_type": "code",
   "execution_count": 66,
   "metadata": {},
   "outputs": [],
   "source": [
    "from tensorflow.keras import backend as K\n",
    "\n",
    "def recall(y_true, y_pred):\n",
    "    true_positives = K.sum(K.round(K.clip(y_true * y_pred, 0, 1)))\n",
    "    possible_positives = K.sum(K.round(K.clip(y_true, 0, 1)))\n",
    "    recall_value = true_positives / (possible_positives + K.epsilon())\n",
    "    return recall_value\n",
    "\n",
    "def precision(y_true, y_pred):\n",
    "    true_positives = K.sum(K.round(K.clip(y_true * y_pred, 0, 1)))\n",
    "    predicted_positives = K.sum(K.round(K.clip(y_pred, 0, 1)))\n",
    "    precision_value = true_positives / (predicted_positives + K.epsilon())\n",
    "    return precision_value\n",
    "\n",
    "def f1(y_true, y_pred):\n",
    "    precision_value = precision(y_true, y_pred)\n",
    "    recall_value = recall(y_true, y_pred)\n",
    "    return 2*((precision_value*recall_value)/(precision_value+recall_value+K.epsilon()))"
   ]
  },
  {
   "cell_type": "markdown",
   "metadata": {},
   "source": [
    "#### Эмпирическим путем было определено, что без fine-tuning'а слоя эмбеддингов не обойтись"
   ]
  },
  {
   "cell_type": "code",
   "execution_count": 73,
   "metadata": {},
   "outputs": [
    {
     "name": "stderr",
     "output_type": "stream",
     "text": [
      "D:\\SoftwareProjects\\anaconda3\\envs\\tf-gpu\\lib\\site-packages\\ipykernel_launcher.py:2: TqdmDeprecationWarning: This function will be removed in tqdm==5.0.0\n",
      "Please use `tqdm.notebook.tqdm` instead of `tqdm.tqdm_notebook`\n",
      "  \n"
     ]
    },
    {
     "data": {
      "application/vnd.jupyter.widget-view+json": {
       "model_id": "cd7369f52006457aba61b09c5c648e8b",
       "version_major": 2,
       "version_minor": 0
      },
      "text/plain": [
       "HBox(children=(HTML(value=''), FloatProgress(value=0.0, max=98739.0), HTML(value='')))"
      ]
     },
     "metadata": {},
     "output_type": "display_data"
    },
    {
     "name": "stdout",
     "output_type": "stream",
     "text": [
      "\n"
     ]
    }
   ],
   "source": [
    "embedding_matrix = np.zeros((len(tokenizer.word_index) + 1, 100))\n",
    "for word, i in tqdm_notebook(tokenizer.word_index.items()):\n",
    "    if word in embeddings_dict:\n",
    "        embedding_matrix[i] = embeddings_dict[word]\n",
    "        \n",
    "embedding_layer = Embedding(len(tokenizer.word_index) + 1, 100,\n",
    "                    weights=[embedding_matrix],\n",
    "                    input_length=max_sequence_length,\n",
    "                    embeddings_regularizer=regularizers.l2(0.001),\n",
    "                    trainable=True)"
   ]
  },
  {
   "cell_type": "code",
   "execution_count": 77,
   "metadata": {},
   "outputs": [],
   "source": [
    "inp = Input((max_sequence_length,))\n",
    "x = embedding_layer(inp)\n",
    "x = BatchNormalization()(x)\n",
    "\n",
    "x = Conv1D(filters=64, kernel_size=3, padding='same', activation='relu',\n",
    "           kernel_regularizer=regularizers.l1(0.001),\n",
    "           bias_regularizer=regularizers.l1(0.001))(x)\n",
    "x = BatchNormalization()(x)\n",
    "x = AveragePooling1D(pool_size=2)(x)\n",
    "x = Dropout(0.1)(x)\n",
    "\n",
    "x = LSTM(64, activity_regularizer=regularizers.l1(0.0001))(x)\n",
    "x = BatchNormalization()(x)\n",
    "\n",
    "out = Dense(trainY.shape[1], activation='softmax')(x)\n",
    "model = Model(inp, out)\n",
    "\n",
    "model.compile(loss='categorical_crossentropy', optimizer='adam', metrics=['acc', f1, precision, recall])"
   ]
  },
  {
   "cell_type": "code",
   "execution_count": 78,
   "metadata": {},
   "outputs": [
    {
     "name": "stdout",
     "output_type": "stream",
     "text": [
      "Model: \"model_3\"\n",
      "_________________________________________________________________\n",
      "Layer (type)                 Output Shape              Param #   \n",
      "=================================================================\n",
      "input_5 (InputLayer)         [(None, 188)]             0         \n",
      "_________________________________________________________________\n",
      "embedding_2 (Embedding)      (None, 188, 100)          9874000   \n",
      "_________________________________________________________________\n",
      "batch_normalization_11 (Batc (None, 188, 100)          400       \n",
      "_________________________________________________________________\n",
      "conv1d_4 (Conv1D)            (None, 188, 64)           19264     \n",
      "_________________________________________________________________\n",
      "batch_normalization_12 (Batc (None, 188, 64)           256       \n",
      "_________________________________________________________________\n",
      "average_pooling1d_4 (Average (None, 94, 64)            0         \n",
      "_________________________________________________________________\n",
      "dropout_4 (Dropout)          (None, 94, 64)            0         \n",
      "_________________________________________________________________\n",
      "lstm_3 (LSTM)                (None, 64)                33024     \n",
      "_________________________________________________________________\n",
      "batch_normalization_13 (Batc (None, 64)                256       \n",
      "_________________________________________________________________\n",
      "dense_3 (Dense)              (None, 3)                 195       \n",
      "=================================================================\n",
      "Total params: 9,927,395\n",
      "Trainable params: 9,926,939\n",
      "Non-trainable params: 456\n",
      "_________________________________________________________________\n"
     ]
    }
   ],
   "source": [
    "model.summary()"
   ]
  },
  {
   "cell_type": "code",
   "execution_count": 79,
   "metadata": {},
   "outputs": [
    {
     "name": "stdout",
     "output_type": "stream",
     "text": [
      "Train on 103488 samples, validate on 9000 samples\n",
      "Epoch 1/50\n"
     ]
    },
    {
     "name": "stderr",
     "output_type": "stream",
     "text": [
      "D:\\SoftwareProjects\\anaconda3\\envs\\tf-gpu\\lib\\site-packages\\tensorflow_core\\python\\framework\\indexed_slices.py:433: UserWarning: Converting sparse IndexedSlices to a dense Tensor of unknown shape. This may consume a large amount of memory.\n",
      "  \"Converting sparse IndexedSlices to a dense Tensor of unknown shape. \"\n",
      "D:\\SoftwareProjects\\anaconda3\\envs\\tf-gpu\\lib\\site-packages\\tensorflow_core\\python\\framework\\indexed_slices.py:433: UserWarning: Converting sparse IndexedSlices to a dense Tensor of unknown shape. This may consume a large amount of memory.\n",
      "  \"Converting sparse IndexedSlices to a dense Tensor of unknown shape. \"\n"
     ]
    },
    {
     "name": "stdout",
     "output_type": "stream",
     "text": [
      "103488/103488 [==============================] - 105s 1ms/sample - loss: 1500.6793 - acc: 0.6330 - f1: 0.6084 - precision: 0.6765 - recall: 0.5538 - val_loss: 997.1182 - val_acc: 0.6313 - val_f1: 0.6126 - val_precision: 0.6577 - val_recall: 0.5745\n",
      "Epoch 2/50\n",
      "103488/103488 [==============================] - 104s 1ms/sample - loss: 960.0840 - acc: 0.6841 - f1: 0.6661 - precision: 0.7210 - recall: 0.6198 - val_loss: 938.1407 - val_acc: 0.6836 - val_f1: 0.6693 - val_precision: 0.7190 - val_recall: 0.6270\n",
      "Epoch 3/50\n",
      "103488/103488 [==============================] - 104s 1ms/sample - loss: 922.2608 - acc: 0.7025 - f1: 0.6890 - precision: 0.7351 - recall: 0.6491 - val_loss: 906.7533 - val_acc: 0.6992 - val_f1: 0.6903 - val_precision: 0.7211 - val_recall: 0.66244 - precisio\n",
      "Epoch 4/50\n",
      "103488/103488 [==============================] - 102s 989us/sample - loss: 891.5760 - acc: 0.7150 - f1: 0.7039 - precision: 0.7442 - recall: 0.6683 - val_loss: 876.4583 - val_acc: 0.7004 - val_f1: 0.6920 - val_precision: 0.7245 - val_recall: 0.6629\n",
      "Epoch 5/50\n",
      "103488/103488 [==============================] - 103s 997us/sample - loss: 861.5261 - acc: 0.7237 - f1: 0.7142 - precision: 0.7502 - recall: 0.6821 - val_loss: 846.6840 - val_acc: 0.7047 - val_f1: 0.6928 - val_precision: 0.7296 - val_recall: 0.6603\n",
      "Epoch 6/50\n",
      "103424/103488 [============================>.] - ETA: 0s - loss: 832.0227 - acc: 0.7330 - f1: 0.7233 - precision: 0.7580 - recall: 0.6922- ETA: 4s - loss: 832\n",
      "Epoch 00006: ReduceLROnPlateau reducing learning rate to 0.00020000000949949026.\n",
      "103488/103488 [==============================] - 103s 992us/sample - loss: 832.0137 - acc: 0.7329 - f1: 0.7233 - precision: 0.7580 - recall: 0.6922 - val_loss: 817.4406 - val_acc: 0.7022 - val_f1: 0.6905 - val_precision: 0.7237 - val_recall: 0.6607\n",
      "Epoch 7/50\n",
      "103488/103488 [==============================] - 102s 986us/sample - loss: 814.3842 - acc: 0.7733 - f1: 0.7677 - precision: 0.7918 - recall: 0.7454 - val_loss: 811.6227 - val_acc: 0.7083 - val_f1: 0.7019 - val_precision: 0.7225 - val_recall: 0.6828oss: 814.4434 - acc: 0.7733 - f1: 0.7677 - p\n",
      "Epoch 8/50\n",
      "103488/103488 [==============================] - 102s 988us/sample - loss: 808.5546 - acc: 0.7920 - f1: 0.7881 - precision: 0.8075 - recall: 0.7699 - val_loss: 805.8838 - val_acc: 0.7026 - val_f1: 0.6992 - val_precision: 0.7136 - val_recall: 0.6856\n",
      "Epoch 9/50\n",
      "103488/103488 [==============================] - 101s 977us/sample - loss: 802.7662 - acc: 0.8103 - f1: 0.8074 - precision: 0.8234 - recall: 0.7923 - val_loss: 800.1729 - val_acc: 0.6990 - val_f1: 0.6976 - val_precision: 0.7145 - val_recall: 0.6817\n",
      "Epoch 10/50\n",
      "103488/103488 [==============================] - 101s 978us/sample - loss: 797.0021 - acc: 0.8236 - f1: 0.8213 - precision: 0.8358 - recall: 0.8074 - val_loss: 794.4899 - val_acc: 0.6952 - val_f1: 0.6917 - val_precision: 0.7054 - val_recall: 0.6787\n",
      "Epoch 11/50\n",
      " 43968/103488 [===========>..................] - ETA: 56s - loss: 792.8805 - acc: 0.8488 - f1: 0.8470 - precision: 0.8594 - recall: 0.8351 ETA: 57s - loss: 792.9010 - acc: 0.8491 - f1: 0.8474 - precisioWARNING:tensorflow:Can save best model only with val_f1 available, skipping.\n",
      "WARNING:tensorflow:Reduce LR on plateau conditioned on metric `val_f1` which is not available. Available metrics are: loss,acc,f1,precision,recall,lr\n"
     ]
    },
    {
     "ename": "KeyboardInterrupt",
     "evalue": "",
     "output_type": "error",
     "traceback": [
      "\u001b[1;31m---------------------------------------------------------------------------\u001b[0m",
      "\u001b[1;31mKeyboardInterrupt\u001b[0m                         Traceback (most recent call last)",
      "\u001b[1;32m<ipython-input-79-3cf8e435d2e4>\u001b[0m in \u001b[0;36m<module>\u001b[1;34m\u001b[0m\n\u001b[0;32m      2\u001b[0m \u001b[0mreduce_lr\u001b[0m \u001b[1;33m=\u001b[0m \u001b[0mReduceLROnPlateau\u001b[0m\u001b[1;33m(\u001b[0m\u001b[0mmonitor\u001b[0m\u001b[1;33m=\u001b[0m\u001b[1;34m'val_f1'\u001b[0m\u001b[1;33m,\u001b[0m \u001b[0mmode\u001b[0m\u001b[1;33m=\u001b[0m\u001b[1;34m'min'\u001b[0m\u001b[1;33m,\u001b[0m \u001b[0mfactor\u001b[0m\u001b[1;33m=\u001b[0m\u001b[1;36m0.2\u001b[0m\u001b[1;33m,\u001b[0m \u001b[0mpatience\u001b[0m\u001b[1;33m=\u001b[0m\u001b[1;36m5\u001b[0m\u001b[1;33m,\u001b[0m \u001b[0mverbose\u001b[0m\u001b[1;33m=\u001b[0m\u001b[1;36m1\u001b[0m\u001b[1;33m,\u001b[0m \u001b[0mcooldown\u001b[0m\u001b[1;33m=\u001b[0m\u001b[1;36m3\u001b[0m\u001b[1;33m)\u001b[0m\u001b[1;33m\u001b[0m\u001b[1;33m\u001b[0m\u001b[0m\n\u001b[0;32m      3\u001b[0m \u001b[1;33m\u001b[0m\u001b[0m\n\u001b[1;32m----> 4\u001b[1;33m \u001b[0mhistory\u001b[0m \u001b[1;33m=\u001b[0m \u001b[0mmodel\u001b[0m\u001b[1;33m.\u001b[0m\u001b[0mfit\u001b[0m\u001b[1;33m(\u001b[0m\u001b[0mtrainX\u001b[0m\u001b[1;33m,\u001b[0m \u001b[0mtrainY\u001b[0m\u001b[1;33m,\u001b[0m \u001b[0mbatch_size\u001b[0m\u001b[1;33m=\u001b[0m\u001b[1;36m64\u001b[0m\u001b[1;33m,\u001b[0m \u001b[0mvalidation_data\u001b[0m\u001b[1;33m=\u001b[0m\u001b[1;33m(\u001b[0m\u001b[0mvalidationX\u001b[0m\u001b[1;33m,\u001b[0m \u001b[0mvalidationY\u001b[0m\u001b[1;33m)\u001b[0m\u001b[1;33m,\u001b[0m \u001b[0mcallbacks\u001b[0m\u001b[1;33m=\u001b[0m\u001b[1;33m[\u001b[0m\u001b[0msave_best\u001b[0m\u001b[1;33m,\u001b[0m \u001b[0mreduce_lr\u001b[0m\u001b[1;33m]\u001b[0m\u001b[1;33m,\u001b[0m \u001b[0mepochs\u001b[0m\u001b[1;33m=\u001b[0m\u001b[1;36m50\u001b[0m\u001b[1;33m,\u001b[0m \u001b[0mverbose\u001b[0m\u001b[1;33m=\u001b[0m\u001b[1;36m1\u001b[0m\u001b[1;33m)\u001b[0m\u001b[1;33m\u001b[0m\u001b[1;33m\u001b[0m\u001b[0m\n\u001b[0m",
      "\u001b[1;32mD:\\SoftwareProjects\\anaconda3\\envs\\tf-gpu\\lib\\site-packages\\tensorflow_core\\python\\keras\\engine\\training.py\u001b[0m in \u001b[0;36mfit\u001b[1;34m(self, x, y, batch_size, epochs, verbose, callbacks, validation_split, validation_data, shuffle, class_weight, sample_weight, initial_epoch, steps_per_epoch, validation_steps, validation_freq, max_queue_size, workers, use_multiprocessing, **kwargs)\u001b[0m\n\u001b[0;32m    817\u001b[0m         \u001b[0mmax_queue_size\u001b[0m\u001b[1;33m=\u001b[0m\u001b[0mmax_queue_size\u001b[0m\u001b[1;33m,\u001b[0m\u001b[1;33m\u001b[0m\u001b[1;33m\u001b[0m\u001b[0m\n\u001b[0;32m    818\u001b[0m         \u001b[0mworkers\u001b[0m\u001b[1;33m=\u001b[0m\u001b[0mworkers\u001b[0m\u001b[1;33m,\u001b[0m\u001b[1;33m\u001b[0m\u001b[1;33m\u001b[0m\u001b[0m\n\u001b[1;32m--> 819\u001b[1;33m         use_multiprocessing=use_multiprocessing)\n\u001b[0m\u001b[0;32m    820\u001b[0m \u001b[1;33m\u001b[0m\u001b[0m\n\u001b[0;32m    821\u001b[0m   def evaluate(self,\n",
      "\u001b[1;32mD:\\SoftwareProjects\\anaconda3\\envs\\tf-gpu\\lib\\site-packages\\tensorflow_core\\python\\keras\\engine\\training_v2.py\u001b[0m in \u001b[0;36mfit\u001b[1;34m(self, model, x, y, batch_size, epochs, verbose, callbacks, validation_split, validation_data, shuffle, class_weight, sample_weight, initial_epoch, steps_per_epoch, validation_steps, validation_freq, max_queue_size, workers, use_multiprocessing, **kwargs)\u001b[0m\n\u001b[0;32m    340\u001b[0m                 \u001b[0mmode\u001b[0m\u001b[1;33m=\u001b[0m\u001b[0mModeKeys\u001b[0m\u001b[1;33m.\u001b[0m\u001b[0mTRAIN\u001b[0m\u001b[1;33m,\u001b[0m\u001b[1;33m\u001b[0m\u001b[1;33m\u001b[0m\u001b[0m\n\u001b[0;32m    341\u001b[0m                 \u001b[0mtraining_context\u001b[0m\u001b[1;33m=\u001b[0m\u001b[0mtraining_context\u001b[0m\u001b[1;33m,\u001b[0m\u001b[1;33m\u001b[0m\u001b[1;33m\u001b[0m\u001b[0m\n\u001b[1;32m--> 342\u001b[1;33m                 total_epochs=epochs)\n\u001b[0m\u001b[0;32m    343\u001b[0m             \u001b[0mcbks\u001b[0m\u001b[1;33m.\u001b[0m\u001b[0mmake_logs\u001b[0m\u001b[1;33m(\u001b[0m\u001b[0mmodel\u001b[0m\u001b[1;33m,\u001b[0m \u001b[0mepoch_logs\u001b[0m\u001b[1;33m,\u001b[0m \u001b[0mtraining_result\u001b[0m\u001b[1;33m,\u001b[0m \u001b[0mModeKeys\u001b[0m\u001b[1;33m.\u001b[0m\u001b[0mTRAIN\u001b[0m\u001b[1;33m)\u001b[0m\u001b[1;33m\u001b[0m\u001b[1;33m\u001b[0m\u001b[0m\n\u001b[0;32m    344\u001b[0m \u001b[1;33m\u001b[0m\u001b[0m\n",
      "\u001b[1;32mD:\\SoftwareProjects\\anaconda3\\envs\\tf-gpu\\lib\\site-packages\\tensorflow_core\\python\\keras\\engine\\training_v2.py\u001b[0m in \u001b[0;36mrun_one_epoch\u001b[1;34m(model, iterator, execution_function, dataset_size, batch_size, strategy, steps_per_epoch, num_samples, mode, training_context, total_epochs)\u001b[0m\n\u001b[0;32m    126\u001b[0m         step=step, mode=mode, size=current_batch_size) as batch_logs:\n\u001b[0;32m    127\u001b[0m       \u001b[1;32mtry\u001b[0m\u001b[1;33m:\u001b[0m\u001b[1;33m\u001b[0m\u001b[1;33m\u001b[0m\u001b[0m\n\u001b[1;32m--> 128\u001b[1;33m         \u001b[0mbatch_outs\u001b[0m \u001b[1;33m=\u001b[0m \u001b[0mexecution_function\u001b[0m\u001b[1;33m(\u001b[0m\u001b[0miterator\u001b[0m\u001b[1;33m)\u001b[0m\u001b[1;33m\u001b[0m\u001b[1;33m\u001b[0m\u001b[0m\n\u001b[0m\u001b[0;32m    129\u001b[0m       \u001b[1;32mexcept\u001b[0m \u001b[1;33m(\u001b[0m\u001b[0mStopIteration\u001b[0m\u001b[1;33m,\u001b[0m \u001b[0merrors\u001b[0m\u001b[1;33m.\u001b[0m\u001b[0mOutOfRangeError\u001b[0m\u001b[1;33m)\u001b[0m\u001b[1;33m:\u001b[0m\u001b[1;33m\u001b[0m\u001b[1;33m\u001b[0m\u001b[0m\n\u001b[0;32m    130\u001b[0m         \u001b[1;31m# TODO(kaftan): File bug about tf function and errors.OutOfRangeError?\u001b[0m\u001b[1;33m\u001b[0m\u001b[1;33m\u001b[0m\u001b[1;33m\u001b[0m\u001b[0m\n",
      "\u001b[1;32mD:\\SoftwareProjects\\anaconda3\\envs\\tf-gpu\\lib\\site-packages\\tensorflow_core\\python\\keras\\engine\\training_v2_utils.py\u001b[0m in \u001b[0;36mexecution_function\u001b[1;34m(input_fn)\u001b[0m\n\u001b[0;32m     96\u001b[0m     \u001b[1;31m# `numpy` translates Tensors to values in Eager mode.\u001b[0m\u001b[1;33m\u001b[0m\u001b[1;33m\u001b[0m\u001b[1;33m\u001b[0m\u001b[0m\n\u001b[0;32m     97\u001b[0m     return nest.map_structure(_non_none_constant_value,\n\u001b[1;32m---> 98\u001b[1;33m                               distributed_function(input_fn))\n\u001b[0m\u001b[0;32m     99\u001b[0m \u001b[1;33m\u001b[0m\u001b[0m\n\u001b[0;32m    100\u001b[0m   \u001b[1;32mreturn\u001b[0m \u001b[0mexecution_function\u001b[0m\u001b[1;33m\u001b[0m\u001b[1;33m\u001b[0m\u001b[0m\n",
      "\u001b[1;32mD:\\SoftwareProjects\\anaconda3\\envs\\tf-gpu\\lib\\site-packages\\tensorflow_core\\python\\eager\\def_function.py\u001b[0m in \u001b[0;36m__call__\u001b[1;34m(self, *args, **kwds)\u001b[0m\n\u001b[0;32m    566\u001b[0m         \u001b[0mxla_context\u001b[0m\u001b[1;33m.\u001b[0m\u001b[0mExit\u001b[0m\u001b[1;33m(\u001b[0m\u001b[1;33m)\u001b[0m\u001b[1;33m\u001b[0m\u001b[1;33m\u001b[0m\u001b[0m\n\u001b[0;32m    567\u001b[0m     \u001b[1;32melse\u001b[0m\u001b[1;33m:\u001b[0m\u001b[1;33m\u001b[0m\u001b[1;33m\u001b[0m\u001b[0m\n\u001b[1;32m--> 568\u001b[1;33m       \u001b[0mresult\u001b[0m \u001b[1;33m=\u001b[0m \u001b[0mself\u001b[0m\u001b[1;33m.\u001b[0m\u001b[0m_call\u001b[0m\u001b[1;33m(\u001b[0m\u001b[1;33m*\u001b[0m\u001b[0margs\u001b[0m\u001b[1;33m,\u001b[0m \u001b[1;33m**\u001b[0m\u001b[0mkwds\u001b[0m\u001b[1;33m)\u001b[0m\u001b[1;33m\u001b[0m\u001b[1;33m\u001b[0m\u001b[0m\n\u001b[0m\u001b[0;32m    569\u001b[0m \u001b[1;33m\u001b[0m\u001b[0m\n\u001b[0;32m    570\u001b[0m     \u001b[1;32mif\u001b[0m \u001b[0mtracing_count\u001b[0m \u001b[1;33m==\u001b[0m \u001b[0mself\u001b[0m\u001b[1;33m.\u001b[0m\u001b[0m_get_tracing_count\u001b[0m\u001b[1;33m(\u001b[0m\u001b[1;33m)\u001b[0m\u001b[1;33m:\u001b[0m\u001b[1;33m\u001b[0m\u001b[1;33m\u001b[0m\u001b[0m\n",
      "\u001b[1;32mD:\\SoftwareProjects\\anaconda3\\envs\\tf-gpu\\lib\\site-packages\\tensorflow_core\\python\\eager\\def_function.py\u001b[0m in \u001b[0;36m_call\u001b[1;34m(self, *args, **kwds)\u001b[0m\n\u001b[0;32m    597\u001b[0m       \u001b[1;31m# In this case we have created variables on the first call, so we run the\u001b[0m\u001b[1;33m\u001b[0m\u001b[1;33m\u001b[0m\u001b[1;33m\u001b[0m\u001b[0m\n\u001b[0;32m    598\u001b[0m       \u001b[1;31m# defunned version which is guaranteed to never create variables.\u001b[0m\u001b[1;33m\u001b[0m\u001b[1;33m\u001b[0m\u001b[1;33m\u001b[0m\u001b[0m\n\u001b[1;32m--> 599\u001b[1;33m       \u001b[1;32mreturn\u001b[0m \u001b[0mself\u001b[0m\u001b[1;33m.\u001b[0m\u001b[0m_stateless_fn\u001b[0m\u001b[1;33m(\u001b[0m\u001b[1;33m*\u001b[0m\u001b[0margs\u001b[0m\u001b[1;33m,\u001b[0m \u001b[1;33m**\u001b[0m\u001b[0mkwds\u001b[0m\u001b[1;33m)\u001b[0m  \u001b[1;31m# pylint: disable=not-callable\u001b[0m\u001b[1;33m\u001b[0m\u001b[1;33m\u001b[0m\u001b[0m\n\u001b[0m\u001b[0;32m    600\u001b[0m     \u001b[1;32melif\u001b[0m \u001b[0mself\u001b[0m\u001b[1;33m.\u001b[0m\u001b[0m_stateful_fn\u001b[0m \u001b[1;32mis\u001b[0m \u001b[1;32mnot\u001b[0m \u001b[1;32mNone\u001b[0m\u001b[1;33m:\u001b[0m\u001b[1;33m\u001b[0m\u001b[1;33m\u001b[0m\u001b[0m\n\u001b[0;32m    601\u001b[0m       \u001b[1;31m# Release the lock early so that multiple threads can perform the call\u001b[0m\u001b[1;33m\u001b[0m\u001b[1;33m\u001b[0m\u001b[1;33m\u001b[0m\u001b[0m\n",
      "\u001b[1;32mD:\\SoftwareProjects\\anaconda3\\envs\\tf-gpu\\lib\\site-packages\\tensorflow_core\\python\\eager\\function.py\u001b[0m in \u001b[0;36m__call__\u001b[1;34m(self, *args, **kwargs)\u001b[0m\n\u001b[0;32m   2361\u001b[0m     \u001b[1;32mwith\u001b[0m \u001b[0mself\u001b[0m\u001b[1;33m.\u001b[0m\u001b[0m_lock\u001b[0m\u001b[1;33m:\u001b[0m\u001b[1;33m\u001b[0m\u001b[1;33m\u001b[0m\u001b[0m\n\u001b[0;32m   2362\u001b[0m       \u001b[0mgraph_function\u001b[0m\u001b[1;33m,\u001b[0m \u001b[0margs\u001b[0m\u001b[1;33m,\u001b[0m \u001b[0mkwargs\u001b[0m \u001b[1;33m=\u001b[0m \u001b[0mself\u001b[0m\u001b[1;33m.\u001b[0m\u001b[0m_maybe_define_function\u001b[0m\u001b[1;33m(\u001b[0m\u001b[0margs\u001b[0m\u001b[1;33m,\u001b[0m \u001b[0mkwargs\u001b[0m\u001b[1;33m)\u001b[0m\u001b[1;33m\u001b[0m\u001b[1;33m\u001b[0m\u001b[0m\n\u001b[1;32m-> 2363\u001b[1;33m     \u001b[1;32mreturn\u001b[0m \u001b[0mgraph_function\u001b[0m\u001b[1;33m.\u001b[0m\u001b[0m_filtered_call\u001b[0m\u001b[1;33m(\u001b[0m\u001b[0margs\u001b[0m\u001b[1;33m,\u001b[0m \u001b[0mkwargs\u001b[0m\u001b[1;33m)\u001b[0m  \u001b[1;31m# pylint: disable=protected-access\u001b[0m\u001b[1;33m\u001b[0m\u001b[1;33m\u001b[0m\u001b[0m\n\u001b[0m\u001b[0;32m   2364\u001b[0m \u001b[1;33m\u001b[0m\u001b[0m\n\u001b[0;32m   2365\u001b[0m   \u001b[1;33m@\u001b[0m\u001b[0mproperty\u001b[0m\u001b[1;33m\u001b[0m\u001b[1;33m\u001b[0m\u001b[0m\n",
      "\u001b[1;32mD:\\SoftwareProjects\\anaconda3\\envs\\tf-gpu\\lib\\site-packages\\tensorflow_core\\python\\eager\\function.py\u001b[0m in \u001b[0;36m_filtered_call\u001b[1;34m(self, args, kwargs)\u001b[0m\n\u001b[0;32m   1609\u001b[0m          if isinstance(t, (ops.Tensor,\n\u001b[0;32m   1610\u001b[0m                            resource_variable_ops.BaseResourceVariable))),\n\u001b[1;32m-> 1611\u001b[1;33m         self.captured_inputs)\n\u001b[0m\u001b[0;32m   1612\u001b[0m \u001b[1;33m\u001b[0m\u001b[0m\n\u001b[0;32m   1613\u001b[0m   \u001b[1;32mdef\u001b[0m \u001b[0m_call_flat\u001b[0m\u001b[1;33m(\u001b[0m\u001b[0mself\u001b[0m\u001b[1;33m,\u001b[0m \u001b[0margs\u001b[0m\u001b[1;33m,\u001b[0m \u001b[0mcaptured_inputs\u001b[0m\u001b[1;33m,\u001b[0m \u001b[0mcancellation_manager\u001b[0m\u001b[1;33m=\u001b[0m\u001b[1;32mNone\u001b[0m\u001b[1;33m)\u001b[0m\u001b[1;33m:\u001b[0m\u001b[1;33m\u001b[0m\u001b[1;33m\u001b[0m\u001b[0m\n",
      "\u001b[1;32mD:\\SoftwareProjects\\anaconda3\\envs\\tf-gpu\\lib\\site-packages\\tensorflow_core\\python\\eager\\function.py\u001b[0m in \u001b[0;36m_call_flat\u001b[1;34m(self, args, captured_inputs, cancellation_manager)\u001b[0m\n\u001b[0;32m   1690\u001b[0m       \u001b[1;31m# No tape is watching; skip to running the function.\u001b[0m\u001b[1;33m\u001b[0m\u001b[1;33m\u001b[0m\u001b[1;33m\u001b[0m\u001b[0m\n\u001b[0;32m   1691\u001b[0m       return self._build_call_outputs(self._inference_function.call(\n\u001b[1;32m-> 1692\u001b[1;33m           ctx, args, cancellation_manager=cancellation_manager))\n\u001b[0m\u001b[0;32m   1693\u001b[0m     forward_backward = self._select_forward_and_backward_functions(\n\u001b[0;32m   1694\u001b[0m         \u001b[0margs\u001b[0m\u001b[1;33m,\u001b[0m\u001b[1;33m\u001b[0m\u001b[1;33m\u001b[0m\u001b[0m\n",
      "\u001b[1;32mD:\\SoftwareProjects\\anaconda3\\envs\\tf-gpu\\lib\\site-packages\\tensorflow_core\\python\\eager\\function.py\u001b[0m in \u001b[0;36mcall\u001b[1;34m(self, ctx, args, cancellation_manager)\u001b[0m\n\u001b[0;32m    543\u001b[0m               \u001b[0minputs\u001b[0m\u001b[1;33m=\u001b[0m\u001b[0margs\u001b[0m\u001b[1;33m,\u001b[0m\u001b[1;33m\u001b[0m\u001b[1;33m\u001b[0m\u001b[0m\n\u001b[0;32m    544\u001b[0m               \u001b[0mattrs\u001b[0m\u001b[1;33m=\u001b[0m\u001b[1;33m(\u001b[0m\u001b[1;34m\"executor_type\"\u001b[0m\u001b[1;33m,\u001b[0m \u001b[0mexecutor_type\u001b[0m\u001b[1;33m,\u001b[0m \u001b[1;34m\"config_proto\"\u001b[0m\u001b[1;33m,\u001b[0m \u001b[0mconfig\u001b[0m\u001b[1;33m)\u001b[0m\u001b[1;33m,\u001b[0m\u001b[1;33m\u001b[0m\u001b[1;33m\u001b[0m\u001b[0m\n\u001b[1;32m--> 545\u001b[1;33m               ctx=ctx)\n\u001b[0m\u001b[0;32m    546\u001b[0m         \u001b[1;32melse\u001b[0m\u001b[1;33m:\u001b[0m\u001b[1;33m\u001b[0m\u001b[1;33m\u001b[0m\u001b[0m\n\u001b[0;32m    547\u001b[0m           outputs = execute.execute_with_cancellation(\n",
      "\u001b[1;32mD:\\SoftwareProjects\\anaconda3\\envs\\tf-gpu\\lib\\site-packages\\tensorflow_core\\python\\eager\\execute.py\u001b[0m in \u001b[0;36mquick_execute\u001b[1;34m(op_name, num_outputs, inputs, attrs, ctx, name)\u001b[0m\n\u001b[0;32m     59\u001b[0m     tensors = pywrap_tensorflow.TFE_Py_Execute(ctx._handle, device_name,\n\u001b[0;32m     60\u001b[0m                                                \u001b[0mop_name\u001b[0m\u001b[1;33m,\u001b[0m \u001b[0minputs\u001b[0m\u001b[1;33m,\u001b[0m \u001b[0mattrs\u001b[0m\u001b[1;33m,\u001b[0m\u001b[1;33m\u001b[0m\u001b[1;33m\u001b[0m\u001b[0m\n\u001b[1;32m---> 61\u001b[1;33m                                                num_outputs)\n\u001b[0m\u001b[0;32m     62\u001b[0m   \u001b[1;32mexcept\u001b[0m \u001b[0mcore\u001b[0m\u001b[1;33m.\u001b[0m\u001b[0m_NotOkStatusException\u001b[0m \u001b[1;32mas\u001b[0m \u001b[0me\u001b[0m\u001b[1;33m:\u001b[0m\u001b[1;33m\u001b[0m\u001b[1;33m\u001b[0m\u001b[0m\n\u001b[0;32m     63\u001b[0m     \u001b[1;32mif\u001b[0m \u001b[0mname\u001b[0m \u001b[1;32mis\u001b[0m \u001b[1;32mnot\u001b[0m \u001b[1;32mNone\u001b[0m\u001b[1;33m:\u001b[0m\u001b[1;33m\u001b[0m\u001b[1;33m\u001b[0m\u001b[0m\n",
      "\u001b[1;31mKeyboardInterrupt\u001b[0m: "
     ]
    }
   ],
   "source": [
    "save_best = ModelCheckpoint('model/best_weights_val_f1.hdf5', save_best_only=True, monitor='val_f1', mode='max')\n",
    "reduce_lr = ReduceLROnPlateau(monitor='val_f1', mode='min', factor=0.2, patience=5, verbose=1, cooldown=3)\n",
    "\n",
    "history = model.fit(trainX, trainY, batch_size=64, validation_data=(validationX, validationY), callbacks=[save_best, reduce_lr], epochs=50, verbose=1)"
   ]
  },
  {
   "cell_type": "code",
   "execution_count": null,
   "metadata": {},
   "outputs": [],
   "source": [
    "plot_history(history.history)"
   ]
  },
  {
   "cell_type": "code",
   "execution_count": 81,
   "metadata": {},
   "outputs": [
    {
     "name": "stdout",
     "output_type": "stream",
     "text": [
      "3000/3000 [==============================] - 3s 882us/sample - loss: 811.5924 - acc: 0.7197 - f1: 0.7111 - precision: 0.7323 - recall: 0.6918\n"
     ]
    },
    {
     "data": {
      "text/plain": [
       "[811.5923805338541, 0.71966666, 0.7111235, 0.7323402, 0.6918218]"
      ]
     },
     "execution_count": 81,
     "metadata": {},
     "output_type": "execute_result"
    }
   ],
   "source": [
    "model.load_weights('model/best_weights_val_f1.hdf5')\n",
    "model.evaluate(testX, testY)"
   ]
  },
  {
   "cell_type": "markdown",
   "metadata": {},
   "source": [
    "## Исследуем ошибки:"
   ]
  },
  {
   "cell_type": "code",
   "execution_count": 82,
   "metadata": {},
   "outputs": [
    {
     "data": {
      "text/html": [
       "<div>\n",
       "<style scoped>\n",
       "    .dataframe tbody tr th:only-of-type {\n",
       "        vertical-align: middle;\n",
       "    }\n",
       "\n",
       "    .dataframe tbody tr th {\n",
       "        vertical-align: top;\n",
       "    }\n",
       "\n",
       "    .dataframe thead th {\n",
       "        text-align: right;\n",
       "    }\n",
       "</style>\n",
       "<table border=\"1\" class=\"dataframe\">\n",
       "  <thead>\n",
       "    <tr style=\"text-align: right;\">\n",
       "      <th></th>\n",
       "      <th>text</th>\n",
       "      <th>preprocessed</th>\n",
       "      <th>sentiment</th>\n",
       "      <th>sequences</th>\n",
       "      <th>padded_sequences</th>\n",
       "    </tr>\n",
       "  </thead>\n",
       "  <tbody>\n",
       "    <tr>\n",
       "      <th>36789</th>\n",
       "      <td>Первое впечатление после просмотра фильма было...</td>\n",
       "      <td>первый впечатление просмотр фильм очень двояки...</td>\n",
       "      <td>1</td>\n",
       "      <td>[1282, 16120, 31807, 1821, 1841, 1445, 98686, ...</td>\n",
       "      <td>[0, 0, 0, 0, 0, 0, 0, 0, 0, 0, 0, 0, 0, 0, 0, ...</td>\n",
       "    </tr>\n",
       "    <tr>\n",
       "      <th>31478</th>\n",
       "      <td>платье очень хорошее, ткань качественная, плот...</td>\n",
       "      <td>платье очень хороший ткань качественный плотны...</td>\n",
       "      <td>1</td>\n",
       "      <td>[28121, 1841, 23365, 29161, 72556, 65635, 9388...</td>\n",
       "      <td>[0, 0, 0, 0, 0, 0, 0, 0, 0, 0, 0, 0, 0, 0, 0, ...</td>\n",
       "    </tr>\n",
       "    <tr>\n",
       "      <th>20491</th>\n",
       "      <td>Джинсы класс , заказала на свой обычный s , та...</td>\n",
       "      <td>джинсы класс заказать свой обычный сесть прям ...</td>\n",
       "      <td>1</td>\n",
       "      <td>[19278, 646, 7431, 75309, 1706, 24235, 61828, ...</td>\n",
       "      <td>[0, 0, 0, 0, 0, 0, 0, 0, 0, 0, 0, 0, 0, 0, 0, ...</td>\n",
       "    </tr>\n",
       "    <tr>\n",
       "      <th>8083</th>\n",
       "      <td>Джинсы супер! Беру уже во второй раз.</td>\n",
       "      <td>джинсы супер брать второй раз</td>\n",
       "      <td>1</td>\n",
       "      <td>[19278, 646, 4248, 23976, 1252, 279]</td>\n",
       "      <td>[0, 0, 0, 0, 0, 0, 0, 0, 0, 0, 0, 0, 0, 0, 0, ...</td>\n",
       "    </tr>\n",
       "    <tr>\n",
       "      <th>29650</th>\n",
       "      <td>Отличная юбка , оригинально сделанная, не прос...</td>\n",
       "      <td>отличный юбка оригинально сделать не просвечив...</td>\n",
       "      <td>1</td>\n",
       "      <td>[49112, 386, 6911, 4050, 872, 5688, 173, 7413,...</td>\n",
       "      <td>[0, 0, 0, 0, 0, 0, 0, 0, 0, 0, 0, 0, 0, 0, 0, ...</td>\n",
       "    </tr>\n",
       "  </tbody>\n",
       "</table>\n",
       "</div>"
      ],
      "text/plain": [
       "                                                    text  \\\n",
       "36789  Первое впечатление после просмотра фильма было...   \n",
       "31478  платье очень хорошее, ткань качественная, плот...   \n",
       "20491  Джинсы класс , заказала на свой обычный s , та...   \n",
       "8083               Джинсы супер! Беру уже во второй раз.   \n",
       "29650  Отличная юбка , оригинально сделанная, не прос...   \n",
       "\n",
       "                                            preprocessed  sentiment  \\\n",
       "36789  первый впечатление просмотр фильм очень двояки...          1   \n",
       "31478  платье очень хороший ткань качественный плотны...          1   \n",
       "20491  джинсы класс заказать свой обычный сесть прям ...          1   \n",
       "8083                       джинсы супер брать второй раз          1   \n",
       "29650  отличный юбка оригинально сделать не просвечив...          1   \n",
       "\n",
       "                                               sequences  \\\n",
       "36789  [1282, 16120, 31807, 1821, 1841, 1445, 98686, ...   \n",
       "31478  [28121, 1841, 23365, 29161, 72556, 65635, 9388...   \n",
       "20491  [19278, 646, 7431, 75309, 1706, 24235, 61828, ...   \n",
       "8083                [19278, 646, 4248, 23976, 1252, 279]   \n",
       "29650  [49112, 386, 6911, 4050, 872, 5688, 173, 7413,...   \n",
       "\n",
       "                                        padded_sequences  \n",
       "36789  [0, 0, 0, 0, 0, 0, 0, 0, 0, 0, 0, 0, 0, 0, 0, ...  \n",
       "31478  [0, 0, 0, 0, 0, 0, 0, 0, 0, 0, 0, 0, 0, 0, 0, ...  \n",
       "20491  [0, 0, 0, 0, 0, 0, 0, 0, 0, 0, 0, 0, 0, 0, 0, ...  \n",
       "8083   [0, 0, 0, 0, 0, 0, 0, 0, 0, 0, 0, 0, 0, 0, 0, ...  \n",
       "29650  [0, 0, 0, 0, 0, 0, 0, 0, 0, 0, 0, 0, 0, 0, 0, ...  "
      ]
     },
     "execution_count": 82,
     "metadata": {},
     "output_type": "execute_result"
    }
   ],
   "source": [
    "validation_explorations = validation[['text', 'preprocessed', 'sentiment', 'sequences', 'padded_sequences']]\n",
    "validation_explorations.head()"
   ]
  },
  {
   "cell_type": "code",
   "execution_count": 83,
   "metadata": {},
   "outputs": [],
   "source": [
    "import operator\n",
    "\n",
    "def predict(ps):\n",
    "    padded_sequense_array = np.reshape(ps, (1, max_sequence_length))\n",
    "    vector = model.predict(padded_sequense_array).T\n",
    "    vector = np.concatenate(vector, axis=0 )\n",
    "    zipped = np.array(list(zip(outputs_index.keys(), vector.T)))\n",
    "    answer = {x[0]:x[1] for x in zipped}\n",
    "    answer = sorted(answer.items(), key=lambda x: float(operator.itemgetter(1)(x)), reverse=True)[:10]\n",
    "    pred_sentiment = answer[0][0]\n",
    "    return int(pred_sentiment)"
   ]
  },
  {
   "cell_type": "code",
   "execution_count": 84,
   "metadata": {},
   "outputs": [
    {
     "name": "stderr",
     "output_type": "stream",
     "text": [
      "100%|██████████| 9000/9000 [05:04<00:00, 29.51it/s]\n",
      "D:\\SoftwareProjects\\anaconda3\\envs\\tf-gpu\\lib\\site-packages\\ipykernel_launcher.py:1: SettingWithCopyWarning: \n",
      "A value is trying to be set on a copy of a slice from a DataFrame.\n",
      "Try using .loc[row_indexer,col_indexer] = value instead\n",
      "\n",
      "See the caveats in the documentation: https://pandas.pydata.org/pandas-docs/stable/user_guide/indexing.html#returning-a-view-versus-a-copy\n",
      "  \"\"\"Entry point for launching an IPython kernel.\n"
     ]
    },
    {
     "data": {
      "text/html": [
       "<div>\n",
       "<style scoped>\n",
       "    .dataframe tbody tr th:only-of-type {\n",
       "        vertical-align: middle;\n",
       "    }\n",
       "\n",
       "    .dataframe tbody tr th {\n",
       "        vertical-align: top;\n",
       "    }\n",
       "\n",
       "    .dataframe thead th {\n",
       "        text-align: right;\n",
       "    }\n",
       "</style>\n",
       "<table border=\"1\" class=\"dataframe\">\n",
       "  <thead>\n",
       "    <tr style=\"text-align: right;\">\n",
       "      <th></th>\n",
       "      <th>text</th>\n",
       "      <th>preprocessed</th>\n",
       "      <th>sentiment</th>\n",
       "      <th>sequences</th>\n",
       "      <th>padded_sequences</th>\n",
       "      <th>pred_sentiment</th>\n",
       "    </tr>\n",
       "  </thead>\n",
       "  <tbody>\n",
       "    <tr>\n",
       "      <th>36789</th>\n",
       "      <td>Первое впечатление после просмотра фильма было...</td>\n",
       "      <td>первый впечатление просмотр фильм очень двояки...</td>\n",
       "      <td>1</td>\n",
       "      <td>[1282, 16120, 31807, 1821, 1841, 1445, 98686, ...</td>\n",
       "      <td>[0, 0, 0, 0, 0, 0, 0, 0, 0, 0, 0, 0, 0, 0, 0, ...</td>\n",
       "      <td>0</td>\n",
       "    </tr>\n",
       "    <tr>\n",
       "      <th>31478</th>\n",
       "      <td>платье очень хорошее, ткань качественная, плот...</td>\n",
       "      <td>платье очень хороший ткань качественный плотны...</td>\n",
       "      <td>1</td>\n",
       "      <td>[28121, 1841, 23365, 29161, 72556, 65635, 9388...</td>\n",
       "      <td>[0, 0, 0, 0, 0, 0, 0, 0, 0, 0, 0, 0, 0, 0, 0, ...</td>\n",
       "      <td>1</td>\n",
       "    </tr>\n",
       "    <tr>\n",
       "      <th>20491</th>\n",
       "      <td>Джинсы класс , заказала на свой обычный s , та...</td>\n",
       "      <td>джинсы класс заказать свой обычный сесть прям ...</td>\n",
       "      <td>1</td>\n",
       "      <td>[19278, 646, 7431, 75309, 1706, 24235, 61828, ...</td>\n",
       "      <td>[0, 0, 0, 0, 0, 0, 0, 0, 0, 0, 0, 0, 0, 0, 0, ...</td>\n",
       "      <td>1</td>\n",
       "    </tr>\n",
       "    <tr>\n",
       "      <th>8083</th>\n",
       "      <td>Джинсы супер! Беру уже во второй раз.</td>\n",
       "      <td>джинсы супер брать второй раз</td>\n",
       "      <td>1</td>\n",
       "      <td>[19278, 646, 4248, 23976, 1252, 279]</td>\n",
       "      <td>[0, 0, 0, 0, 0, 0, 0, 0, 0, 0, 0, 0, 0, 0, 0, ...</td>\n",
       "      <td>1</td>\n",
       "    </tr>\n",
       "    <tr>\n",
       "      <th>29650</th>\n",
       "      <td>Отличная юбка , оригинально сделанная, не прос...</td>\n",
       "      <td>отличный юбка оригинально сделать не просвечив...</td>\n",
       "      <td>1</td>\n",
       "      <td>[49112, 386, 6911, 4050, 872, 5688, 173, 7413,...</td>\n",
       "      <td>[0, 0, 0, 0, 0, 0, 0, 0, 0, 0, 0, 0, 0, 0, 0, ...</td>\n",
       "      <td>1</td>\n",
       "    </tr>\n",
       "  </tbody>\n",
       "</table>\n",
       "</div>"
      ],
      "text/plain": [
       "                                                    text  \\\n",
       "36789  Первое впечатление после просмотра фильма было...   \n",
       "31478  платье очень хорошее, ткань качественная, плот...   \n",
       "20491  Джинсы класс , заказала на свой обычный s , та...   \n",
       "8083               Джинсы супер! Беру уже во второй раз.   \n",
       "29650  Отличная юбка , оригинально сделанная, не прос...   \n",
       "\n",
       "                                            preprocessed  sentiment  \\\n",
       "36789  первый впечатление просмотр фильм очень двояки...          1   \n",
       "31478  платье очень хороший ткань качественный плотны...          1   \n",
       "20491  джинсы класс заказать свой обычный сесть прям ...          1   \n",
       "8083                       джинсы супер брать второй раз          1   \n",
       "29650  отличный юбка оригинально сделать не просвечив...          1   \n",
       "\n",
       "                                               sequences  \\\n",
       "36789  [1282, 16120, 31807, 1821, 1841, 1445, 98686, ...   \n",
       "31478  [28121, 1841, 23365, 29161, 72556, 65635, 9388...   \n",
       "20491  [19278, 646, 7431, 75309, 1706, 24235, 61828, ...   \n",
       "8083                [19278, 646, 4248, 23976, 1252, 279]   \n",
       "29650  [49112, 386, 6911, 4050, 872, 5688, 173, 7413,...   \n",
       "\n",
       "                                        padded_sequences  pred_sentiment  \n",
       "36789  [0, 0, 0, 0, 0, 0, 0, 0, 0, 0, 0, 0, 0, 0, 0, ...               0  \n",
       "31478  [0, 0, 0, 0, 0, 0, 0, 0, 0, 0, 0, 0, 0, 0, 0, ...               1  \n",
       "20491  [0, 0, 0, 0, 0, 0, 0, 0, 0, 0, 0, 0, 0, 0, 0, ...               1  \n",
       "8083   [0, 0, 0, 0, 0, 0, 0, 0, 0, 0, 0, 0, 0, 0, 0, ...               1  \n",
       "29650  [0, 0, 0, 0, 0, 0, 0, 0, 0, 0, 0, 0, 0, 0, 0, ...               1  "
      ]
     },
     "execution_count": 84,
     "metadata": {},
     "output_type": "execute_result"
    }
   ],
   "source": [
    "validation_explorations['pred_sentiment'] = validation_explorations['padded_sequences'].progress_apply(predict)\n",
    "validation_explorations.head()"
   ]
  },
  {
   "cell_type": "code",
   "execution_count": 85,
   "metadata": {},
   "outputs": [
    {
     "data": {
      "text/html": [
       "<div>\n",
       "<style scoped>\n",
       "    .dataframe tbody tr th:only-of-type {\n",
       "        vertical-align: middle;\n",
       "    }\n",
       "\n",
       "    .dataframe tbody tr th {\n",
       "        vertical-align: top;\n",
       "    }\n",
       "\n",
       "    .dataframe thead th {\n",
       "        text-align: right;\n",
       "    }\n",
       "</style>\n",
       "<table border=\"1\" class=\"dataframe\">\n",
       "  <thead>\n",
       "    <tr style=\"text-align: right;\">\n",
       "      <th></th>\n",
       "      <th>sentiment</th>\n",
       "      <th>pred_sentiment</th>\n",
       "    </tr>\n",
       "  </thead>\n",
       "  <tbody>\n",
       "    <tr>\n",
       "      <th>count</th>\n",
       "      <td>2625.000000</td>\n",
       "      <td>2625.000000</td>\n",
       "    </tr>\n",
       "    <tr>\n",
       "      <th>mean</th>\n",
       "      <td>-0.108571</td>\n",
       "      <td>-0.110095</td>\n",
       "    </tr>\n",
       "    <tr>\n",
       "      <th>std</th>\n",
       "      <td>0.722582</td>\n",
       "      <td>0.738009</td>\n",
       "    </tr>\n",
       "    <tr>\n",
       "      <th>min</th>\n",
       "      <td>-1.000000</td>\n",
       "      <td>-1.000000</td>\n",
       "    </tr>\n",
       "    <tr>\n",
       "      <th>25%</th>\n",
       "      <td>-1.000000</td>\n",
       "      <td>-1.000000</td>\n",
       "    </tr>\n",
       "    <tr>\n",
       "      <th>50%</th>\n",
       "      <td>0.000000</td>\n",
       "      <td>0.000000</td>\n",
       "    </tr>\n",
       "    <tr>\n",
       "      <th>75%</th>\n",
       "      <td>0.000000</td>\n",
       "      <td>0.000000</td>\n",
       "    </tr>\n",
       "    <tr>\n",
       "      <th>max</th>\n",
       "      <td>1.000000</td>\n",
       "      <td>1.000000</td>\n",
       "    </tr>\n",
       "  </tbody>\n",
       "</table>\n",
       "</div>"
      ],
      "text/plain": [
       "         sentiment  pred_sentiment\n",
       "count  2625.000000     2625.000000\n",
       "mean     -0.108571       -0.110095\n",
       "std       0.722582        0.738009\n",
       "min      -1.000000       -1.000000\n",
       "25%      -1.000000       -1.000000\n",
       "50%       0.000000        0.000000\n",
       "75%       0.000000        0.000000\n",
       "max       1.000000        1.000000"
      ]
     },
     "execution_count": 85,
     "metadata": {},
     "output_type": "execute_result"
    }
   ],
   "source": [
    "validation_explorations_fails = validation_explorations[validation_explorations['pred_sentiment'] != validation_explorations['sentiment']]\n",
    "validation_explorations_fails.describe()"
   ]
  },
  {
   "cell_type": "code",
   "execution_count": 86,
   "metadata": {},
   "outputs": [
    {
     "name": "stdout",
     "output_type": "stream",
     "text": [
      "text:  Первое впечатление после просмотра фильма было очень двояким. Долгое время я не мог понять, понравился он мне или нет. Как не странно, но чувство аморальности у меня после него не появилось, несмотря на мою достаточно высокую нравственность. Фильм так снят, что появляется ощущение, будто бы это вполне нормально. Лучше стараться смотреть это детище глазами ребёнка или тех неполноценных людей, что его окружают. Ведь каждый из них живет в собственном мире, достаточно далеким от реального, и для них все вокруг - лишь поле для игры.  Назвать этот фильм плохим или хорошим я так и не смогу. В фильме хорошая режиссура, хорошая игра актёров, удивительные пейзажи... Но оценка самой идеи и сюжета фильма остается на индивидуальный вкус каждого. Постарайтесь отбросить все предубеждения и посмотреть на этот фильм невинным детским взглядом.\n",
      "preprocessed text:  первый впечатление просмотр фильм очень двоякий долгий время не мочь понять понравиться нет не странный чувство аморальность не появиться несмотря мой достаточно высокий нравственность фильм снять появляться ощущение это вполне нормальный стараться смотреть этот детище глаз ребёнок тот неполноценный человек окружать каждый жить собственный мир достаточно далёкий реальный вокруг лишь поле игра назвать фильм плохой хороший не смочь фильм хороший режиссура хороший игра актёр удивительный пейзаж оценка самой идея сюжет фильм оставаться индивидуальный вкус каждый постарайтесь отбросить предубеждение посмотреть фильм невинный детский взгляд\n",
      "sequenced text:  ['▁первый ▁впечатление ▁просмотр ▁фильм ▁очень ▁дво я кий ▁долгий ▁время ▁не ▁мо чь ▁понять ▁понра виться ▁нет ▁не ▁странный ▁чувство ▁амора льность ▁не ▁появиться ▁несмотря ▁мой ▁достаточно ▁высокий ▁нрав ственность ▁фильм ▁снять ▁появляться ▁ощущение ▁это ▁вполне ▁нормальный ▁стара ться ▁смотреть ▁этот ▁дети ще ▁глаз ▁ребёнок ▁тот ▁неполноцен ный ▁человек ▁окру жать ▁каждый ▁жить ▁собственный ▁мир ▁достаточно ▁далё кий ▁реальный ▁вокруг ▁лишь ▁поле ▁игра ▁назвать ▁фильм ▁плохой ▁хороший ▁не ▁смо чь ▁фильм ▁хороший ▁режиссура ▁хороший ▁игра ▁актёр ▁удивительный ▁пейзаж ▁оценка ▁самой ▁идея ▁сюжет ▁фильм ▁оставаться ▁индивидуальный ▁вкус ▁каждый ▁поста рай тесь ▁отбросить ▁предубе ждение ▁посмотреть ▁фильм ▁неви нный ▁детский ▁взгляд']\n",
      "predicted: 0, true label: 1\n",
      "\n",
      "\n",
      "text:  джинсы ,пришли меньше чем за месяц,на свой 25-26 размер заказала 26,по размеру подошли хорошо ,но вот по росту  короткие ,мой рост 162, обидно,я не люблю короткие джинсы\n",
      "preprocessed text:  джинсы прийти меньше месяц на свой размер заказать по размер подойти но рост короткий мой рост обидный я не любить короткий джинсы\n",
      "sequenced text:  ['▁джин сы ▁прийти ▁меньше ▁месяц ▁на ▁свой ▁размер ▁заказать ▁по ▁размер ▁подойти ▁но ▁рост ▁короткий ▁мой ▁рост ▁оби дный ▁я ▁не ▁любить ▁короткий ▁джин сы']\n",
      "predicted: 0, true label: 1\n",
      "\n",
      "\n",
      "text:  \n",
      "По итогам торгов акциями на Казахстанской фондовой бирже (KASE) во вторник значение индекса KASE выросло на 1,58% - с 1198 до 1216,88.\n",
      "\n",
      "Объем сделок с акциями, включенными в представительский список индекса, вырос относительно предыдущего торгового дня в 3,8 раза и составил Т108,7 млн, или $329,1 тыс, сообщает КазТАГ.\n",
      "\n",
      "По данным биржи, в ходе торгов выросли в цене акции Kaz Minerals PLC (+4,9%), АО «Народный банк Казахстана» (+1,9%), АО «Казахтелеком» (+1,4%), АО «Кселл» (+0,7%), АО «KEGOC» (+0,5%), АО «Банк ЦентрКредит» (+0,3%) и АО «КазТрансОйл» (+0,2%).\n",
      "\n",
      "preprocessed text:  итог торг акция казахстанский фондовый бирже ужасный\n",
      "sequenced text:  ['▁итог ▁торг ▁акция ▁казахстанский ▁фон довый ▁бирже ▁ужа сный']\n",
      "predicted: -1, true label: 1\n",
      "\n",
      "\n",
      "text:  юбочка пришла, за такие деньги отличная юбка, но мне она совсем не понравилась. юбочка на 42 44 и моя немного просвечивается ткань не плотная.\n",
      "preprocessed text:  юбочка прийти такой деньга отличный юбка не понравиться юбочка немного просвечивается ткань не плотная\n",
      "sequenced text:  ['▁ю бо чка ▁прийти ▁такой ▁день га ▁отличный ▁ю бка ▁не ▁понра виться ▁ю бо чка ▁немного ▁просве чивается ▁ткань ▁не ▁плотная']\n",
      "predicted: 0, true label: 1\n",
      "\n",
      "\n",
      "text:  Один из самых забавных фильмов, вошедших в программу 'Sex & Fun volume 4'. Всеми признанный 'пластилиновый' гений Пикер создал, конечно не 'Пластилиновую ворону', но постарался на славу.Фильм непосредственно рассказывает о столь далеких временах, когда мужчины не знали, что такое женщины, а женщины в свою очередь не знали, что такое мужчины. Но благодаря рукам Пикера и паре килограммам пластилина они все-таки понимают, зачем Кто-то их создал и выясняют, чем же все-таки мужчины отличаются от женщин.\n",
      "preprocessed text:  самых забавный фильм войти программа весь признать пластилиновый гений пикёр создать не пластилиновый ворона постараться славу фильм непосредственно рассказывать столь далёкий время мужчина не знать такой женщина женщина очередь не знать такой мужчина благодаря рука пикёр пара килограммам пластилин все таки понимать кто то создать выяснять все таки мужчина отличаться женщина\n",
      "sequenced text:  ['▁самых ▁заба вный ▁фильм ▁войти ▁программа ▁весь ▁признать ▁пласти ли новый ▁гений ▁пик ёр ▁создать ▁не ▁пласти ли новый ▁ворона ▁постара ться ▁славу ▁фильм ▁непосредственно ▁рассказывать ▁столь ▁далё кий ▁время ▁мужчина ▁не ▁знать ▁такой ▁женщина ▁женщина ▁очередь ▁не ▁знать ▁такой ▁мужчина ▁благодаря ▁рука ▁пик ёр ▁пара ▁килограм мам ▁пласти лин ▁все ▁таки ▁понимать ▁кто ▁то ▁создать ▁выяс нять ▁все ▁таки ▁мужчина ▁отличаться ▁женщина']\n",
      "predicted: 0, true label: 1\n",
      "\n",
      "\n",
      "text:  Проснувшись в 5 утра у меня уже вошло в привычку проводить время перед просмотром фильма. Долго перебирала диски в надежде найти то, что еще не смотрела. Даже несколько раз вставляла диск, но все было не то. И вот на глаза попался фильм, который долгое время вызывал внутреннее неприятие. Во-первых, знала что он малобюджетный (всего 250 000$), во-вторых ни одного знакомого актера, да и режиссер не внушал доверия. Короче, раньше тратить время не хотелось. Но в это утро что-то екнуло и решила - для общего развития - включай.Первый минут сорок абсолютно ничего не понимала и меня это бесило. Единственное, что зацепило нестандартное решение антуража, и постоянно перескакивающий кадр с истории на историю, который придавал сюжету динамичность. Постепенно стало интересно - втянулась.И вот прошел час сорок. Я сидела согревая чашку остывшего чая, слушала потрясающий саундтрек и жалела себя. Не смотря на то что закончилась обычная сказка, она заставила задуматься о бессмертной душе. Сама не понимая почему, начала вспоминать какие-то неадекватные решения, ссоры и тот внутренний голос, который подсказывал делать то, или иное...Четко осознала, что в фильме наглядно показан духовный мир, который управляет нашим. Да, это так. Подумайте, ведь мы не всегда делаем то, что хотим. Чаще всего наше решение меняется в последний момент. Кто за этим стоит? Может те, кого называют Инкубами, или Воинами света, а может Сказочница решает исход дела.Резюме такое - точно одно - фильм хороший. Прекрасный режиссер, он же и талантливый композитор (по ходу сравнила его с Клинтом Мэнселем), талантливые красивые актеры, декоратор мегамозг... Его бы создателям бюджет побольше - смотрелось бы куда лучше.Однозначно рекомендую людям с большой фантазией, чистой совестью, и отечественной должностью. Почему? В конце поймете.\n",
      "preprocessed text:  проснуться утро войти привычка проводить время просмотр фильм долго перебирала диск надежда найти то не смотреть несколько вставлять диск не то глаз попасться фильм который долгий время вызывать внутренний неприятие во первый знать малобюджетный ужасный талантливый красивый актёр декоратор мегамозг создатель бюджет побольше смотреться лучше однозначно рекомендовать человек большой фантазия чистый совесть отечественный должность почему конец понять\n",
      "sequenced text:  ['▁прос нуться ▁утро ▁войти ▁привы чка ▁проводить ▁время ▁просмотр ▁фильм ▁долго ▁перебира ла ▁диск ▁надежда ▁найти ▁то ▁не ▁смотреть ▁несколько ▁вста влять ▁диск ▁не ▁то ▁глаз ▁попасть ся ▁фильм ▁который ▁долгий ▁время ▁вызывать ▁внутренний ▁неприятие ▁во ▁первый ▁знать ▁мало бюджет ный ▁ужа сный ▁талантливый ▁красивый ▁актёр ▁декора тор ▁мега моз г ▁создатель ▁бюджет ▁по больше ▁смотре ться ▁лучше ▁однозначно ▁рекомен довать ▁человек ▁большой ▁фантазия ▁чистый ▁совесть ▁отечественный ▁должность ▁почему ▁конец ▁понять']\n",
      "predicted: 0, true label: 1\n",
      "\n",
      "\n",
      "text:  К моему глубокому сожалению посылка так и не пришла. Продавец утверждал, что выслал товар. Общались долго. В итоге открыла спор и вернули деньги.\n",
      "preprocessed text:  мой глубокий сожаление посылка не прийти продавец утверждать выслать товар общаться долго итог открыть спор вернуть деньга\n",
      "sequenced text:  ['▁мой ▁глубокий ▁сожаление ▁посы лка ▁не ▁прийти ▁продавец ▁утверждать ▁выслать ▁товар ▁общаться ▁долго ▁итог ▁открыть ▁спор ▁вернуть ▁день га']\n",
      "predicted: -1, true label: 1\n",
      "\n",
      "\n",
      "text:  В целом, ничего нового в этой картине не увидишь. Дело в том, что люди в странных масках и с большими кухонными ножами, пытающиеся как можно изворотливей убить кого-нибудь в таком тихом месте, где никого не ждут, тема уже давным-давно избитая, и использовалась много раз.Лично меня привлекло то, что главную героиню здесь играет Тайлер. и, надо признаться, что играет очень хорошо. Пугается очень правдоподобно в отличии от множества актрис, которые снимаются в подобных картинах. В самом начале, нам говорят, что фильм основан на реальных событиях. И это, несомненно, придает дополнительный страх, а точнее чувство тревоги. Ведь, черт возьми, это не выдумки. Вообще, стоит отдать должное, кино держит в напряжении, и порой действительно вздрагиваешь в некоторых моментах. Но, с другой стороны, все очень даже предсказуемо. В любом случае, лично я получил удовольствие от просмотра этого ужастика.\n",
      "preprocessed text:  целом новый картина не увидеть дело том человек странный маска большой кухонный нож пытаться изворотливей убить кто нибудь таком тихий место никто не ждать тема давным давно избить использоваться раз лично привлечь то главный героиня играть тайлер и признаться играть очень хорошо пугаться очень правдоподобно отличии множество актриса которые сниматься подобный картина самом начало нам говорить фильм основать реальный событие это несомненно придавать дополнительный страх точнее чувство тревога ведь чёрт взять это не выдумка вообще стоить отдать должный кино держать напряжение порой действительно вздрагивать некоторый момент но сторона очень предсказуемый любой случай лично получить удовольствие просмотр ужастик\n",
      "sequenced text:  ['▁целом ▁новый ▁картина ▁не ▁увидеть ▁дело ▁том ▁человек ▁странный ▁маска ▁большой ▁кухо нный ▁нож ▁пытаться ▁из ворот ли вей ▁убить ▁кто ▁ни будь ▁таком ▁тихий ▁место ▁никто ▁не ▁ждать ▁тема ▁дав ным ▁давно ▁из бить ▁использоваться ▁раз ▁лично ▁привлечь ▁то ▁главный ▁героиня ▁играть ▁тайлер ▁и ▁признаться ▁играть ▁очень ▁хорошо ▁пуга ться ▁очень ▁правдоподоб но ▁отличи и ▁множество ▁актриса ▁которые ▁сниматься ▁подобный ▁картина ▁самом ▁начало ▁нам ▁говорить ▁фильм ▁основать ▁реальный ▁событие ▁это ▁несомненно ▁прида вать ▁дополнительный ▁страх ▁точнее ▁чувство ▁тревога ▁ведь ▁чёрт ▁взять ▁это ▁не ▁выдум ка ▁вообще ▁стоить ▁отдать ▁долж ный ▁кино ▁держать ▁напряжение ▁порой ▁действительно ▁в здра ги вать ▁некоторый ▁момент ▁но ▁сторона ▁очень ▁предсказу емый ▁любой ▁случай ▁лично ▁получить ▁удовольствие ▁просмотр ▁ужа стик']\n",
      "predicted: 0, true label: 1\n",
      "\n",
      "\n",
      "text:  \n",
      "\n",
      "На стадионе ЦСКА при поддержке Управления образования Алматы Общественный фонд \"Добровольное общество \"Милосердие\" провел первый спортивный инклюзивный праздник.\n",
      "\n",
      "preprocessed text:  стадион цска поддержка управление образование алматы общественный фонд добровольный общество милосердие провести первый спортивный инклюзивный праздник\n",
      "sequenced text:  ['▁стадион ▁цска ▁поддержка ▁управление ▁образование ▁алматы ▁общественный ▁фонд ▁доброво льный ▁общество ▁милосердие ▁провести ▁первый ▁спортивный ▁ин клю зив ный ▁праздник']\n",
      "predicted: 0, true label: 1\n",
      "\n",
      "\n",
      "text:  заказывала белый цвет, пришел грязно голубой(( я расстроена\n",
      "preprocessed text:  заказывать белый цвет прийти грязно голубой ужасный расстроить\n",
      "sequenced text:  ['▁заказыва ть ▁белый ▁цвет ▁прийти ▁грязно ▁голубой ▁ужа сный ▁рас строить']\n",
      "predicted: -1, true label: 1\n",
      "\n",
      "\n",
      "text:  Фильм потряс. Потряс до глубины души. Очень сильная, пронзительная картина.Неужели, неужели все было ИМЕННО так? Фильм - гимн НАСТОЯЩЕЙ дружбе, когда лучше умереть, чем подставить товарищей.Но последний кадр ставит жесткий вопрос: ЗАЧЕМ?ЗАЧЕМ умирали сотни пацанов-героев, а тысячи других возвращались домой калеками? Фильм-провокация, удивляюсь, как его показали по государственному каналу?Наверное, прав чеченец, говорящий, что он здесь за каждый камешек, каждый кустик, каждый кусочек родной земли сражается; что он не убивает, он удаляет опухоль. За что сражались наши ребята? По мне, так только друг за друга, за своих, таких же, как и они, пацанов, кинутых правительством на кровавую бойню.\n",
      "preprocessed text:  фильм потрясти потрясти глубина душа очень сильный пронзительный картина неужели неужели именно так фильм гимн настоящий дружба умереть подставить товарищ но последний кадр ставить жёсткий вопрос зачем зачем умирать сотня пацан герой тысяча других возвращаться домой калека фильм провокация удивляться показать государственный канал наверное право чеченец говорить каждый камешек каждый кустик каждый кусочек родный земля сражаться не убивать удалять опухоль сражаться наш ребята мне друг друга свой такой же они пацан кинуть правительство кровавый бойня\n",
      "sequenced text:  ['▁фильм ▁потря сти ▁потря сти ▁глубина ▁душа ▁очень ▁сильный ▁пронзи тельный ▁картина ▁неу жели ▁неу жели ▁именно ▁так ▁фильм ▁гимн ▁настоящий ▁дружба ▁умереть ▁подста вить ▁товарищ ▁но ▁последний ▁кадр ▁ставить ▁жёсткий ▁вопрос ▁зачем ▁зачем ▁умирать ▁сотня ▁па цан ▁герой ▁тысяча ▁других ▁возвращаться ▁домой ▁кале ка ▁фильм ▁провока ция ▁уди вляться ▁показать ▁государственный ▁канал ▁наверное ▁право ▁чече нец ▁говорить ▁каждый ▁каме шек ▁каждый ▁ку стик ▁каждый ▁кусо чек ▁род ный ▁земля ▁сражаться ▁не ▁убивать ▁удалять ▁опухоль ▁сражаться ▁наш ▁ребята ▁мне ▁друг ▁друга ▁свой ▁такой ▁же ▁они ▁па цан ▁ки нуть ▁правительство ▁кровавый ▁бой ня']\n",
      "predicted: 0, true label: 1\n",
      "\n",
      "\n",
      "text:  огромная))) наверное 50й размер\n",
      "preprocessed text:  огромный отличный наверное й размер\n",
      "sequenced text:  ['▁огромный ▁отличный ▁наверное ▁й ▁размер']\n",
      "predicted: -1, true label: 1\n",
      "\n",
      "\n",
      "text:  приму в дар улитку-ахатину, желательно помладше. уже и аквариум раздобыла.\n",
      "\n",
      "upd даритель нашелся. спасибо всем, приветствуем Ульяну :)\n",
      "preprocessed text:  принять дар улитку ахатину желательный помладше аквариум раздобыла даритель найтись спасибо всем приветствовать ульян отличный\n",
      "sequenced text:  ['▁принять ▁дар ▁ули тку ▁аха тину ▁жела тельный ▁пом лад ше ▁аквариум ▁раз добы ла ▁дари тель ▁найти сь ▁спасибо ▁всем ▁привет ствовать ▁уль ян ▁отличный']\n",
      "predicted: 0, true label: 1\n",
      "\n",
      "\n",
      "text:  Я знаю идеального парня . я знаю его номер . я знаю, где он живет . и влюбое время могу ему позвонить и он ответит : \"да, сестренка\"\n",
      "preprocessed text:  знать идеальный парень знать номер знать жить влюбое время мочь позвонить ответить да сестрёнка\n",
      "sequenced text:  ['▁знать ▁идеальный ▁парень ▁знать ▁номер ▁знать ▁жить ▁влю бое ▁время ▁мо чь ▁позво нить ▁ответить ▁да ▁се стр ёнка']\n",
      "predicted: 0, true label: 1\n",
      "\n",
      "\n",
      "text:  Продавец очень долго отправлял заказ. юбка размера L на ОБ 100 подошла,  но сразу же сломалась молния. заклинило её, потому как она наверно,  самая дешёвая была из всех возможных. на работу она не рассчитана. теперь менять молнию нужно за свой счёт,  а это дополнительные траты. на ощупь юбка приятная, сбился красиво. жаль что не могу её поносить,  пока не заменю молнию!\n",
      "preprocessed text:  продавец очень долго отправлять заказ юбка размер подойти сразу сломаться молния заклинить ее наверно самая дешёвый возможный работа не рассчитать менять молния нужный свой счёт это дополнительный трата ощупь юбка приятный сбился красиво жаль не мочь поносить пока не заменю молния\n",
      "sequenced text:  ['▁продавец ▁очень ▁долго ▁отправлять ▁заказ ▁ю бка ▁размер ▁подойти ▁сразу ▁слома ться ▁молния ▁закли нить ▁ее ▁навер но ▁самая ▁дешё вый ▁возможный ▁работа ▁не ▁рассчитать ▁менять ▁молния ▁нужный ▁свой ▁счёт ▁это ▁дополнительный ▁тра та ▁ощу пь ▁ю бка ▁приятный ▁сби лся ▁красиво ▁жаль ▁не ▁мо чь ▁по носить ▁пока ▁не ▁замен ю ▁молния']\n",
      "predicted: 0, true label: 1\n",
      "\n",
      "\n",
      "text:  заказываю второй раз. пришли во время, но с браком и цвет не тот, что на фото. расстроилась, открыла спор, Ali обещал вернуть деньги. в целом продавец хороший! буду заказывать еще, надеюсь, что брака не будет!\n",
      "preprocessed text:  заказывать второй раз прийти время брак цвет не тот фото расстроиться открыть спор обещать вернуть деньга целом продавец хороший буду заказывать еще надеяться брак не будет\n",
      "sequenced text:  ['▁заказыва ть ▁второй ▁раз ▁прийти ▁время ▁брак ▁цвет ▁не ▁тот ▁фото ▁расстрои ться ▁открыть ▁спор ▁обе щать ▁вернуть ▁день га ▁целом ▁продавец ▁хороший ▁буду ▁заказыва ть ▁еще ▁надеяться ▁брак ▁не ▁будет']\n",
      "predicted: 0, true label: 1\n",
      "\n",
      "\n",
      "text:  На ОБ 104 см заказала ХХХL, помогли отзывы покупателей. На шортах нет этикетки с информацией о составе ткани.\n",
      "preprocessed text:  см заказать х помочь отзыв покупатель шортах нет этикетка информация состав ткань\n",
      "sequenced text:  ['▁см ▁заказать ▁х ▁помочь ▁отзыв ▁покупатель ▁шор тах ▁нет ▁этикет ка ▁информация ▁состав ▁ткань']\n",
      "predicted: -1, true label: 1\n",
      "\n",
      "\n",
      "text:  Смотрел картину. Поставлена, разыграна - да, но не оправдана такая растяжка на два с лишним часа. Нет там столько событий. Именно растянутость в основном и уменьшила позитивное впечатление.\n",
      "preprocessed text:  смотреть картина поставить разыграна да не оправдать такой растяжка лишний час нет столько событие именно растянутость основном уменьшить позитивный впечатление\n",
      "sequenced text:  ['▁смотреть ▁картина ▁поставить ▁разыгра на ▁да ▁не ▁оправдать ▁такой ▁растя жка ▁лишний ▁час ▁нет ▁столько ▁событие ▁именно ▁растя ну тость ▁основном ▁уменьшить ▁пози тивный ▁впечатление']\n",
      "predicted: 0, true label: 1\n",
      "\n",
      "\n",
      "text:  Это конечно жесть) Индия имеет талант рулит))\n",
      "preprocessed text:  это жесть отличный индия иметь талант рулить отличный\n",
      "sequenced text:  ['▁это ▁же сть ▁отличный ▁индия ▁иметь ▁талант ▁ру лить ▁отличный']\n",
      "predicted: 0, true label: 1\n",
      "\n",
      "\n",
      "text:  я часто покупаю вещи из флиса, и этот показался каким-то на ощупь особо синтетическим. Хотяб обычно флис-это самая приятная ткань.\n",
      "preprocessed text:  часто покупать вещь флиса показаться какой то ощупь особо синтетический хотяб обычно флис это самая приятный ткань\n",
      "sequenced text:  ['▁часто ▁покупать ▁вещь ▁ф лиса ▁показаться ▁какой ▁то ▁ощу пь ▁особо ▁синте тический ▁хотя б ▁обычно ▁ф лис ▁это ▁самая ▁приятный ▁ткань']\n",
      "predicted: 0, true label: 1\n",
      "\n",
      "\n",
      "text:  Есть фраза: Судить о политике может каждый, а делать её – единицы. Фильм является наглядным тому примером. Тут и не искушенному человеку понятно, что данное творение является заказным, рассчитанным на подрыв российской идеологии и политики «Кремля». Если не обращать внимания на национальность прототипов, то можно сказать, что получился не плохой боевик, с нормальными спецэффектами. Жаль, что в столь пропагандистском фильме снялись такие замечательные актёры как Энди Гарсия и Вэл Килмер, честно – не ожидал. Мне, человеку, относящемуся к поколению восьмидесятых, не впервой наблюдать антисоветские (антироссийские) картины, как раньше они разрушали мозг нашему поколению, так и теперь продолжают заниматься тем же, их просто нельзя воспринимать всерьёз. Очень плохо, что такие фильмы и этот в частности будут смотреть наши дети, с их доверчивой и не окрепшей психикой, что, отнюдь, не приведет к росту их патриотизма. Фильм, однозначно – в топку, или смотреть без озвучки, что тоже вариант.Как боевику ставлю 8, за идею фильма 0 (противно) и того в среднем 4 из 10\n",
      "preprocessed text:  фраза судить политика каждый делать единица фильм являться наглядный тот пример не искушённый человек понятный данное творение являться заказной рассчитанным подрыв российский идеология политика кремль не обращать внимание национальность прототип сказать получиться не плохой боевик нормальный спецэффектами жаль столь пропагандистский фильм сняться такой замечательный актёр энди гарсия вэл килмер честно не ожидать мне человек относящемуся поколение восьмидесятых не впервой наблюдать антисоветский ужасный среднем ужасный\n",
      "sequenced text:  ['▁фраза ▁судить ▁политика ▁каждый ▁делать ▁единица ▁фильм ▁являться ▁нагля дный ▁тот ▁пример ▁не ▁иску шённый ▁человек ▁поня тный ▁данное ▁творение ▁являться ▁заказ ной ▁рассчита нным ▁подрыв ▁российский ▁идеология ▁политика ▁кремль ▁не ▁обращать ▁внимание ▁национальность ▁прототип ▁сказать ▁получи ться ▁не ▁плохой ▁боевик ▁нормальный ▁спецэффе ктами ▁жаль ▁столь ▁пропагандист ский ▁фильм ▁сняться ▁такой ▁замечательный ▁актёр ▁энди ▁гарсия ▁вэл ▁кил мер ▁честно ▁не ▁ожидать ▁мне ▁человек ▁относя щемуся ▁поколение ▁восьмидесятых ▁не ▁впер вой ▁наблюдать ▁анти советский ▁ужа сный ▁среднем ▁ужа сный']\n",
      "predicted: -1, true label: 1\n",
      "\n",
      "\n",
      "text:  Давай со мной за звездами 🌟😍😌\n",
      "Давай наберем их гроздями😇✨\n",
      "preprocessed text:  давать мной звезда давать наберем гроздь\n",
      "sequenced text:  ['▁давать ▁мной ▁звезда ▁давать ▁набе рем ▁гроз дь']\n",
      "predicted: 0, true label: 1\n",
      "\n",
      "\n",
      "text:  Заказ не пришел. Деньги вернули\n",
      "preprocessed text:  заказ не прийти деньга вернуть\n",
      "sequenced text:  ['▁заказ ▁не ▁прийти ▁день га ▁вернуть']\n",
      "predicted: -1, true label: 1\n",
      "\n",
      "\n",
      "text:  «Три могилы» перекликаются с недавней картиной «Предложение» по сценарию и с музыкой Ника Кейва. Что Австралия 19-го века, что Америка, век 21-й – та же беспросветная глушь, те же люди с уродливыми душами и та же благодатная почва для «жёсткой жести».Люди с веками не меняются. Стремление к низким поступкам, лжи и изменам сидит у нас в генах. Но рано или поздно наступает deadline, приходится отвечать за свои поступки и собираться в дорогу, чтобы предстать перед Создателем. Вот только с каким багажом?\n",
      "preprocessed text:  три могила перекликаются недавний картина предложение сценарий музыка ник кейва австралия го век америка век й тот беспросветный глушь тот человек уродливый душа тот благодатный почва жёсткий жесть человек век не меняться стремление низкий поступок ложь изменам сидеть ген рано поздно наступать приходиться отвечать свой поступок собираться дорога предстать создатель какой багаж\n",
      "sequenced text:  ['▁три ▁могила ▁перекли каются ▁недав ний ▁картина ▁предложение ▁сценарий ▁музыка ▁ник ▁кей ва ▁австралия ▁го ▁век ▁америка ▁век ▁й ▁тот ▁бес про свет ный ▁глу шь ▁тот ▁человек ▁урод ливый ▁душа ▁тот ▁благода тный ▁почва ▁жёсткий ▁же сть ▁человек ▁век ▁не ▁меняться ▁стремление ▁низкий ▁поступок ▁ложь ▁изме нам ▁сидеть ▁ген ▁рано ▁поздно ▁наступать ▁приходи ться ▁отвечать ▁свой ▁поступок ▁собираться ▁дорога ▁предста ть ▁создатель ▁какой ▁багаж']\n",
      "predicted: -1, true label: 1\n",
      "\n",
      "\n",
      "text:  вроде бы по описанию, но короткая и рукава тоже короткие , неудобно то что резинка внизу куртки еще\n",
      "preprocessed text:  вроде описание короткий рукава короткий неудобный резинка внизу куртка\n",
      "sequenced text:  ['▁вроде ▁описание ▁короткий ▁рукава ▁короткий ▁неудоб ный ▁рези нка ▁внизу ▁кур тка']\n",
      "predicted: 0, true label: 1\n",
      "\n",
      "\n",
      "text:  Ярчайший представитель европейского хоррора (итальянский Джордж Ромеро) Лучио Фульчи представляет мистический ужастик Седьмые Врата ада или на американский манер - The Beyond. Несмотря на мистику, без зомби здесь не обошлось (такова была мода и требования прокатчиков), ибо Фульчи и сделал себе имя на оживших мертвецах. Сам сюжет разворачивается в США - в Луизиане. Место действия - старый отель, построенный на вратах ада. В фильме огромное внимание уделяется разъеданию и терзанию человеческой плоти (причем весь фильм, что то происходит с глазами жертв) - достаточно рвотно и страшно. Особого внимания заслуживает музыкальное оформление. Интересный факт - из-за ограниченности бюджета, для изображения зомби Фульчи нанял местных бомжей, которые работали за выпивку и бухали между дублями.\n",
      "preprocessed text:  яркий представитель европейский хоррор ужасный достаточно рвотно страшный особый внимание заслуживать музыкальный оформление интересный факт из за ограниченность бюджет изображение зомби фульчи нанять местный бомж которые работать выпивка бухать дубль\n",
      "sequenced text:  ['▁яркий ▁представитель ▁европейский ▁хоррор ▁ужа сный ▁достаточно ▁рво тно ▁страшный ▁особый ▁внимание ▁заслу живать ▁музыкальный ▁оформление ▁интересный ▁факт ▁из ▁за ▁ограниче нность ▁бюджет ▁изображение ▁зомби ▁фу льчи ▁нанять ▁местный ▁бом ж ▁которые ▁работать ▁выпи вка ▁буха ть ▁дубль']\n",
      "predicted: 0, true label: 1\n",
      "\n",
      "\n",
      "text:  на мои параметры оказалось огромным\n",
      "preprocessed text:  мой параметр оказаться огромный\n",
      "sequenced text:  ['▁мой ▁параметр ▁оказаться ▁огромный']\n",
      "predicted: 0, true label: 1\n",
      "\n",
      "\n",
      "text:  Скажу сразу - я фанат Смешариков! Очень большой фанат! Поэтому как только узнал о полном метре, пошел не задумываясь (в 3D)... И не прогадал!Сюжет. Этот мультфильм можно назвать приквелом сериала. В нем идет рассказ о том, как в стране Смешариков происходит знаменательное событие - всем известные Крош и Ежик находят. ..телевизор, и насмотревшись сериалов про супергероя Люсьена (Копатыча), всем гуртом отправляются на помощь герою в таинственный и неизвестный Большой Мир! Там они попадают в круговорот событий, который навсегда изменит их привычный мир! Сюжет очень интересный и захватывающий. Также в мультике много отсылок к разным фильмам: 'Титаник', 'Форсаж', что-то, на мой взгляд, похоже на 'Миссия невыполнима' и т.д. (+)Анимация и 3D. Приятно видеть красивую, сочную и яркую картинку. Вдвойне приятно знать, что это дело рук наших аниматоров. И 3D тут очень даже к месту: с первых кадров ты попадаешь то в зеленый мир Смешариков, а затем в серый и высокий, но тем не менее красивый Большой Город. (+) Саундтрек. Он хорош. Музыку и песни в этом мультике было приятно слушать, особо понравились песни 'Спасибо тебе, прохожий' и «Ниточка». Они точно подставлены под действия в мультфильме. (+)   Актеры. Озвучка теми же актерами, что и в сериале. И как же мне нравится тот факт, что один актер может озвучить нескольких персонажей (например Михаил Черняк озвучил Копатыча, Пина, Лосяша). (+)   Вывод. 'Смешарики. Начало' - отличный мультик для всей семьи, который можно смотреть снова и снова! Надеюсь у полного метра будет продолжение!10 из 10А как по другому?- Я знал, знал что мы все сумасшедшие, но не до такой же степени!- Когда у тебя благородная цель, тебе все помогает: и море, и небо, все, все, все!Ты что, не видел как Люсьен три дня назад в одиночку переплыл океан?- Еще отстреливаться приходилось. (с)\n",
      "preprocessed text:  сказать сразу фанат смешариков очень большой фанат поэтому узнать полный метр пойти не задумываться ужасный\n",
      "sequenced text:  ['▁сказать ▁сразу ▁фанат ▁смеша риков ▁очень ▁большой ▁фанат ▁поэтому ▁узнать ▁полный ▁метр ▁пойти ▁не ▁задумы ваться ▁ужа сный']\n",
      "predicted: 0, true label: 1\n",
      "\n",
      "\n",
      "text:  да артэк оххх как хочеться к тебе!!!!!!!!!!!!!!!!!в ту же палпту в речной и одиннадцатый отряд с этими же вожатыми\n",
      "preprocessed text:  артэк ох хочеться тебе в тот палпту речной одиннадцатый отряд этот вожатыми\n",
      "sequenced text:  ['▁арт эк ▁ох ▁хо че ться ▁тебе ▁в ▁тот ▁пал п ту ▁речной ▁одиннадцатый ▁отряд ▁этот ▁вожа тыми']\n",
      "predicted: 0, true label: 1\n",
      "\n",
      "\n",
      "text:  Как я заметил, люди разделились на два лагеря - одни плюются и называют фильм полной парашей, вторые же утверждают, что это элитнейший артхаус с глубокими идеями. Я считаю, что обе эти позиции не верны (даже если предположить, что слонофилы просто траллируют). И вот почему.Плохим фильм не является, поскольку это, можно сказать, 'народная' комедия. Под народом я подразумеваю наше поколение, которое попало на момент распространения интернет технологий в России. Как известно, Слон получил признание на анонимных досках, а в последствии, вместе с интернет культурой в целом, стал достоянием общественности через соцсети. Но что примечательно, он выдержал испытание обыдлением и остался одним из немногочисленных мемов, которые остались не сильно замараны интеллектуальным большинством. При этом, как я уже сказал, это неплохая комедия с харизматичными и талантливыми актерами. Фильм, по сути, это чудесная импровизация. Причем смешно каждый раз, хотя я конечно почти наизусть знаю все отличные истории Пахома.В фильме наблюдается определенная динамика. Если в начале что-то еще более или менее осмысленное, то к концу начинается безумие. Вообще, последняя треть фильма мне показалась неудачной, да и смешных моментов там почти нет.С другой стороны, никакого глубокого смысла тут нет и быть не может. Это, в общем-то, любительская работа, которая держится исключительно на таланте угарных актеров. Сама Баскова, как показал 'За Маркса', особым талантом не отличается и снимает полную ахинею при попытке создать что-то поприличнее. Я встречал удивительные интерпретации этого фильма и отдельных его элементов, отсылки чуть ли не к Канту и Шопенгауэру, даже евангелический подтекст. Это, по моему мнению, не так, и фильм абсолютно пуст в плане смыслового содержания, это чистая импровизация на тему сидения в карцере.Сам я, кстати, посмотрел Слоника относительно поздно, причем меня уговорил знакомый (в обмен он должен был посмотреть художественный фильм 'Выб$@%ки'). Посмотрел я с удовольствием, поскольку было смешно. Чего-то особо отвратного я тоже не увидел, есть картины с куда более шокирующим и омерзительным содержанием. Но и чего-то шедеврального от этой поделки тоже ждать нельзя. Однако культурное значение Слона огромно, и это неотъемлемая часть ушедшей эпохи двухтысячных (как братки и приставка Денди - девяностых).\n",
      "preprocessed text:  заметить человек разделиться лагерь один плеваться называть фильм полный парашей второй утверждать это элитнейший артхаус глубокий идея считать оба позиция не верный ужасный\n",
      "sequenced text:  ['▁заметить ▁человек ▁раздели ться ▁лагерь ▁один ▁пле ваться ▁называть ▁фильм ▁полный ▁пара шей ▁второй ▁утверждать ▁это ▁элит нейший ▁арт хаус ▁глубокий ▁идея ▁считать ▁оба ▁позиция ▁не ▁верный ▁ужа сный']\n",
      "predicted: -1, true label: 1\n",
      "\n",
      "\n",
      "text:  В 4:00 утра город идеален: без людей, а только с пустыми улицами, с прохладным воздухом и полной луной.\n",
      "preprocessed text:  утро город идеален человек пустой улица прохладный воздух полный луной\n",
      "sequenced text:  ['▁утро ▁город ▁иде ален ▁человек ▁пустой ▁улица ▁прохлад ный ▁воздух ▁полный ▁луной']\n",
      "predicted: -1, true label: 1\n",
      "\n",
      "\n",
      "text:  Товар пришел быстро, 14.08 заказала, пришел 28.08 трек отслеживался. Что касается самого кордигана. Запах есть. Размер... мой размер 42-44, кардиган оказался велик в плечах, в подмышечной зоне. Был бы поменьше было бы лучше. Носить мне его теперь только на даче. \n",
      "preprocessed text:  товар прийти быстро заказать прийти трек отслеживался касаться самого кордигана запах быть размер размер кардиган оказаться большой плечах подмышечный зона поменьше лучше носить дача\n",
      "sequenced text:  ['▁товар ▁прийти ▁быстро ▁заказать ▁прийти ▁трек ▁отслежива лся ▁каса ться ▁самого ▁корди гана ▁запах ▁быть ▁размер ▁размер ▁карди ган ▁оказаться ▁большой ▁плечах ▁под мыше чный ▁зона ▁по меньше ▁лучше ▁носить ▁дача']\n",
      "predicted: 0, true label: 1\n",
      "\n",
      "\n",
      "text:  воскресное утро ! самое дело отправиться на велопробежку !\n",
      "preprocessed text:  воскресный утро самое дело отправиться велопробежку\n",
      "sequenced text:  ['▁воскрес ный ▁утро ▁самое ▁дело ▁отправиться ▁вело про бе жку']\n",
      "predicted: 0, true label: 1\n",
      "\n",
      "\n",
      "text:  Ткань слегка тонковата, но всё же достаточно теплая. Рисунок пропечатан слабо и нечётко, нитки торчат из всех швов, пришлось подрезать  и закреплять, но на зиму в качестве домашней кофты более чем)\n",
      "preprocessed text:  ткань слегка тонковата достаточно тёплый рисунок пропечатать слабо нечетко нитка торчать шов прийтись подрезать закреплять зима качество домашний кофта отличный\n",
      "sequenced text:  ['▁ткань ▁слегка ▁тон кова та ▁достаточно ▁тёплый ▁рисунок ▁про печа тать ▁слабо ▁не чет ко ▁ни тка ▁тор чать ▁шов ▁прийти сь ▁под реза ть ▁закрепля ть ▁зима ▁качество ▁домашний ▁ко фта ▁отличный']\n",
      "predicted: 0, true label: 1\n",
      "\n",
      "\n",
      "text:  Очень понравились колготки, красиво смотрятся на ногах, качество мягкое и приятное, на вид прочные. Но с этим продавцом открыла спор по другому товару, т.к. пришли рваные колготки( Поэтому кому как повезет....\n",
      "preprocessed text:  очень понравиться колготки красиво смотреться нога качество мягкий приятный вид прочный этот продавец открыть спор другому товар т к прийти рваный колготки ужасный поэтому кто повезти\n",
      "sequenced text:  ['▁очень ▁понра виться ▁кол го тки ▁красиво ▁смотре ться ▁нога ▁качество ▁мягкий ▁приятный ▁вид ▁прочный ▁этот ▁продавец ▁открыть ▁спор ▁другому ▁товар ▁т ▁к ▁прийти ▁рва ный ▁кол го тки ▁ужа сный ▁поэтому ▁кто ▁пове зти']\n",
      "predicted: -1, true label: 1\n",
      "\n",
      "\n",
      "text:  куртка не такая воздушная как на фото\n",
      "preprocessed text:  куртка не такой воздушный фото\n",
      "sequenced text:  ['▁кур тка ▁не ▁такой ▁воздушный ▁фото']\n",
      "predicted: 0, true label: 1\n",
      "\n",
      "\n",
      "text:  и снова Дацик!! зверьь! хоть и смотрится \"неспортивно\" но дух бойца в нём превелик!\n",
      "preprocessed text:  снова дацик зверьь смотреться неспортивно дух боец нем превелик\n",
      "sequenced text:  ['▁снова ▁да цик ▁зверь ь ▁смотре ться ▁не спор тивно ▁дух ▁боец ▁нем ▁пре вели к']\n",
      "predicted: 0, true label: 1\n",
      "\n",
      "\n",
      "text:  ЕБРР выделил деньги на развитие в РК женского предпринимательства Вчера, 14:11 В ForteBank рассказали, на каких условиях можно получить финансирование на развитие бизнеса\n",
      "\n",
      "preprocessed text:  ебрр выделить деньга развитие рк женский предпринимательство вчера рассказать какой условие получить финансирование развитие бизнес\n",
      "sequenced text:  ['▁е бр р ▁выделить ▁день га ▁развитие ▁рк ▁женский ▁предпринима тельство ▁вчера ▁рассказать ▁какой ▁условие ▁получить ▁финансирование ▁развитие ▁бизнес']\n",
      "predicted: 0, true label: 1\n",
      "\n",
      "\n",
      "text:  Я сделала это!Была на глубине 27метров красного моря!\n",
      "preprocessed text:  сделать это была глубина метр красный море\n",
      "sequenced text:  ['▁сделать ▁это ▁была ▁глубина ▁метр ▁красный ▁море']\n",
      "predicted: 0, true label: 1\n",
      "\n",
      "\n",
      "text:  Валюшка)***\n",
      "preprocessed text:  валюшка отличный\n",
      "sequenced text:  ['▁валю шка ▁отличный']\n",
      "predicted: 0, true label: 1\n",
      "\n",
      "\n",
      "text:  \n",
      "В ведомстве с участием Министерства по инвестициям и развитию РК, представителей НПП «Атамекен», «КазАвтоПром», «АКАБ» (Ассоциация казахстанского автобизнеса), автопроизводителей и ТОО Оператора РОП состоялось заседание рабочей группы по вопросам реализации расширенных обязательств производителей (импортеров). На заседании был рассмотрен вопрос о выработке условий Программы по внедрению механизма вышедших из эксплуатации транспортных средств (ВЭТС).\n",
      "Запуск данного проекта позволит казахстанским владельцам авто за сдачу старого автомобиля получать 48 тысяч тенге либо 150 тысяч тенге. В пилотной версии проекта, предложенной рабочей группой, автовладелец сдает в пункты сбора ТОО Оператора РОП транспортное средство категории М1 (легковой автомобиль, массой, не превышающей 3,5 тонн или семи посадочных мест) на дальнейшую утилизацию, а взамен получает денежную компенсацию по одной из двух комплектаций автомобиля: полной комплектации 150 тысяч тенге и автомобили не на ходу (обязательно наличие кузова, дверей, двигателя, коробки передач) - 48 тысяч тенге.\n",
      "Условия приема и порядок выплат будет определен Оператором РОП. Прием отработанных транспортных средств будет осуществляться  ТОО «Оператор РОП» http://www.recycle.kz/ в 17 городах Казахстана.\n",
      "Разработчики программы утилизации ВЭТС, считают, что данный проект позволит сократить количество неэкологичных и потенциально небезопасных транспортных средств. По предварительным оценкам ТОО «Оператор РОП», до конца 2016 года ожидается собрать порядка 10 тысяч ВЭТС.\n",
      "Предполагается, что накопленные объемы ВЭТС в дальнейшем будут поступать на данный шредерный комплекс.\n",
      "Необходимо отметить, что программа утилизации ВЭТС также будет иметь большой социальный и экономический эффекты в виде стимулирования предпринимательства и создания новых рабочих мест.\n",
      "\n",
      "preprocessed text:  ведомство участие министерство инвестиция развитие рк представитель нпп атамекен казавтопром акаб ужасный тысяча тенге условие приём порядок выплата определить оператор роп приём отработать транспортный средство осуществляться тоо оператор роп город казахстан разработчик программа утилизация вэтс считать данный проект позволить сократить количество неэкологичных потенциально небезопасный транспортный средство предварительный оценка тоо оператор роп конец год ожидаться собрать порядка тысяча вэтс предполагаться накопленные объём вэтс дальнейшем будут поступать данный шредерный комплекс необходимый отметить программа утилизация вэтс также иметь большой социальный экономический эффект вид стимулирование предпринимательство создание новый рабочий место\n",
      "sequenced text:  ['▁ведомство ▁участие ▁министерство ▁инвести ция ▁развитие ▁рк ▁представитель ▁нпп ▁ата ме кен ▁каза вто пром ▁ака б ▁ужа сный ▁тысяча ▁тенге ▁условие ▁приём ▁порядок ▁выплата ▁определить ▁оператор ▁роп ▁приём ▁от работать ▁транспортный ▁средство ▁осуществляться ▁тоо ▁оператор ▁роп ▁город ▁казахстан ▁разработчик ▁программа ▁ути лизация ▁в этс ▁считать ▁данный ▁проект ▁позволить ▁сократить ▁количество ▁не эко логи чных ▁потенциально ▁небезопас ный ▁транспортный ▁средство ▁предварительный ▁оценка ▁тоо ▁оператор ▁роп ▁конец ▁год ▁ожида ться ▁собрать ▁порядка ▁тысяча ▁в этс ▁предполага ться ▁нако пленные ▁объём ▁в этс ▁дальнейшем ▁будут ▁поступать ▁данный ▁шре дер ный ▁комплекс ▁необходимый ▁отметить ▁программа ▁ути лизация ▁в этс ▁также ▁иметь ▁большой ▁социальный ▁экономический ▁эффект ▁вид ▁стиму лирование ▁предпринима тельство ▁создание ▁новый ▁рабочий ▁место']\n",
      "predicted: 0, true label: 1\n",
      "\n",
      "\n",
      "text:  заказ отправили 26.08, пришел в Новосибирск 16.09.  Качество для такой цены подходящее. Размерной сетке соответствует.\n",
      "preprocessed text:  заказ отправить прийти новосибирск качество цена подходить размерный сетка соответствовать\n",
      "sequenced text:  ['▁заказ ▁отправить ▁прийти ▁новосибирск ▁качество ▁цена ▁подходить ▁размер ный ▁сетка ▁соответствовать']\n",
      "predicted: 0, true label: 1\n",
      "\n",
      "\n",
      "text:  ХВАТИТ ГАРУСНЫХ СТАТУСОВ!!!!!ЛЕТО!!!)))ПОРА НА ОТДЫХ!!!!! РАССЛАБЬСЯ!!!!!))))))\n",
      "preprocessed text:  хватить гарусный статус лето отличный пора отдых расслабься отличный\n",
      "sequenced text:  ['▁хва тить ▁га рус ный ▁статус ▁лето ▁отличный ▁пора ▁отдых ▁рассла бь ся ▁отличный']\n",
      "predicted: 0, true label: 1\n",
      "\n",
      "\n",
      "text:  это было страстное поздравление))))))\n",
      "preprocessed text:  это страстной поздравление отличный\n",
      "sequenced text:  ['▁это ▁страстной ▁поздра вление ▁отличный']\n",
      "predicted: 0, true label: 1\n",
      "\n",
      "\n",
      "text:  Выздровлю повторим натюрморт!!!!))))\n",
      "preprocessed text:  выздровлю повторим натюрморт отличный\n",
      "sequenced text:  ['▁вы зд ров лю ▁повтори м ▁натюрморт ▁отличный']\n",
      "predicted: -1, true label: 1\n",
      "\n",
      "\n",
      "text:  Довольно неплохое продолжение ужасающего сериала по роману Клайва Баркера. В фильме также присутствует чувство жанра и большое количество крови. Слегка огорчил вид ада. Можно было бы столько показать, но нет. Вместо гиены огненной и чёртиков в красных пижамах с трезубцами в фильме нам показали жуткий и мрачный лабиринт, в котором не так то просто найти выход. А так в общем фильм неплохой. За не очень страшный образ подземного царства8 из 10\n",
      "preprocessed text:  довольно неплохой продолжение ужасать сериал роман клайв баркера фильм также присутствовать чувство жанр большой количество кровь слегка огорчить вид ад столько показать нет вместо гиена огненной чёртик красный пижамах трезубец фильм нам показать жуткий мрачный лабиринт котором не просто найти выход общем фильм неплохой не очень страшный образ подземный царство отличный\n",
      "sequenced text:  ['▁довольно ▁неплохой ▁продолжение ▁ужаса ть ▁сериал ▁роман ▁клайв ▁бар кера ▁фильм ▁также ▁присутствовать ▁чувство ▁жанр ▁большой ▁количество ▁кровь ▁слегка ▁огор чить ▁вид ▁ад ▁столько ▁показать ▁нет ▁вместо ▁ги ена ▁огненной ▁чёр тик ▁красный ▁пи жа мах ▁тре зу бец ▁фильм ▁нам ▁показать ▁жут кий ▁мрачный ▁лабиринт ▁котором ▁не ▁просто ▁найти ▁выход ▁общем ▁фильм ▁неплохой ▁не ▁очень ▁страшный ▁образ ▁подземный ▁царство ▁отличный']\n",
      "predicted: 0, true label: 1\n",
      "\n",
      "\n",
      "text:  Товар не пришёл, но продавец вернул деньги\n",
      "preprocessed text:  товар не прийти продавец вернуть деньга\n",
      "sequenced text:  ['▁товар ▁не ▁прийти ▁продавец ▁вернуть ▁день га']\n",
      "predicted: -1, true label: 1\n",
      "\n",
      "\n",
      "text:  Да так... Если без шуток, то просто главный герой убил 7 миллиардов человек. Потому что ему с ними было как-то скучновато. Общественный строй какой-то странный. Хотелось домой. Всё правильно рассчитал.'Всё по плану!' (с) Вот и очередная инкарнация верной боевой подруги сразу в наличии. Везунчик. А ведь мог наш гений сыска остаться человеком. Мог. Тем более, прямым текстом предлагали. Идти во власть - и пахать. Коль считаешь, что вокруг много неверного, неестественного - постарайся исправить, чёрт возьми!! Не бойся, родной, остаться в истории чем-то вроде Горбачёва. Эти люди таковы во многом благодаря твоим благим намерениям. Но знаете ли, Маленький Принц - это совершенно не отсюда. Тут у нас налицо животворящий гибрид Люцифера с Тарасом Бульбой. В общем, для тех, кто понимает, 'эта штука посильнее Фауста' (с). До продюсеров Первого, правда, сей факт дошёл с некоторым опозданием. Сразу надо, товарищи, сериал до конца досматривать.Да, оценку чуть снижаю из-за довольно-таки многочисленных технических ляпов. \n",
      "preprocessed text:  так шутка просто главный герой убить миллиард человек ними как то скучноватый общественный строй какой то странный хотеться домой правильно рассчитать весь план ужасный продюсер первый правда сей факт дойти некоторый опоздание сразу надо товарищ сериал конец досматривать да оценка снижать из за довольно таки многочисленный технический ляп\n",
      "sequenced text:  ['▁так ▁шутка ▁просто ▁главный ▁герой ▁убить ▁миллиард ▁человек ▁ними ▁как ▁то ▁ску ч нова тый ▁общественный ▁строй ▁какой ▁то ▁странный ▁хоте ться ▁домой ▁правильно ▁рассчитать ▁весь ▁план ▁ужа сный ▁продюсер ▁первый ▁правда ▁сей ▁факт ▁дойти ▁некоторый ▁опо здание ▁сразу ▁надо ▁товарищ ▁сериал ▁конец ▁до сматри вать ▁да ▁оценка ▁сни жать ▁из ▁за ▁довольно ▁таки ▁многочисленный ▁технический ▁ля п']\n",
      "predicted: 0, true label: 1\n",
      "\n",
      "\n",
      "text:  по размеру подошли но очень короткие это минус\n",
      "preprocessed text:  размер подойти очень короткий это минус\n",
      "sequenced text:  ['▁размер ▁подойти ▁очень ▁короткий ▁это ▁минус']\n",
      "predicted: 0, true label: 1\n",
      "\n",
      "\n",
      "text:  Фильм, который затягивает с первых минут, и ты не можешь оторваться до самого его конца. Приятно то, что не было моментов, где какая-то сцена 'приелась', то есть сюжет раскрывался так, что тебе уставать не приходится - не быстро и не медленно. Он, кстати, такой, что зритель удивится в его крутых поворотах, что является изюминкой фильма о агенте ЦРУ.Игра актёров - превосходная, музыкальное сопровождение - на высоте. Единственное, что не понравилось, так это эффект мигания в начальных титрах - не приятно смотреть на экран. В общем, 'Рекрут' - динамичный эффектный фильм, оставляющий впечатления после просмотра.\n",
      "preprocessed text:  фильм который затягивать первый минута не мочь оторваться самого конец приятный то не момент какой то сцена приесться сюжет раскрываться так тебе уставать не приходиться не быстро не медленно он кстати такой зритель удивится крутой поворот являться изюминка фильм агент цру игра актёр превосходный музыкальный сопровождение высота единственный не понравиться это эффект мигание начальный титр не приятный смотреть экран общем рекрут динамичный эффектный фильм оставлять впечатление просмотр\n",
      "sequenced text:  ['▁фильм ▁который ▁затяги вать ▁первый ▁минута ▁не ▁мо чь ▁отор ваться ▁самого ▁конец ▁приятный ▁то ▁не ▁момент ▁какой ▁то ▁сцена ▁прие сть ся ▁сюжет ▁раскры ваться ▁так ▁тебе ▁уста вать ▁не ▁приходи ться ▁не ▁быстро ▁не ▁медленно ▁он ▁кстати ▁такой ▁зритель ▁уди вится ▁крутой ▁поворот ▁являться ▁изю минка ▁фильм ▁агент ▁цру ▁игра ▁актёр ▁превосход ный ▁музыкальный ▁сопровождение ▁высота ▁единственный ▁не ▁понра виться ▁это ▁эффект ▁мига ние ▁начальный ▁ти тр ▁не ▁приятный ▁смотреть ▁экран ▁общем ▁рек рут ▁динами чный ▁эффект ный ▁фильм ▁оставлять ▁впечатление ▁просмотр']\n",
      "predicted: 0, true label: 1\n",
      "\n",
      "\n"
     ]
    }
   ],
   "source": [
    "import itertools\n",
    "\n",
    "#для демонстрации ограничимся 50 примерами - в реальном проекте необходимо анализировать больше ошибок\n",
    "for i, row in itertools.islice(validation_explorations_fails.iterrows(), 50):\n",
    "    print('text: ', row['text'])\n",
    "    print('preprocessed text: ', row['preprocessed'])\n",
    "    print('sequenced text: ', tokenizer.sequences_to_texts([row['sequences']]))\n",
    "    print(f'predicted: {(row[\"pred_sentiment\"])}, true label: {(row[\"sentiment\"])}')\n",
    "    print()\n",
    "    print()"
   ]
  },
  {
   "cell_type": "code",
   "execution_count": 87,
   "metadata": {},
   "outputs": [
    {
     "name": "stderr",
     "output_type": "stream",
     "text": [
      "100%|██████████| 2625/2625 [00:00<00:00, 62485.73it/s]\n",
      "D:\\SoftwareProjects\\anaconda3\\envs\\tf-gpu\\lib\\site-packages\\ipykernel_launcher.py:4: SettingWithCopyWarning: \n",
      "A value is trying to be set on a copy of a slice from a DataFrame.\n",
      "Try using .loc[row_indexer,col_indexer] = value instead\n",
      "\n",
      "See the caveats in the documentation: https://pandas.pydata.org/pandas-docs/stable/user_guide/indexing.html#returning-a-view-versus-a-copy\n",
      "  after removing the cwd from sys.path.\n"
     ]
    }
   ],
   "source": [
    "def get_fail_group(row):\n",
    "    return f\"({row['sentiment']})-({row['pred_sentiment']})\"\n",
    "\n",
    "validation_explorations_fails['fail_group'] = validation_explorations_fails.progress_apply(get_fail_group, axis=1)"
   ]
  },
  {
   "cell_type": "code",
   "execution_count": 88,
   "metadata": {},
   "outputs": [
    {
     "data": {
      "text/plain": [
       "<AxesSubplot:>"
      ]
     },
     "execution_count": 88,
     "metadata": {},
     "output_type": "execute_result"
    },
    {
     "data": {
      "image/png": "[encoded data removed]",
      "text/plain": [
       "<Figure size 432x288 with 1 Axes>"
      ]
     },
     "metadata": {},
     "output_type": "display_data"
    }
   ],
   "source": [
    "validation_explorations_fails['fail_group'].hist()"
   ]
  },
  {
   "cell_type": "code",
   "execution_count": 107,
   "metadata": {},
   "outputs": [
    {
     "data": {
      "text/plain": [
       "array([<AxesSubplot:title={'center':'sentiment'}>], dtype=object)"
      ]
     },
     "execution_count": 107,
     "metadata": {},
     "output_type": "execute_result"
    },
    {
     "data": {
      "image/png": "[encoded data removed]",
      "text/plain": [
       "<Figure size 648x288 with 2 Axes>"
      ]
     },
     "metadata": {},
     "output_type": "display_data"
    }
   ],
   "source": [
    "fig, ax = plt.subplots(1, 2, sharex='col', sharey='row', figsize=(9, 4))\n",
    "validation_explorations_fails.hist(column='pred_sentiment', ax=ax[0])\n",
    "validation_explorations_fails.hist(column='sentiment', ax=ax[1])"
   ]
  },
  {
   "cell_type": "code",
   "execution_count": 91,
   "metadata": {},
   "outputs": [
    {
     "name": "stdout",
     "output_type": "stream",
     "text": [
      "              precision    recall  f1-score   support\n",
      "\n",
      "    positive       0.80      0.80      0.80      1000\n",
      "     neutral       0.62      0.61      0.61      1000\n",
      "    negative       0.74      0.74      0.74      1000\n",
      "\n",
      "   micro avg       0.72      0.72      0.72      3000\n",
      "   macro avg       0.72      0.72      0.72      3000\n",
      "weighted avg       0.72      0.72      0.72      3000\n",
      " samples avg       0.72      0.72      0.72      3000\n",
      "\n"
     ]
    }
   ],
   "source": [
    "import sklearn.metrics as skm\n",
    "testY_pred = model.predict(testX)\n",
    "testY_pred = np.argmax(testY_pred, axis=1)\n",
    "testY_pred = np.apply_along_axis(lambda x: to_categorical(x, num_classes=len(outputs_index)), 0, testY_pred)\n",
    "\n",
    "print(skm.classification_report(testY, testY_pred, target_names=['positive', 'neutral', 'negative']))"
   ]
  },
  {
   "cell_type": "markdown",
   "metadata": {},
   "source": [
    "# Выводы и комментарии\n",
    "\n",
    "Нейросеть редко допускает грубые ошибки, когда истинный лейбл является прямопротивоположным предсказанному.\n",
    "Частая ошибка нейросети заключается в присваивании нейтральных лейблов.\n",
    "\n",
    "Некоторые мысли насчет улучшения качества сети:\n",
    "* Система может показать лучший результат, если использовать ансамбль из нескольких нейронный сетей, натренированных на работу с текстами определенной длины, например, до 20 слов, до 50 слов и до 100 слов.\n",
    "* В реальных сообщениях человек может иронично назвать непонравившийся фильм \"шедевром\" в кавычках - возможно не стоит избавляться от всех символов.\n",
    "* Имеет смысл сети оставлять запятые, чтобы было понятно, к чему относится то или прилагательное.\n",
    "* Т.к. сеть имеет некоторый перекос в ошибках с нейтральными примерами, имеет смысл немного перебалансировать обучающий набор"
   ]
  },
  {
   "cell_type": "markdown",
   "metadata": {},
   "source": [
    "# K-fold валидация\n",
    "\n",
    "Финальная проверка - доказательство того, что точность модели не привязана к подобранным данным.\n",
    "В настоящем примере в силу ограниченностиы вычислительных возможностей не провожу."
   ]
  },
  {
   "cell_type": "raw",
   "metadata": {},
   "source": [
    "X, Y = get_arrayed_data(df.sample(frac=1))\n",
    "\n",
    "k = 10\n",
    "total = len(X)\n",
    "step = int(total/k)\n",
    "story = []\n",
    "evaluations = []\n",
    "for i in range(0, k):\n",
    "    print(f'{i+1}/{k}')       \n",
    "    inp = Input((max_sequence_length,))\n",
    "    \n",
    "    embedding_layer = Embedding(len(tokenizer.word_index) + 1, 100,\n",
    "                    weights=[embedding_matrix],\n",
    "                    input_length=max_sequence_length,\n",
    "                    embeddings_regularizer=regularizers.l2(0.001),\n",
    "                    trainable=True)\n",
    "    \n",
    "    x = embedding_layer(inp)\n",
    "    x = BatchNormalization()(x)\n",
    "\n",
    "    x = Conv1D(filters=64, kernel_size=3, padding='same', activation='relu',\n",
    "               kernel_regularizer=regularizers.l1(0.001),\n",
    "               bias_regularizer=regularizers.l1(0.001))(x)\n",
    "    x = BatchNormalization()(x)\n",
    "    x = AveragePooling1D(pool_size=2)(x)\n",
    "    x = Dropout(0.1)(x)\n",
    "\n",
    "    x = LSTM(64, activity_regularizer=regularizers.l1(0.0001))(x)\n",
    "    x = BatchNormalization()(x)\n",
    "\n",
    "    out = Dense(trainY.shape[1], activation='softmax')(x)\n",
    "    inner_model = Model(inp, out)\n",
    "\n",
    "    inner_model.compile(loss='categorical_crossentropy', optimizer='adam', metrics=['acc', f1, precision, recall])\n",
    "    \n",
    "    weights_path = f'kfold_{i+1}_best_weights_val_f1.hdf5'\n",
    "    save_best = ModelCheckpoint(weights_path, save_best_only=True, monitor='val_f1', mode='max')\n",
    "    reduce_lr = ReduceLROnPlateau(monitor='val_f1', mode='min', factor=0.2, patience=5, verbose=1, cooldown=3)\n",
    "\n",
    "    history = inner_model.fit(trainX, trainY, batch_size=32, validation_data=(validationX, validationY), callbacks=[save_best, reduce_lr], epochs=50, verbose=1)\n",
    "    story.append(history)\n",
    "    \n",
    "    inner_model.load_weights(weights_path)\n",
    "    evaluation_result = inner_model.evaluate(testX, testY)\n",
    "    evaluations.append(evaluation_result)"
   ]
  },
  {
   "cell_type": "raw",
   "metadata": {},
   "source": [
    "for i, h in enumerate(story):\n",
    "    plot_history(h.history, f'iteration {i+1}')"
   ]
  },
  {
   "cell_type": "raw",
   "metadata": {},
   "source": [
    "f1_scores = [eval_[1] for eval_ in evaluations]\n",
    "mean_f1 = np.mean(f1_scores)\n",
    "print(f'Средний показатель F1-метрики k-fold валидации при k={k}: {mean_f1}')"
   ]
  },
  {
   "cell_type": "markdown",
   "metadata": {},
   "source": [
    "# Экспорт модели"
   ]
  },
  {
   "cell_type": "code",
   "execution_count": 108,
   "metadata": {},
   "outputs": [],
   "source": [
    "model_json = model.to_json()\n",
    "with open(\"model/model-config.json\", \"w\") as json_file:\n",
    "    json_file.write(model_json)\n",
    "    \n",
    "model.save_weights(\"model/model-weights.h5\")"
   ]
  },
  {
   "cell_type": "code",
   "execution_count": null,
   "metadata": {},
   "outputs": [],
   "source": []
  }
 ],
 "metadata": {
  "kernelspec": {
   "display_name": "Python 3",
   "language": "python",
   "name": "python3"
  },
  "language_info": {
   "codemirror_mode": {
    "name": "ipython",
    "version": 3
   },
   "file_extension": ".py",
   "mimetype": "text/x-python",
   "name": "python",
   "nbconvert_exporter": "python",
   "pygments_lexer": "ipython3",
   "version": "3.7.9"
  }
 },
 "nbformat": 4,
 "nbformat_minor": 4
}
